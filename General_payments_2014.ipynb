{
 "cells": [
  {
   "cell_type": "code",
   "execution_count": 1,
   "metadata": {
    "collapsed": true
   },
   "outputs": [],
   "source": [
    "import pandas as pd"
   ]
  },
  {
   "cell_type": "code",
   "execution_count": 2,
   "metadata": {
    "collapsed": false
   },
   "outputs": [
    {
     "name": "stderr",
     "output_type": "stream",
     "text": [
      "/Users/epetenko/miniconda2/lib/python2.7/site-packages/IPython/core/interactiveshell.py:2717: DtypeWarning: Columns (23,24,62) have mixed types. Specify dtype option on import or set low_memory=False.\n",
      "  interactivity=interactivity, compiler=compiler, result=result)\n"
     ]
    }
   ],
   "source": [
    "df= pd.read_csv(\"General_Payment_Data___Detailed_Dataset_2014_Reporting_Year.csv\", dtype={'Physician_Profile_ID': 'S'} )"
   ]
  },
  {
   "cell_type": "code",
   "execution_count": 3,
   "metadata": {
    "collapsed": false
   },
   "outputs": [
    {
     "data": {
      "text/plain": [
       "Index([u'Change_Type', u'Covered_Recipient_Type', u'Teaching_Hospital_CCN',\n",
       "       u'Teaching_Hospital_ID', u'Teaching_Hospital_Name',\n",
       "       u'Physician_Profile_ID', u'Physician_First_Name',\n",
       "       u'Physician_Middle_Name', u'Physician_Last_Name',\n",
       "       u'Physician_Name_Suffix',\n",
       "       u'Recipient_Primary_Business_Street_Address_Line1',\n",
       "       u'Recipient_Primary_Business_Street_Address_Line2', u'Recipient_City',\n",
       "       u'Recipient_State', u'Recipient_Zip_Code', u'Recipient_Country',\n",
       "       u'Recipient_Province', u'Recipient_Postal_Code',\n",
       "       u'Physician_Primary_Type', u'Physician_Specialty',\n",
       "       u'Physician_License_State_code1', u'Physician_License_State_code2',\n",
       "       u'Physician_License_State_code3', u'Physician_License_State_code4',\n",
       "       u'Physician_License_State_code5',\n",
       "       u'Submitting_Applicable_Manufacturer_or_Applicable_GPO_Name',\n",
       "       u'Applicable_Manufacturer_or_Applicable_GPO_Making_Payment_ID',\n",
       "       u'Applicable_Manufacturer_or_Applicable_GPO_Making_Payment_Name',\n",
       "       u'Applicable_Manufacturer_or_Applicable_GPO_Making_Payment_State',\n",
       "       u'Applicable_Manufacturer_or_Applicable_GPO_Making_Payment_Country',\n",
       "       u'Total_Amount_of_Payment_USDollars', u'Date_of_Payment',\n",
       "       u'Number_of_Payments_Included_in_Total_Amount',\n",
       "       u'Form_of_Payment_or_Transfer_of_Value',\n",
       "       u'Nature_of_Payment_or_Transfer_of_Value', u'City_of_Travel',\n",
       "       u'State_of_Travel', u'Country_of_Travel',\n",
       "       u'Physician_Ownership_Indicator',\n",
       "       u'Third_Party_Payment_Recipient_Indicator',\n",
       "       u'Name_of_Third_Party_Entity_Receiving_Payment_or_Transfer_of_Value',\n",
       "       u'Charity_Indicator', u'Third_Party_Equals_Covered_Recipient_Indicator',\n",
       "       u'Contextual_Information', u'Delay_in_Publication_Indicator',\n",
       "       u'Record_ID', u'Dispute_Status_for_Publication', u'Product_Indicator',\n",
       "       u'Name_of_Associated_Covered_Drug_or_Biological1',\n",
       "       u'Name_of_Associated_Covered_Drug_or_Biological2',\n",
       "       u'Name_of_Associated_Covered_Drug_or_Biological3',\n",
       "       u'Name_of_Associated_Covered_Drug_or_Biological4',\n",
       "       u'Name_of_Associated_Covered_Drug_or_Biological5',\n",
       "       u'NDC_of_Associated_Covered_Drug_or_Biological1',\n",
       "       u'NDC_of_Associated_Covered_Drug_or_Biological2',\n",
       "       u'NDC_of_Associated_Covered_Drug_or_Biological3',\n",
       "       u'NDC_of_Associated_Covered_Drug_or_Biological4',\n",
       "       u'NDC_of_Associated_Covered_Drug_or_Biological5',\n",
       "       u'Name_of_Associated_Covered_Device_or_Medical_Supply1',\n",
       "       u'Name_of_Associated_Covered_Device_or_Medical_Supply2',\n",
       "       u'Name_of_Associated_Covered_Device_or_Medical_Supply3',\n",
       "       u'Name_of_Associated_Covered_Device_or_Medical_Supply4',\n",
       "       u'Name_of_Associated_Covered_Device_or_Medical_Supply5',\n",
       "       u'Program_Year', u'Payment_Publication_Date'],\n",
       "      dtype='object')"
      ]
     },
     "execution_count": 3,
     "metadata": {},
     "output_type": "execute_result"
    }
   ],
   "source": [
    "df.columns"
   ]
  },
  {
   "cell_type": "code",
   "execution_count": 4,
   "metadata": {
    "collapsed": true
   },
   "outputs": [],
   "source": [
    "df['Total_Amount_of_Payment_USDollars'] = df['Total_Amount_of_Payment_USDollars'].astype(float)"
   ]
  },
  {
   "cell_type": "code",
   "execution_count": 7,
   "metadata": {
    "collapsed": false
   },
   "outputs": [],
   "source": [
    "matalon = df[df[\"Physician_Last_Name\"] == \"MATALON\"]"
   ]
  },
  {
   "cell_type": "code",
   "execution_count": 9,
   "metadata": {
    "collapsed": false
   },
   "outputs": [
    {
     "data": {
      "text/plain": [
       "Submitting_Applicable_Manufacturer_or_Applicable_GPO_Name\n",
       "AbbVie, Inc.                                  955.60\n",
       "Takeda Pharmaceuticals U.S.A., Inc.           321.71\n",
       "Janssen Pharmaceuticals, Inc                  301.55\n",
       "Pfizer Inc.                                   216.37\n",
       "Novo Nordisk Inc                              197.52\n",
       "Purdue Pharma L.P.                            192.93\n",
       "INSYS Therapeutics Inc                        176.03\n",
       "Salix Pharmaceuticals, Ltd                    155.51\n",
       "Eisai Inc.                                    132.55\n",
       "Baxter Healthcare                              92.88\n",
       "Endo Pharmaceuticals Inc.                      39.50\n",
       "VIVUS, Inc.                                    15.37\n",
       "Eli Lilly and Company                          14.23\n",
       "Boehringer Ingelheim Pharmaceuticals, Inc.     12.54\n",
       "Forest Laboratories, Inc.                      10.88\n",
       "BOSTON SCIENTIFIC CORPORATION                  10.36\n",
       "Name: Total_Amount_of_Payment_USDollars, dtype: float64"
      ]
     },
     "execution_count": 9,
     "metadata": {},
     "output_type": "execute_result"
    }
   ],
   "source": [
    "matalon.pivot_table(index='Submitting_Applicable_Manufacturer_or_Applicable_GPO_Name', values='Total_Amount_of_Payment_USDollars', aggfunc=sum).sort_values(ascending=False)"
   ]
  },
  {
   "cell_type": "code",
   "execution_count": 5,
   "metadata": {
    "collapsed": false
   },
   "outputs": [],
   "source": [
    "top_drugs = df.groupby(\"Name_of_Associated_Covered_Drug_or_Biological1\").sum().iloc[:,5].sort_values(ascending=False)"
   ]
  },
  {
   "cell_type": "code",
   "execution_count": 7,
   "metadata": {
    "collapsed": true
   },
   "outputs": [],
   "source": [
    "top_NJcities = df.groupby('Recipient_City').sum().iloc[:,6].sort_values(ascending=False)"
   ]
  },
  {
   "cell_type": "code",
   "execution_count": 8,
   "metadata": {
    "collapsed": false
   },
   "outputs": [],
   "source": [
    "categories = df.groupby('Nature_of_Payment_or_Transfer_of_Value').sum().iloc[:,5].sort_values(ascending=False)"
   ]
  },
  {
   "cell_type": "code",
   "execution_count": 9,
   "metadata": {
    "collapsed": false
   },
   "outputs": [
    {
     "data": {
      "text/plain": [
       "Nature_of_Payment_or_Transfer_of_Value\n",
       "Compensation for services other than consulting, including serving as faculty or as a speaker at a venue other than a continuing education program    1.455745e+07\n",
       "Consulting Fee                                                                                                                                        1.071548e+07\n",
       "Food and Beverage                                                                                                                                     9.758228e+06\n",
       "Royalty or License                                                                                                                                    5.944905e+06\n",
       "Travel and Lodging                                                                                                                                    4.388671e+06\n",
       "Honoraria                                                                                                                                             2.932646e+06\n",
       "Education                                                                                                                                             1.732662e+06\n",
       "Space rental or facility fees(teaching hospital only)                                                                                                 1.358199e+06\n",
       "Gift                                                                                                                                                  8.978881e+05\n",
       "Grant                                                                                                                                                 8.747333e+05\n",
       "Compensation for serving as faculty or as a speaker for a non-accredited and noncertified continuing education program                                7.427841e+05\n",
       "Charitable Contribution                                                                                                                               4.731246e+05\n",
       "Compensation for serving as faculty or as a speaker for an accredited or certified continuing education program                                       2.026061e+05\n",
       "Current or prospective ownership or investment interest                                                                                               8.598337e+04\n",
       "Entertainment                                                                                                                                         1.575822e+04\n",
       "Name: Total_Amount_of_Payment_USDollars, dtype: float64"
      ]
     },
     "execution_count": 9,
     "metadata": {},
     "output_type": "execute_result"
    }
   ],
   "source": [
    "categories"
   ]
  },
  {
   "cell_type": "code",
   "execution_count": 10,
   "metadata": {
    "collapsed": false
   },
   "outputs": [],
   "source": [
    "biggest_payers = df.groupby('Submitting_Applicable_Manufacturer_or_Applicable_GPO_Name').sum().iloc[:,6].sort_values(ascending=False)"
   ]
  },
  {
   "cell_type": "code",
   "execution_count": 11,
   "metadata": {
    "collapsed": false
   },
   "outputs": [],
   "source": [
    "biggest_takers = df.groupby('Physician_Profile_ID').sum().iloc[:,5].sort_values(ascending=False)"
   ]
  },
  {
   "cell_type": "code",
   "execution_count": 15,
   "metadata": {
    "collapsed": false
   },
   "outputs": [],
   "source": [
    "top_drugs.to_csv(\"2014data/top_drugs_2014.csv\")"
   ]
  },
  {
   "cell_type": "code",
   "execution_count": 16,
   "metadata": {
    "collapsed": false
   },
   "outputs": [
    {
     "data": {
      "text/plain": [
       "54681116.99000505"
      ]
     },
     "execution_count": 16,
     "metadata": {},
     "output_type": "execute_result"
    }
   ],
   "source": [
    "df['Total_Amount_of_Payment_USDollars'].sum()"
   ]
  },
  {
   "cell_type": "code",
   "execution_count": 17,
   "metadata": {
    "collapsed": false
   },
   "outputs": [],
   "source": [
    "top_hospitals = df.groupby('Teaching_Hospital_Name').sum().iloc[:,6].sort_values(ascending=False)"
   ]
  },
  {
   "cell_type": "code",
   "execution_count": 18,
   "metadata": {
    "collapsed": false
   },
   "outputs": [],
   "source": [
    "top_doctors = df.pivot_table(index=[\"Physician_Profile_ID\", 'Physician_First_Name', 'Physician_Last_Name'], aggfunc=sum).sort_values(by=\"Total_Amount_of_Payment_USDollars\", ascending=False)"
   ]
  },
  {
   "cell_type": "code",
   "execution_count": 16,
   "metadata": {
    "collapsed": true
   },
   "outputs": [],
   "source": [
    "top_doctors_details = df.pivot_table(index=[\"Physician_Profile_ID\", 'Physician_First_Name', 'Physician_Last_Name', \"Applicable_Manufacturer_or_Applicable_GPO_Making_Payment_Name\", \"Nature_of_Payment_or_Transfer_of_Value\"], aggfunc=sum).sort_values(by=\"Total_Amount_of_Payment_USDollars\", ascending=False)"
   ]
  },
  {
   "cell_type": "code",
   "execution_count": 6,
   "metadata": {
    "collapsed": false
   },
   "outputs": [
    {
     "data": {
      "text/plain": [
       "1543"
      ]
     },
     "execution_count": 6,
     "metadata": {},
     "output_type": "execute_result"
    }
   ],
   "source": [
    "#used this to search for docs under each drug name\n",
    "#used \"top drugs\" spreadsheet to make sure was using correct names\n",
    "#also searched under \"Name...Biological2\", \"Name...Biological3\", etc. \n",
    "#and used csvstack to combine all of those into one document\n",
    "\n",
    "subsys = df[df['Name_of_Associated_Covered_Drug_or_Biological1'] == \"Subsys\"]\n",
    "subsys['Physician_Profile_ID'].count()"
   ]
  },
  {
   "cell_type": "code",
   "execution_count": 24,
   "metadata": {
    "collapsed": false
   },
   "outputs": [],
   "source": [
    "subsys.to_csv(\"2014data/Subsys.csv\")"
   ]
  },
  {
   "cell_type": "code",
   "execution_count": 25,
   "metadata": {
    "collapsed": false
   },
   "outputs": [
    {
     "data": {
      "text/plain": [
       "Physician_Profile_ID  Physician_First_Name  Physician_Last_Name\n",
       "345992                APURV                 AGRAWAL                80044.17\n",
       "206178                DAVID                 CONYACK                70668.26\n",
       "121352                MUKARAM               GAZI                   70259.48\n",
       "344896                MANOJ                 PATHARKAR              48506.56\n",
       "311919                SERGE                 MENKIN                 38857.24\n",
       "26227                 KIERAN                SLEVIN                 38251.66\n",
       "977249                JOSE                  CONTRERAS              30189.64\n",
       "61465                 FELIX                 ROQUE                  30128.63\n",
       "21886                 SAMYADEV              DATTA                  27600.56\n",
       "106319                GARY                  YEN                    25477.23\n",
       "168121                ROBERT                CHAPDELAINE            24979.24\n",
       "219255                JEFFREY               GUDIN                  23656.07\n",
       "316185                HANG                  PAK                    19956.39\n",
       "46102                 AMER                  SYED                   15867.06\n",
       "201446                ANDREW                KAUFMAN                10376.21\n",
       "225940                MANISH                SINGH                   7922.20\n",
       "145653                LOUIS                 SPAGNOLETTI             6294.93\n",
       "299354                CARL                  HENNINGSON              5907.80\n",
       "1134320               JENNIFER              SAYANLAR                4099.96\n",
       "88282                 NEIL                  SINHA                   2693.52\n",
       "Name: Total_Amount_of_Payment_USDollars, dtype: float64"
      ]
     },
     "execution_count": 25,
     "metadata": {},
     "output_type": "execute_result"
    }
   ],
   "source": [
    "subsys.pivot_table(index=['Physician_Profile_ID','Physician_First_Name','Physician_Last_Name'],values='Total_Amount_of_Payment_USDollars', aggfunc=sum).sort_values(ascending=False).head(20)\n",
    "#Subsys manufactured by Insys"
   ]
  },
  {
   "cell_type": "code",
   "execution_count": 9,
   "metadata": {
    "collapsed": false
   },
   "outputs": [
    {
     "data": {
      "text/plain": [
       "619394.5500000006"
      ]
     },
     "execution_count": 9,
     "metadata": {},
     "output_type": "execute_result"
    }
   ],
   "source": [
    "subsys[\"Total_Amount_of_Payment_USDollars\"].sum()"
   ]
  },
  {
   "cell_type": "code",
   "execution_count": 20,
   "metadata": {
    "collapsed": false
   },
   "outputs": [],
   "source": [
    "#taken from CMS list of opioids\n",
    "#https://www.cms.gov/Research-Statistics-Data-and-Systems/Statistics-Trends-and-Reports/Medicare-Provider-Charge-Data/Downloads/Prescriber_Methods.pdf\n",
    "allopioids = ['ABSTRAL', \n",
    "'ACETAMINOPHEN-CODEINE', \n",
    "'ACTIQ', \n",
    "'ASCOMP WITH CODEINE', \n",
    "'ASPIRIN-CAFFEINE-DIHYDROCODEIN', \n",
    "'AVINZA', \n",
    "'BELLADONNA-OPIUM', \n",
    "'BUPRENORPHINE HCL', \n",
    "'BUTALB-ACETAMINOPH-CAFF-CODEIN', \n",
    "'BUTALB-CAFF-ACETAMINOPH-CODEIN', \n",
    "'BUTALBITAL COMPOUND-CODEINE', \n",
    "'BUTORPHANOL TARTRATE', \n",
    "'BUTRANS', \n",
    "'CAPITAL W-CODEINE', \n",
    "'CARISOPRODOL COMPOUND-CODEINE', \n",
    "'CARISOPRODOL-ASPIRIN-CODEINE', \n",
    "'CODEINE SULFATE', \n",
    "'CO-GESIC', \n",
    "'CONZIP', \n",
    "'DEMEROL', \n",
    "'DEMEROL', \n",
    "'DILAUDID', \n",
    "'DILAUDID', \n",
    "'DILAUDID-HP', \n",
    "'DISKETS', \n",
    "'DOLOPHINE HCL', \n",
    "'DURAGESIC', \n",
    "'DURAMORPH', \n",
    "'ENDOCET', \n",
    "'ENDODAN', \n",
    "'EXALGO', \n",
    "'FENTANYL', \n",
    "'FENTANYL CITRATE', \n",
    "'FENTORA', \n",
    "'FIORICET WITH CODEINE', \n",
    "'FIORINAL WITH CODEINE #3', \n",
    "'HYCET', \n",
    "'HYDROCODONE-ACETAMINOPHEN', \n",
    "'HYDROCODONE-IBUPROFEN', \n",
    "'HYDROMORPHONE ER', \n",
    "'HYDROMORPHONE HCL', \n",
    "'HYDROMORPHONE HCL', \n",
    "'IBUDONE', \n",
    "'INFUMORPH', \n",
    "'KADIAN', \n",
    "'LAZANDA', \n",
    "'LEVORPHANOL TARTRATE', \n",
    "'LORCET', \n",
    "'LORCET 10-650', \n",
    "'LORCET HD', \n",
    "'LORCET PLUS', \n",
    "'LORTAB', \n",
    "'MAGNACET', \n",
    "'MEPERIDINE HCL', \n",
    "'MEPERIDINE HCL', \n",
    "'MEPERITAB', \n",
    "'METHADONE HCL', \n",
    "'METHADONE INTENSOL', \n",
    "'METHADOSE', \n",
    "'MORPHINE SULFATE', \n",
    "'MORPHINE SULFATE', \n",
    "'MORPHINE SULFATE ER', \n",
    "'MS CONTIN', \n",
    "'NALBUPHINE HCL', \n",
    "'NORCO', \n",
    "'NUCYNTA', \n",
    "'NUCYNTA ER', \n",
    "'OPANA', \n",
    "'OPANA ER', \n",
    "'OPIUM TINCTURE', \n",
    "'OXECTA', \n",
    "'OXYCODONE HCL', \n",
    "'OXYCODONE HCL ER', \n",
    "'OXYCODONE HCL-ASPIRIN', \n",
    "'OXYCODONE HCL-IBUPROFEN', \n",
    "'OXYCODONE-ACETAMINOPHEN', \n",
    "'OXYCONTIN', \n",
    "'OXYMORPHONE HCL', \n",
    "'OXYMORPHONE HCL ER', \n",
    "'PENTAZOCINE-ACETAMINOPHEN', \n",
    "'PENTAZOCINE-NALOXONE HCL', \n",
    "'PERCOCET', \n",
    "'PERCODAN', \n",
    "'PRIMLEV', \n",
    "'REPREXAIN', \n",
    "'ROXICET', \n",
    "'ROXICODONE', \n",
    "'RYBIX ODT', \n",
    "'STAGESIC', \n",
    "'SUBSYS', \n",
    "'SYNALGOS-DC', \n",
    "'TALWIN', \n",
    "'TRAMADOL HCL', \n",
    "'TRAMADOL HCL ER', \n",
    "'TRAMADOL HCL-ACETAMINOPHEN', \n",
    "'TREZIX', \n",
    "'TYLENOL-CODEINE NO.3', \n",
    "'TYLENOL-CODEINE NO.4', \n",
    "'ULTRACET', \n",
    "'ULTRAM', \n",
    "'ULTRAM ER', \n",
    "'VICODIN', \n",
    "'VICODIN ES', \n",
    "'VICODIN HP', \n",
    "'VICOPROFEN', \n",
    "'XARTEMIS XR', \n",
    "'XODOL 10-300', \n",
    "'XODOL 5-300', \n",
    "'XODOL 7.5-300', \n",
    "'XYLON 10', \n",
    "'ZAMICET', \n",
    "'ZOHYDRO ER', \n",
    "'ZOLVIT']"
   ]
  },
  {
   "cell_type": "code",
   "execution_count": 21,
   "metadata": {
    "collapsed": true
   },
   "outputs": [],
   "source": [
    "def druglist():\n",
    "    for n in allopioids:\n",
    "        thisdrug = df[df['Name_of_Associated_Covered_Drug_or_Biological1'] == n]\n",
    "        if thisdrug['Physician_Profile_ID'].count() > 1:\n",
    "            thisdrug.to_csv(\"2014data/(%s).csv\" %n)\n"
   ]
  },
  {
   "cell_type": "code",
   "execution_count": 22,
   "metadata": {
    "collapsed": false,
    "scrolled": true
   },
   "outputs": [],
   "source": [
    "druglist()"
   ]
  },
  {
   "cell_type": "code",
   "execution_count": null,
   "metadata": {
    "collapsed": true
   },
   "outputs": [],
   "source": [
    "# emb = pd.read_csv(\"2014data/.csv\")\n",
    "# emb.head()\n",
    "\n",
    "# emb.pivot_table(index=['Physician_Profile_ID','Physician_First_Name','Physician_Last_Name'],values='Total_Amount_of_Payment_USDollars', aggfunc=sum).sort_values(ascending=False).head(20)\n",
    "# #embeda owned by Pfizer"
   ]
  },
  {
   "cell_type": "code",
   "execution_count": 26,
   "metadata": {
    "collapsed": false
   },
   "outputs": [
    {
     "data": {
      "text/plain": [
       "Physician_Profile_ID  Physician_First_Name  Physician_Last_Name\n",
       "98487                 ROBERT                MARINI                 6.00\n",
       "305695                BARRY                 FASS                   4.17\n",
       "238847                SANDEEP               RATHI                  4.17\n",
       "26227                 KIERAN                SLEVIN                 4.17\n",
       "Name: Total_Amount_of_Payment_USDollars, dtype: float64"
      ]
     },
     "execution_count": 26,
     "metadata": {},
     "output_type": "execute_result"
    }
   ],
   "source": [
    "nuc = pd.read_csv(\"2014data/(NUCYNTA).csv\")\n",
    "nuc.head()\n",
    "\n",
    "nuc.pivot_table(index=['Physician_Profile_ID','Physician_First_Name','Physician_Last_Name'],values='Total_Amount_of_Payment_USDollars', aggfunc=sum).sort_values(ascending=False).head(20)\n",
    "#appears to be manufactured by Depomed now\n",
    "#but was acquired by Janssen in 2015"
   ]
  },
  {
   "cell_type": "code",
   "execution_count": 27,
   "metadata": {
    "collapsed": false
   },
   "outputs": [
    {
     "data": {
      "text/plain": [
       "Physician_Profile_ID  Physician_First_Name  Physician_Last_Name\n",
       "30315                 RISHIN                PATEL                  152.75\n",
       "225940                MANISH                SINGH                   99.46\n",
       "327281                JOHN                  PARK                    99.06\n",
       "1076765               JOHN                  DACONTI                 87.32\n",
       "291820                GARY                  BUCK                    83.60\n",
       "82696                 RAUL                  VALCARCEL               72.38\n",
       "226360                SARATH                BABU                    54.69\n",
       "26227                 KIERAN                SLEVIN                  46.56\n",
       "30528                 PAMELA                TRAISAK                 39.50\n",
       "85753                 GABRIELLA             GUTMAN                  39.50\n",
       "Name: Total_Amount_of_Payment_USDollars, dtype: float64"
      ]
     },
     "execution_count": 27,
     "metadata": {},
     "output_type": "execute_result"
    }
   ],
   "source": [
    "opa = pd.read_csv(\"2014data/(OPANA ER).csv\")\n",
    "opa.head()\n",
    "\n",
    "opa.pivot_table(index=['Physician_Profile_ID','Physician_First_Name','Physician_Last_Name'],values='Total_Amount_of_Payment_USDollars', aggfunc=sum).sort_values(ascending=False).head(10)\n",
    "#owned by Endo Pharma, which also manufacturers Percs\n",
    "#payments totaled ~600"
   ]
  },
  {
   "cell_type": "code",
   "execution_count": 28,
   "metadata": {
    "collapsed": false
   },
   "outputs": [
    {
     "data": {
      "text/plain": [
       "Physician_Profile_ID  Physician_First_Name  Physician_Last_Name\n",
       "145653                Louis                 Spagnoletti            6389.31\n",
       "150502                JOSEPH                VALENZA                6286.93\n",
       "1134320               JENNIFER              SAYANLAR                502.79\n",
       "311919                SERGE                 MENKIN                  266.38\n",
       "270452                MICHAEL               DOBROW                  225.39\n",
       "268600                TODD                  KOPPEL                  181.37\n",
       "139483                FRANCIS               FORTE                   139.74\n",
       "292899                SETH                  STOLLER                 128.08\n",
       "277474                ISAIAH                FLORENCE                114.18\n",
       "682478                SUSAN                 SISBARRO                110.45\n",
       "Name: Total_Amount_of_Payment_USDollars, dtype: float64"
      ]
     },
     "execution_count": 28,
     "metadata": {},
     "output_type": "execute_result"
    }
   ],
   "source": [
    "abstral = pd.read_csv(\"2014data/(ABSTRAL).csv\")\n",
    "abstral.head()\n",
    "\n",
    "abstral.pivot_table(index=['Physician_Profile_ID','Physician_First_Name','Physician_Last_Name'],values='Total_Amount_of_Payment_USDollars', aggfunc=sum).sort_values(ascending=False).head(10)\n",
    "#submitted by Galena\n",
    "#owned by sentyl"
   ]
  },
  {
   "cell_type": "code",
   "execution_count": 10,
   "metadata": {
    "collapsed": false
   },
   "outputs": [
    {
     "data": {
      "text/plain": [
       "Physician_Profile_ID  Physician_First_Name  Physician_Last_Name\n",
       "150502                Joseph                Valenza                51341.14\n",
       "145653                Louis                 Spagnoletti            29410.53\n",
       "219255                Jeffrey               Gudin                  11300.19\n",
       "140224                Benjamin              Duckles                10784.50\n",
       "82076                 Jay                   Bowen                   9972.97\n",
       "225940                Manish                Singh                   4986.61\n",
       "26227                 Kieran                Slevin                  4906.91\n",
       "210831                Matthew               Lipp                    3908.46\n",
       "201446                Andrew                Kaufman                 3858.07\n",
       "118540                Jessica               Israel                  2416.79\n",
       "Name: Total_Amount_of_Payment_USDollars, dtype: float64"
      ]
     },
     "execution_count": 10,
     "metadata": {},
     "output_type": "execute_result"
    }
   ],
   "source": [
    "fentora = pd.read_csv(\"2014data/(FENTORA).csv\")\n",
    "\n",
    "fentora.pivot_table(index=['Physician_Profile_ID','Physician_First_Name','Physician_Last_Name'],values='Total_Amount_of_Payment_USDollars', aggfunc=sum).sort_values(ascending=False).head(10)\n",
    "#by Teva?"
   ]
  },
  {
   "cell_type": "code",
   "execution_count": 11,
   "metadata": {
    "collapsed": false
   },
   "outputs": [
    {
     "data": {
      "text/plain": [
       "143616.1300000001"
      ]
     },
     "execution_count": 11,
     "metadata": {},
     "output_type": "execute_result"
    }
   ],
   "source": [
    "fentora[\"Total_Amount_of_Payment_USDollars\"].sum()"
   ]
  },
  {
   "cell_type": "code",
   "execution_count": 36,
   "metadata": {
    "collapsed": false
   },
   "outputs": [
    {
     "data": {
      "text/plain": [
       "Physician_Profile_ID  Physician_First_Name  Physician_Last_Name\n",
       "150502                JOSEPH                VALENZA                2160.46\n",
       "327281                JOHN                  PARK                   1729.12\n",
       "158234                ANTHONY               GREENBERG               142.95\n",
       "1298924               JOHN                  VITOLO                  124.55\n",
       "82023                 THOMAS                LAMMERTSE               124.55\n",
       "203705                MICHELINA             DESANTI                 124.55\n",
       "140224                BENJAMIN              DUCKLES                  67.07\n",
       "109447                MICHAEL               DISTEFANO                38.09\n",
       "138603                ROBERT                KAYAL                    32.00\n",
       "43814                 ANTHONY               SERGI                    27.50\n",
       "Name: Total_Amount_of_Payment_USDollars, dtype: float64"
      ]
     },
     "execution_count": 36,
     "metadata": {},
     "output_type": "execute_result"
    }
   ],
   "source": [
    "# xar = pd.read_csv(\"Opioid_payments/(XARTEMIS XR).csv\")\n",
    "\n",
    "# xar.pivot_table(index=['Physician_Profile_ID','Physician_First_Name','Physician_Last_Name'],values='Total_Amount_of_Payment_USDollars', aggfunc=sum).sort_values(ascending=False).head(10)\n",
    "# #by Mallinckrodt"
   ]
  },
  {
   "cell_type": "code",
   "execution_count": 39,
   "metadata": {
    "collapsed": false
   },
   "outputs": [
    {
     "data": {
      "text/plain": [
       "Physician_Profile_ID  Physician_First_Name  Physician_Last_Name\n",
       "150502                JOSEPH                VALENZA                4308.57\n",
       "939289                JOSHUA                ARMSTRONG               124.73\n",
       "191664                JOSEPH                IBRAHIM                 118.82\n",
       "309166                KAZIMIERZ             SZCZECH                 113.41\n",
       "124983                RICHARD               HADDAD                   79.88\n",
       "158234                ANTHONY               GREENBERG                73.79\n",
       "345990                ASMA                  SIDDIQUI                 70.90\n",
       "268600                TODD                  KOPPEL                   66.12\n",
       "26227                 KIERAN                SLEVIN                   59.70\n",
       "1173710               IVAN                  CHEN                     56.52\n",
       "Name: Total_Amount_of_Payment_USDollars, dtype: float64"
      ]
     },
     "execution_count": 39,
     "metadata": {},
     "output_type": "execute_result"
    }
   ],
   "source": [
    "# zoh = pd.read_csv(\"Opioid_payments/(ZOHYDRO ER).csv\")\n",
    "\n",
    "# zoh.pivot_table(index=['Physician_Profile_ID','Physician_First_Name','Physician_Last_Name'],values='Total_Amount_of_Payment_USDollars', aggfunc=sum).sort_values(ascending=False).head(10)\n",
    "# #by Pernix"
   ]
  },
  {
   "cell_type": "code",
   "execution_count": 30,
   "metadata": {
    "collapsed": true
   },
   "outputs": [],
   "source": [
    "def druglistsecondary():\n",
    "    for n in allopioids:\n",
    "        thisdrug = df[df['Name_of_Associated_Covered_Drug_or_Biological2'] == n]\n",
    "        thisdrugthree = df[df['Name_of_Associated_Covered_Drug_or_Biological3'] == n]\n",
    "        thisdrugfour = df[df['Name_of_Associated_Covered_Drug_or_Biological4'] == n]\n",
    "        if thisdrug['Physician_Profile_ID'].count() > 1:\n",
    "            thisdrug.to_csv(\"Opioid_payments/(%s)2.csv\" %n)\n",
    "            if thisdrugthree['Physician_Profile_ID'].count() > 1:\n",
    "                thisdrugthree.to_csv(\"Opioid_payments/(%s)3.csv\" %n)\n",
    "                if thisdrugfour['Physician_Profile_ID'].count() > 1:\n",
    "                    thisdrugfour.to_csv(\"Opioid_payments/(%s)4.csv\" %n)\n",
    "        if thisdrugthree['Physician_Profile_ID'].count() > 1:\n",
    "            thisdrug.to_csv(\"Opioid_payments/(%s)3.csv\" %n)\n",
    "            if thisdrugfour['Physician_Profile_ID'].count() > 1:\n",
    "                thisdrugfour.to_csv(\"Opioid_payments/(%s)4.csv\" %n)\n",
    "        if thisdrugfour['Physician_Profile_ID'].count() > 1:\n",
    "            thisdrugfour.to_csv(\"Opioid_payments/(%s)4.csv\" %n)"
   ]
  },
  {
   "cell_type": "code",
   "execution_count": 31,
   "metadata": {
    "collapsed": true
   },
   "outputs": [],
   "source": [
    "druglistsecondary()"
   ]
  },
  {
   "cell_type": "code",
   "execution_count": 36,
   "metadata": {
    "collapsed": false,
    "scrolled": true
   },
   "outputs": [
    {
     "data": {
      "text/html": [
       "<div>\n",
       "<table border=\"1\" class=\"dataframe\">\n",
       "  <thead>\n",
       "    <tr style=\"text-align: right;\">\n",
       "      <th></th>\n",
       "      <th>Change_Type</th>\n",
       "      <th>Covered_Recipient_Type</th>\n",
       "      <th>Teaching_Hospital_CCN</th>\n",
       "      <th>Teaching_Hospital_ID</th>\n",
       "      <th>Teaching_Hospital_Name</th>\n",
       "      <th>Physician_Profile_ID</th>\n",
       "      <th>Physician_First_Name</th>\n",
       "      <th>Physician_Middle_Name</th>\n",
       "      <th>Physician_Last_Name</th>\n",
       "      <th>Physician_Name_Suffix</th>\n",
       "      <th>...</th>\n",
       "      <th>NDC_of_Associated_Covered_Drug_or_Biological3</th>\n",
       "      <th>NDC_of_Associated_Covered_Drug_or_Biological4</th>\n",
       "      <th>NDC_of_Associated_Covered_Drug_or_Biological5</th>\n",
       "      <th>Name_of_Associated_Covered_Device_or_Medical_Supply1</th>\n",
       "      <th>Name_of_Associated_Covered_Device_or_Medical_Supply2</th>\n",
       "      <th>Name_of_Associated_Covered_Device_or_Medical_Supply3</th>\n",
       "      <th>Name_of_Associated_Covered_Device_or_Medical_Supply4</th>\n",
       "      <th>Name_of_Associated_Covered_Device_or_Medical_Supply5</th>\n",
       "      <th>Program_Year</th>\n",
       "      <th>Payment_Publication_Date</th>\n",
       "    </tr>\n",
       "  </thead>\n",
       "  <tbody>\n",
       "  </tbody>\n",
       "</table>\n",
       "<p>0 rows × 65 columns</p>\n",
       "</div>"
      ],
      "text/plain": [
       "Empty DataFrame\n",
       "Columns: [Change_Type, Covered_Recipient_Type, Teaching_Hospital_CCN, Teaching_Hospital_ID, Teaching_Hospital_Name, Physician_Profile_ID, Physician_First_Name, Physician_Middle_Name, Physician_Last_Name, Physician_Name_Suffix, Recipient_Primary_Business_Street_Address_Line1, Recipient_Primary_Business_Street_Address_Line2, Recipient_City, Recipient_State, Recipient_Zip_Code, Recipient_Country, Recipient_Province, Recipient_Postal_Code, Physician_Primary_Type, Physician_Specialty, Physician_License_State_code1, Physician_License_State_code2, Physician_License_State_code3, Physician_License_State_code4, Physician_License_State_code5, Submitting_Applicable_Manufacturer_or_Applicable_GPO_Name, Applicable_Manufacturer_or_Applicable_GPO_Making_Payment_ID, Applicable_Manufacturer_or_Applicable_GPO_Making_Payment_Name, Applicable_Manufacturer_or_Applicable_GPO_Making_Payment_State, Applicable_Manufacturer_or_Applicable_GPO_Making_Payment_Country, Total_Amount_of_Payment_USDollars, Date_of_Payment, Number_of_Payments_Included_in_Total_Amount, Form_of_Payment_or_Transfer_of_Value, Nature_of_Payment_or_Transfer_of_Value, City_of_Travel, State_of_Travel, Country_of_Travel, Physician_Ownership_Indicator, Third_Party_Payment_Recipient_Indicator, Name_of_Third_Party_Entity_Receiving_Payment_or_Transfer_of_Value, Charity_Indicator, Third_Party_Equals_Covered_Recipient_Indicator, Contextual_Information, Delay_in_Publication_Indicator, Record_ID, Dispute_Status_for_Publication, Product_Indicator, Name_of_Associated_Covered_Drug_or_Biological1, Name_of_Associated_Covered_Drug_or_Biological2, Name_of_Associated_Covered_Drug_or_Biological3, Name_of_Associated_Covered_Drug_or_Biological4, Name_of_Associated_Covered_Drug_or_Biological5, NDC_of_Associated_Covered_Drug_or_Biological1, NDC_of_Associated_Covered_Drug_or_Biological2, NDC_of_Associated_Covered_Drug_or_Biological3, NDC_of_Associated_Covered_Drug_or_Biological4, NDC_of_Associated_Covered_Drug_or_Biological5, Name_of_Associated_Covered_Device_or_Medical_Supply1, Name_of_Associated_Covered_Device_or_Medical_Supply2, Name_of_Associated_Covered_Device_or_Medical_Supply3, Name_of_Associated_Covered_Device_or_Medical_Supply4, Name_of_Associated_Covered_Device_or_Medical_Supply5, Program_Year, Payment_Publication_Date]\n",
       "Index: []\n",
       "\n",
       "[0 rows x 65 columns]"
      ]
     },
     "execution_count": 36,
     "metadata": {},
     "output_type": "execute_result"
    }
   ],
   "source": [
    "df[df['Name_of_Associated_Covered_Drug_or_Biological4'] == \"OXYCONTIN\"]"
   ]
  },
  {
   "cell_type": "code",
   "execution_count": 38,
   "metadata": {
    "collapsed": false
   },
   "outputs": [
    {
     "data": {
      "text/plain": [
       "Physician_Profile_ID  Physician_First_Name  Physician_Last_Name\n",
       "161164                QAISAR                USMANI                 211.72\n",
       "312151                TED                   FREEMAN                203.49\n",
       "44592                 SHAHZAD               HUSSAIN                190.67\n",
       "131006                KEVIN                 DUNN                   188.95\n",
       "237550                GERARD                MALANGA                180.13\n",
       "347609                MONTE                 HABER                  174.51\n",
       "294486                VIVEK                 DAS                    173.27\n",
       "109447                MICHAEL               DISTEFANO              171.54\n",
       "27461                 EDWARD                PRINS                  168.08\n",
       "1237597               MUHAMMED              AYUB                   167.60\n",
       "Name: Total_Amount_of_Payment_USDollars, dtype: float64"
      ]
     },
     "execution_count": 38,
     "metadata": {},
     "output_type": "execute_result"
    }
   ],
   "source": [
    "oxy = pd.read_csv(\"2014data/Oxycontintotal.csv\")\n",
    "\n",
    "oxy.pivot_table(index=['Physician_Profile_ID','Physician_First_Name','Physician_Last_Name'],values='Total_Amount_of_Payment_USDollars', aggfunc=sum).sort_values(ascending=False).head(10)\n"
   ]
  },
  {
   "cell_type": "code",
   "execution_count": 41,
   "metadata": {
    "collapsed": false
   },
   "outputs": [
    {
     "data": {
      "text/html": [
       "<div>\n",
       "<table border=\"1\" class=\"dataframe\">\n",
       "  <thead>\n",
       "    <tr style=\"text-align: right;\">\n",
       "      <th></th>\n",
       "      <th>Change_Type</th>\n",
       "      <th>Covered_Recipient_Type</th>\n",
       "      <th>Teaching_Hospital_CCN</th>\n",
       "      <th>Teaching_Hospital_ID</th>\n",
       "      <th>Teaching_Hospital_Name</th>\n",
       "      <th>Physician_Profile_ID</th>\n",
       "      <th>Physician_First_Name</th>\n",
       "      <th>Physician_Middle_Name</th>\n",
       "      <th>Physician_Last_Name</th>\n",
       "      <th>Physician_Name_Suffix</th>\n",
       "      <th>...</th>\n",
       "      <th>NDC_of_Associated_Covered_Drug_or_Biological3</th>\n",
       "      <th>NDC_of_Associated_Covered_Drug_or_Biological4</th>\n",
       "      <th>NDC_of_Associated_Covered_Drug_or_Biological5</th>\n",
       "      <th>Name_of_Associated_Covered_Device_or_Medical_Supply1</th>\n",
       "      <th>Name_of_Associated_Covered_Device_or_Medical_Supply2</th>\n",
       "      <th>Name_of_Associated_Covered_Device_or_Medical_Supply3</th>\n",
       "      <th>Name_of_Associated_Covered_Device_or_Medical_Supply4</th>\n",
       "      <th>Name_of_Associated_Covered_Device_or_Medical_Supply5</th>\n",
       "      <th>Program_Year</th>\n",
       "      <th>Payment_Publication_Date</th>\n",
       "    </tr>\n",
       "  </thead>\n",
       "  <tbody>\n",
       "  </tbody>\n",
       "</table>\n",
       "<p>0 rows × 65 columns</p>\n",
       "</div>"
      ],
      "text/plain": [
       "Empty DataFrame\n",
       "Columns: [Change_Type, Covered_Recipient_Type, Teaching_Hospital_CCN, Teaching_Hospital_ID, Teaching_Hospital_Name, Physician_Profile_ID, Physician_First_Name, Physician_Middle_Name, Physician_Last_Name, Physician_Name_Suffix, Recipient_Primary_Business_Street_Address_Line1, Recipient_Primary_Business_Street_Address_Line2, Recipient_City, Recipient_State, Recipient_Zip_Code, Recipient_Country, Recipient_Province, Recipient_Postal_Code, Physician_Primary_Type, Physician_Specialty, Physician_License_State_code1, Physician_License_State_code2, Physician_License_State_code3, Physician_License_State_code4, Physician_License_State_code5, Submitting_Applicable_Manufacturer_or_Applicable_GPO_Name, Applicable_Manufacturer_or_Applicable_GPO_Making_Payment_ID, Applicable_Manufacturer_or_Applicable_GPO_Making_Payment_Name, Applicable_Manufacturer_or_Applicable_GPO_Making_Payment_State, Applicable_Manufacturer_or_Applicable_GPO_Making_Payment_Country, Total_Amount_of_Payment_USDollars, Date_of_Payment, Number_of_Payments_Included_in_Total_Amount, Form_of_Payment_or_Transfer_of_Value, Nature_of_Payment_or_Transfer_of_Value, City_of_Travel, State_of_Travel, Country_of_Travel, Physician_Ownership_Indicator, Third_Party_Payment_Recipient_Indicator, Name_of_Third_Party_Entity_Receiving_Payment_or_Transfer_of_Value, Charity_Indicator, Third_Party_Equals_Covered_Recipient_Indicator, Contextual_Information, Delay_in_Publication_Indicator, Record_ID, Dispute_Status_for_Publication, Product_Indicator, Name_of_Associated_Covered_Drug_or_Biological1, Name_of_Associated_Covered_Drug_or_Biological2, Name_of_Associated_Covered_Drug_or_Biological3, Name_of_Associated_Covered_Drug_or_Biological4, Name_of_Associated_Covered_Drug_or_Biological5, NDC_of_Associated_Covered_Drug_or_Biological1, NDC_of_Associated_Covered_Drug_or_Biological2, NDC_of_Associated_Covered_Drug_or_Biological3, NDC_of_Associated_Covered_Drug_or_Biological4, NDC_of_Associated_Covered_Drug_or_Biological5, Name_of_Associated_Covered_Device_or_Medical_Supply1, Name_of_Associated_Covered_Device_or_Medical_Supply2, Name_of_Associated_Covered_Device_or_Medical_Supply3, Name_of_Associated_Covered_Device_or_Medical_Supply4, Name_of_Associated_Covered_Device_or_Medical_Supply5, Program_Year, Payment_Publication_Date]\n",
       "Index: []\n",
       "\n",
       "[0 rows x 65 columns]"
      ]
     },
     "execution_count": 41,
     "metadata": {},
     "output_type": "execute_result"
    }
   ],
   "source": [
    "df[df['Name_of_Associated_Covered_Drug_or_Biological3'] == \"BUTRANS\"]"
   ]
  },
  {
   "cell_type": "code",
   "execution_count": 42,
   "metadata": {
    "collapsed": false
   },
   "outputs": [
    {
     "data": {
      "text/plain": [
       "Physician_Profile_ID  Physician_First_Name  Physician_Last_Name\n",
       "150502.0              JOSEPH                VALENZA                16404.96\n",
       "219255.0              JEFFREY               GUDIN                  14932.91\n",
       "201446.0              ANDREW                KAUFMAN                10539.36\n",
       "210831.0              MATTHEW               LIPP                    7180.93\n",
       "225940.0              MANISH                SINGH                   1408.80\n",
       "312151.0              TED                   FREEMAN                  289.27\n",
       "27461.0               EDWARD                PRINS                    268.08\n",
       "1076765.0             JOHN                  DACONTI                  252.16\n",
       "241732.0              GREGORY               CHARKO                   236.53\n",
       "8089.0                EDWARD                NOVIK                    233.71\n",
       "Name: Total_Amount_of_Payment_USDollars, dtype: float64"
      ]
     },
     "execution_count": 42,
     "metadata": {},
     "output_type": "execute_result"
    }
   ],
   "source": [
    "but = pd.read_csv(\"2014data/Butranstotal.csv\")\n",
    "\n",
    "but.pivot_table(index=['Physician_Profile_ID','Physician_First_Name','Physician_Last_Name'],values='Total_Amount_of_Payment_USDollars', aggfunc=sum).sort_values(ascending=False).head(10)\n"
   ]
  },
  {
   "cell_type": "code",
   "execution_count": 44,
   "metadata": {
    "collapsed": true
   },
   "outputs": [],
   "source": [
    "import matplotlib.pyplot as plt\n",
    "%matplotlib inline"
   ]
  },
  {
   "cell_type": "code",
   "execution_count": 45,
   "metadata": {
    "collapsed": false
   },
   "outputs": [
    {
     "data": {
      "text/plain": [
       "(array([  4.52300000e+05,   7.90000000e+01,   2.80000000e+01,\n",
       "          1.20000000e+01,   6.00000000e+00,   4.00000000e+00,\n",
       "          3.00000000e+00,   0.00000000e+00,   1.00000000e+00,\n",
       "          2.00000000e+00,   0.00000000e+00,   1.00000000e+00,\n",
       "          1.00000000e+00,   1.00000000e+00,   3.00000000e+00,\n",
       "          4.00000000e+00,   1.00000000e+00,   0.00000000e+00,\n",
       "          1.00000000e+00,   1.00000000e+00]),\n",
       " array([      0.   ,   21731.164,   43462.328,   65193.492,   86924.656,\n",
       "         108655.82 ,  130386.984,  152118.148,  173849.312,  195580.476,\n",
       "         217311.64 ,  239042.804,  260773.968,  282505.132,  304236.296,\n",
       "         325967.46 ,  347698.624,  369429.788,  391160.952,  412892.116,\n",
       "         434623.28 ]),\n",
       " <a list of 20 Patch objects>)"
      ]
     },
     "execution_count": 45,
     "metadata": {},
     "output_type": "execute_result"
    },
    {
     "data": {
      "image/png": "[encoded data removed]",
      "text/plain": [
       "<matplotlib.figure.Figure at 0x118726110>"
      ]
     },
     "metadata": {},
     "output_type": "display_data"
    }
   ],
   "source": [
    "plt.style.use('fivethirtyeight')\n",
    "plt.hist(df[\"Total_Amount_of_Payment_USDollars\"], bins=20)"
   ]
  },
  {
   "cell_type": "code",
   "execution_count": 46,
   "metadata": {
    "collapsed": false
   },
   "outputs": [
    {
     "data": {
      "text/plain": [
       "{'boxes': [<matplotlib.lines.Line2D at 0x11b791d50>],\n",
       " 'caps': [<matplotlib.lines.Line2D at 0x11ca2ba10>,\n",
       "  <matplotlib.lines.Line2D at 0x11ca3a090>],\n",
       " 'fliers': [<matplotlib.lines.Line2D at 0x11ca3ad10>],\n",
       " 'means': [],\n",
       " 'medians': [<matplotlib.lines.Line2D at 0x11ca3a6d0>],\n",
       " 'whiskers': [<matplotlib.lines.Line2D at 0x11ca1ecd0>,\n",
       "  <matplotlib.lines.Line2D at 0x11ca2b3d0>]}"
      ]
     },
     "execution_count": 46,
     "metadata": {},
     "output_type": "execute_result"
    },
    {
     "data": {
      "image/png": "[encoded data removed]",
      "text/plain": [
       "<matplotlib.figure.Figure at 0x118715b90>"
      ]
     },
     "metadata": {},
     "output_type": "display_data"
    }
   ],
   "source": [
    "plt.boxplot(df[\"Total_Amount_of_Payment_USDollars\"])"
   ]
  },
  {
   "cell_type": "code",
   "execution_count": 7,
   "metadata": {
    "collapsed": false
   },
   "outputs": [],
   "source": [
    "df[df[\"Name_of_Associated_Covered_Drug_or_Biological1\"] == \"Lazanda\"].to_csv(\"2014data/LAZANDA.csv\")"
   ]
  },
  {
   "cell_type": "code",
   "execution_count": 9,
   "metadata": {
    "collapsed": false
   },
   "outputs": [
    {
     "data": {
      "text/plain": [
       "Physician_Profile_ID  Physician_First_Name  Physician_Last_Name\n",
       "219255                JEFFREY               GUDIN                  19455.34\n",
       "21886                 SAMYADEV              DATTA                   6632.43\n",
       "61465                 FELIX                 ROQUE                    265.76\n",
       "145653                LOUIS                 SPAGNOLETTI              211.98\n",
       "977249                JOSE                  CONTRERAS                171.00\n",
       "336785                LEWIS                 ATTAS                    164.70\n",
       "1134320               JENNIFER              SAYANLAR                 154.53\n",
       "291820                GARY                  BUCK                     150.87\n",
       "317305                UZMA                  PARVEZ                   136.80\n",
       "383027                ROBERT                VRABLIK                  135.85\n",
       "Name: Total_Amount_of_Payment_USDollars, dtype: float64"
      ]
     },
     "execution_count": 9,
     "metadata": {},
     "output_type": "execute_result"
    }
   ],
   "source": [
    "laz = pd.read_csv(\"2014data/LAZANDA.csv\")\n",
    "laz.pivot_table(index=['Physician_Profile_ID','Physician_First_Name','Physician_Last_Name'],values='Total_Amount_of_Payment_USDollars', aggfunc=sum).sort_values(ascending=False).head(10)"
   ]
  },
  {
   "cell_type": "code",
   "execution_count": null,
   "metadata": {
    "collapsed": true
   },
   "outputs": [],
   "source": []
  }
 ],
 "metadata": {
  "anaconda-cloud": {},
  "kernelspec": {
   "display_name": "Python 2",
   "language": "python",
   "name": "python2"
  },
  "language_info": {
   "codemirror_mode": {
    "name": "ipython",
    "version": 2
   },
   "file_extension": ".py",
   "mimetype": "text/x-python",
   "name": "python",
   "nbconvert_exporter": "python",
   "pygments_lexer": "ipython2",
   "version": "2.7.12"
  }
 },
 "nbformat": 4,
 "nbformat_minor": 0
}
