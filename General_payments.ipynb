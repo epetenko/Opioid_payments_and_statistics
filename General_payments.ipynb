{
 "cells": [
  {
   "cell_type": "code",
   "execution_count": 1,
   "metadata": {
    "collapsed": true
   },
   "outputs": [],
   "source": [
    "import pandas as pd"
   ]
  },
  {
   "cell_type": "code",
   "execution_count": 2,
   "metadata": {
    "collapsed": false
   },
   "outputs": [
    {
     "name": "stderr",
     "output_type": "stream",
     "text": [
      "/Users/epetenko/anaconda/lib/python2.7/site-packages/IPython/core/interactiveshell.py:2723: DtypeWarning: Columns (24,35,36,37) have mixed types. Specify dtype option on import or set low_memory=False.\n",
      "  interactivity=interactivity, compiler=compiler, result=result)\n"
     ]
    }
   ],
   "source": [
    "df= pd.read_csv(\"New_Jersey_General_Payments.csv\", dtype={'Physician_Profile_ID': 'S'} )"
   ]
  },
  {
   "cell_type": "code",
   "execution_count": 3,
   "metadata": {
    "collapsed": false
   },
   "outputs": [
    {
     "data": {
      "text/plain": [
       "Index([u'Change_Type', u'Covered_Recipient_Type', u'Teaching_Hospital_CCN',\n",
       "       u'Teaching_Hospital_ID', u'Teaching_Hospital_Name',\n",
       "       u'Physician_Profile_ID', u'Physician_First_Name',\n",
       "       u'Physician_Middle_Name', u'Physician_Last_Name',\n",
       "       u'Physician_Name_Suffix',\n",
       "       u'Recipient_Primary_Business_Street_Address_Line1',\n",
       "       u'Recipient_Primary_Business_Street_Address_Line2', u'Recipient_City',\n",
       "       u'Recipient_State', u'Recipient_Zip_Code', u'Recipient_Country',\n",
       "       u'Recipient_Province', u'Recipient_Postal_Code',\n",
       "       u'Physician_Primary_Type', u'Physician_Specialty',\n",
       "       u'Physician_License_State_code1', u'Physician_License_State_code2',\n",
       "       u'Physician_License_State_code3', u'Physician_License_State_code4',\n",
       "       u'Physician_License_State_code5',\n",
       "       u'Submitting_Applicable_Manufacturer_or_Applicable_GPO_Name',\n",
       "       u'Applicable_Manufacturer_or_Applicable_GPO_Making_Payment_ID',\n",
       "       u'Applicable_Manufacturer_or_Applicable_GPO_Making_Payment_Name',\n",
       "       u'Applicable_Manufacturer_or_Applicable_GPO_Making_Payment_State',\n",
       "       u'Applicable_Manufacturer_or_Applicable_GPO_Making_Payment_Country',\n",
       "       u'Total_Amount_of_Payment_USDollars', u'Date_of_Payment',\n",
       "       u'Number_of_Payments_Included_in_Total_Amount',\n",
       "       u'Form_of_Payment_or_Transfer_of_Value',\n",
       "       u'Nature_of_Payment_or_Transfer_of_Value', u'City_of_Travel',\n",
       "       u'State_of_Travel', u'Country_of_Travel',\n",
       "       u'Physician_Ownership_Indicator',\n",
       "       u'Third_Party_Payment_Recipient_Indicator',\n",
       "       u'Name_of_Third_Party_Entity_Receiving_Payment_or_Transfer_of_Value',\n",
       "       u'Charity_Indicator', u'Third_Party_Equals_Covered_Recipient_Indicator',\n",
       "       u'Contextual_Information', u'Delay_in_Publication_Indicator',\n",
       "       u'Record_ID', u'Dispute_Status_for_Publication', u'Product_Indicator',\n",
       "       u'Name_of_Associated_Covered_Drug_or_Biological1',\n",
       "       u'Name_of_Associated_Covered_Drug_or_Biological2',\n",
       "       u'Name_of_Associated_Covered_Drug_or_Biological3',\n",
       "       u'Name_of_Associated_Covered_Drug_or_Biological4',\n",
       "       u'Name_of_Associated_Covered_Drug_or_Biological5',\n",
       "       u'NDC_of_Associated_Covered_Drug_or_Biological1',\n",
       "       u'NDC_of_Associated_Covered_Drug_or_Biological2',\n",
       "       u'NDC_of_Associated_Covered_Drug_or_Biological3',\n",
       "       u'NDC_of_Associated_Covered_Drug_or_Biological4',\n",
       "       u'NDC_of_Associated_Covered_Drug_or_Biological5',\n",
       "       u'Name_of_Associated_Covered_Device_or_Medical_Supply1',\n",
       "       u'Name_of_Associated_Covered_Device_or_Medical_Supply2',\n",
       "       u'Name_of_Associated_Covered_Device_or_Medical_Supply3',\n",
       "       u'Name_of_Associated_Covered_Device_or_Medical_Supply4',\n",
       "       u'Name_of_Associated_Covered_Device_or_Medical_Supply5',\n",
       "       u'Program_Year', u'Payment_Publication_Date'],\n",
       "      dtype='object')"
      ]
     },
     "execution_count": 3,
     "metadata": {},
     "output_type": "execute_result"
    }
   ],
   "source": [
    "df.columns"
   ]
  },
  {
   "cell_type": "code",
   "execution_count": 4,
   "metadata": {
    "collapsed": true
   },
   "outputs": [],
   "source": [
    "df['Total_Amount_of_Payment_USDollars'] = df['Total_Amount_of_Payment_USDollars'].astype(float)"
   ]
  },
  {
   "cell_type": "code",
   "execution_count": 28,
   "metadata": {
    "collapsed": false
   },
   "outputs": [],
   "source": [
    "top_drugs = df.groupby(\"Name_of_Associated_Covered_Drug_or_Biological1\").sum().iloc[:,5].sort_values(ascending=False)"
   ]
  },
  {
   "cell_type": "code",
   "execution_count": 6,
   "metadata": {
    "collapsed": true
   },
   "outputs": [],
   "source": [
    "top_NJcities = df.groupby('Recipient_City').sum().iloc[:,6].sort_values(ascending=False)"
   ]
  },
  {
   "cell_type": "code",
   "execution_count": 7,
   "metadata": {
    "collapsed": false
   },
   "outputs": [],
   "source": [
    "categories = df.groupby('Nature_of_Payment_or_Transfer_of_Value').sum().iloc[:,5].sort_values(ascending=False)"
   ]
  },
  {
   "cell_type": "code",
   "execution_count": 8,
   "metadata": {
    "collapsed": false
   },
   "outputs": [
    {
     "data": {
      "text/plain": [
       "Nature_of_Payment_or_Transfer_of_Value\n",
       "Compensation for services other than consulting, including serving as faculty or as a speaker at a venue other than a continuing education program    1.664113e+07\n",
       "Consulting Fee                                                                                                                                        1.132189e+07\n",
       "Food and Beverage                                                                                                                                     9.880611e+06\n",
       "Current or prospective ownership or investment interest                                                                                               5.063839e+06\n",
       "Royalty or License                                                                                                                                    4.955896e+06\n",
       "Travel and Lodging                                                                                                                                    4.455766e+06\n",
       "Grant                                                                                                                                                 1.310921e+06\n",
       "Education                                                                                                                                             1.182728e+06\n",
       "Compensation for serving as faculty or as a speaker for a non-accredited and noncertified continuing education program                                1.039109e+06\n",
       "Honoraria                                                                                                                                             8.963814e+05\n",
       "Space rental or facility fees(teaching hospital only)                                                                                                 8.283329e+05\n",
       "Gift                                                                                                                                                  7.859235e+05\n",
       "Charitable Contribution                                                                                                                               3.284531e+05\n",
       "Compensation for serving as faculty or as a speaker for an accredited or certified continuing education program                                       1.412653e+05\n",
       "Entertainment                                                                                                                                         8.206820e+03\n",
       "Name: Total_Amount_of_Payment_USDollars, dtype: float64"
      ]
     },
     "execution_count": 8,
     "metadata": {},
     "output_type": "execute_result"
    }
   ],
   "source": [
    "categories"
   ]
  },
  {
   "cell_type": "code",
   "execution_count": 9,
   "metadata": {
    "collapsed": false
   },
   "outputs": [],
   "source": [
    "biggest_payers = df.groupby('Submitting_Applicable_Manufacturer_or_Applicable_GPO_Name').sum().iloc[:,6].sort_values(ascending=False)"
   ]
  },
  {
   "cell_type": "code",
   "execution_count": 10,
   "metadata": {
    "collapsed": false
   },
   "outputs": [],
   "source": [
    "biggest_takers = df.groupby('Physician_Profile_ID').sum().iloc[:,5].sort_values(ascending=False)"
   ]
  },
  {
   "cell_type": "code",
   "execution_count": 11,
   "metadata": {
    "collapsed": false
   },
   "outputs": [
    {
     "data": {
      "text/plain": [
       "array(['49877', '241729', '325659', ..., '161202', '1055898', '1293236'], dtype=object)"
      ]
     },
     "execution_count": 11,
     "metadata": {},
     "output_type": "execute_result"
    }
   ],
   "source": [
    "df[\"Physician_Profile_ID\"].unique()"
   ]
  },
  {
   "cell_type": "code",
   "execution_count": 30,
   "metadata": {
    "collapsed": false
   },
   "outputs": [],
   "source": [
    "# top_drugs.to_csv(\"top_drugs.csv\")"
   ]
  },
  {
   "cell_type": "code",
   "execution_count": 6,
   "metadata": {
    "collapsed": false
   },
   "outputs": [
    {
     "data": {
      "text/plain": [
       "58840453.450000234"
      ]
     },
     "execution_count": 6,
     "metadata": {},
     "output_type": "execute_result"
    }
   ],
   "source": [
    "df['Total_Amount_of_Payment_USDollars'].sum()"
   ]
  },
  {
   "cell_type": "code",
   "execution_count": 14,
   "metadata": {
    "collapsed": false
   },
   "outputs": [],
   "source": [
    "top_hospitals = df.groupby('Teaching_Hospital_Name').sum().iloc[:,6].sort_values(ascending=False)"
   ]
  },
  {
   "cell_type": "code",
   "execution_count": 15,
   "metadata": {
    "collapsed": false
   },
   "outputs": [],
   "source": [
    "top_doctors = df.pivot_table(index=[\"Physician_Profile_ID\", 'Physician_First_Name', 'Physician_Last_Name'], aggfunc=sum).sort_values(by=\"Total_Amount_of_Payment_USDollars\", ascending=False)"
   ]
  },
  {
   "cell_type": "code",
   "execution_count": 16,
   "metadata": {
    "collapsed": true
   },
   "outputs": [],
   "source": [
    "top_doctors_details = df.pivot_table(index=[\"Physician_Profile_ID\", 'Physician_First_Name', 'Physician_Last_Name', \"Applicable_Manufacturer_or_Applicable_GPO_Making_Payment_Name\", \"Nature_of_Payment_or_Transfer_of_Value\"], aggfunc=sum).sort_values(by=\"Total_Amount_of_Payment_USDollars\", ascending=False)"
   ]
  },
  {
   "cell_type": "code",
   "execution_count": 20,
   "metadata": {
    "collapsed": false
   },
   "outputs": [
    {
     "data": {
      "text/plain": [
       "553"
      ]
     },
     "execution_count": 20,
     "metadata": {},
     "output_type": "execute_result"
    }
   ],
   "source": [
    "#used this to search for docs under each drug name\n",
    "#used \"top drugs\" spreadsheet to make sure was using correct names\n",
    "#also searched under \"Name...Biological2\", \"Name...Biological3\", etc. \n",
    "#and used csvstack to combine all of those into one document\n",
    "\n",
    "subsys = df[df['Name_of_Associated_Covered_Drug_or_Biological1'] == \"Subsys\"]\n",
    "subsys['Physician_Profile_ID'].count()"
   ]
  },
  {
   "cell_type": "code",
   "execution_count": 16,
   "metadata": {
    "collapsed": false
   },
   "outputs": [
    {
     "data": {
      "text/plain": [
       "368124.62000000005"
      ]
     },
     "execution_count": 16,
     "metadata": {},
     "output_type": "execute_result"
    }
   ],
   "source": [
    "subsys = pd.read_csv(\"Opioid_payments/Subsys.csv\")\n",
    "\n",
    "subsys[\"Total_Amount_of_Payment_USDollars\"].sum()"
   ]
  },
  {
   "cell_type": "code",
   "execution_count": 17,
   "metadata": {
    "collapsed": false
   },
   "outputs": [
    {
     "data": {
      "text/plain": [
       "Physician_Profile_ID  Physician_First_Name  Physician_Last_Name\n",
       "345992                APURV                 AGRAWAL                76544.79\n",
       "121352                MUKARAM               GAZI                   60917.44\n",
       "206178                DAVID                 CONYACK                35321.19\n",
       "106319                GARY                  YEN                    30838.67\n",
       "140224                BENJAMIN              DUCKLES                27615.22\n",
       "26227                 KIERAN                SLEVIN                 24490.49\n",
       "299354                CARL                  HENNINGSON             22212.43\n",
       "344896                MANOJ                 PATHARKAR              20079.84\n",
       "977249                JOSE                  CONTRERAS              14554.51\n",
       "61465                 FELIX                 ROQUE                  12084.62\n",
       "316185                HANG                  PAK                     8204.23\n",
       "46102                 AMER                  SYED                    7883.14\n",
       "21886                 SAMYADEV              DATTA                   4570.08\n",
       "102072                CARRIE                WASSERMAN               2600.00\n",
       "358136                ABDUL                 QADIR                   1953.50\n",
       "11                    ALEXANDER             GOTESMAN                1040.71\n",
       "230088                DHARAM                MANN                     752.49\n",
       "461505                NICKHIL               GUPTA                    623.95\n",
       "91094                 HILDA                 ROQUE DIEGUEZ            586.51\n",
       "221140                MICHAEL               NAZMY                    582.98\n",
       "Name: Total_Amount_of_Payment_USDollars, dtype: float64"
      ]
     },
     "execution_count": 17,
     "metadata": {},
     "output_type": "execute_result"
    }
   ],
   "source": [
    "subsys.pivot_table(index=['Physician_Profile_ID','Physician_First_Name','Physician_Last_Name'],values='Total_Amount_of_Payment_USDollars', aggfunc=sum).sort_values(ascending=False).head(20)\n",
    "#Subsys manufactured by Insys"
   ]
  },
  {
   "cell_type": "code",
   "execution_count": 5,
   "metadata": {
    "collapsed": false
   },
   "outputs": [
    {
     "data": {
      "text/html": [
       "<div>\n",
       "<table border=\"1\" class=\"dataframe\">\n",
       "  <thead>\n",
       "    <tr style=\"text-align: right;\">\n",
       "      <th></th>\n",
       "      <th>Unnamed: 0</th>\n",
       "      <th>Change_Type</th>\n",
       "      <th>Covered_Recipient_Type</th>\n",
       "      <th>Teaching_Hospital_CCN</th>\n",
       "      <th>Teaching_Hospital_ID</th>\n",
       "      <th>Teaching_Hospital_Name</th>\n",
       "      <th>Physician_Profile_ID</th>\n",
       "      <th>Physician_First_Name</th>\n",
       "      <th>Physician_Middle_Name</th>\n",
       "      <th>Physician_Last_Name</th>\n",
       "      <th>...</th>\n",
       "      <th>NDC_of_Associated_Covered_Drug_or_Biological3</th>\n",
       "      <th>NDC_of_Associated_Covered_Drug_or_Biological4</th>\n",
       "      <th>NDC_of_Associated_Covered_Drug_or_Biological5</th>\n",
       "      <th>Name_of_Associated_Covered_Device_or_Medical_Supply1</th>\n",
       "      <th>Name_of_Associated_Covered_Device_or_Medical_Supply2</th>\n",
       "      <th>Name_of_Associated_Covered_Device_or_Medical_Supply3</th>\n",
       "      <th>Name_of_Associated_Covered_Device_or_Medical_Supply4</th>\n",
       "      <th>Name_of_Associated_Covered_Device_or_Medical_Supply5</th>\n",
       "      <th>Program_Year</th>\n",
       "      <th>Payment_Publication_Date</th>\n",
       "    </tr>\n",
       "  </thead>\n",
       "  <tbody>\n",
       "    <tr>\n",
       "      <th>0</th>\n",
       "      <td>419923</td>\n",
       "      <td>NEW</td>\n",
       "      <td>Covered Recipient Physician</td>\n",
       "      <td>NaN</td>\n",
       "      <td>NaN</td>\n",
       "      <td>NaN</td>\n",
       "      <td>124983</td>\n",
       "      <td>RICHARD</td>\n",
       "      <td>NaN</td>\n",
       "      <td>HADDAD</td>\n",
       "      <td>...</td>\n",
       "      <td>59011-410-10</td>\n",
       "      <td>NaN</td>\n",
       "      <td>NaN</td>\n",
       "      <td>NaN</td>\n",
       "      <td>NaN</td>\n",
       "      <td>NaN</td>\n",
       "      <td>NaN</td>\n",
       "      <td>NaN</td>\n",
       "      <td>2015</td>\n",
       "      <td>6/30/16</td>\n",
       "    </tr>\n",
       "    <tr>\n",
       "      <th>1</th>\n",
       "      <td>411162</td>\n",
       "      <td>NEW</td>\n",
       "      <td>Covered Recipient Physician</td>\n",
       "      <td>NaN</td>\n",
       "      <td>NaN</td>\n",
       "      <td>NaN</td>\n",
       "      <td>201446</td>\n",
       "      <td>ANDREW</td>\n",
       "      <td>G</td>\n",
       "      <td>KAUFMAN</td>\n",
       "      <td>...</td>\n",
       "      <td>59011-410-10</td>\n",
       "      <td>NaN</td>\n",
       "      <td>NaN</td>\n",
       "      <td>NaN</td>\n",
       "      <td>NaN</td>\n",
       "      <td>NaN</td>\n",
       "      <td>NaN</td>\n",
       "      <td>NaN</td>\n",
       "      <td>2015</td>\n",
       "      <td>6/30/16</td>\n",
       "    </tr>\n",
       "    <tr>\n",
       "      <th>2</th>\n",
       "      <td>442017</td>\n",
       "      <td>NEW</td>\n",
       "      <td>Covered Recipient Physician</td>\n",
       "      <td>NaN</td>\n",
       "      <td>NaN</td>\n",
       "      <td>NaN</td>\n",
       "      <td>150502</td>\n",
       "      <td>JOSEPH</td>\n",
       "      <td>P</td>\n",
       "      <td>VALENZA</td>\n",
       "      <td>...</td>\n",
       "      <td>59011-410-10</td>\n",
       "      <td>NaN</td>\n",
       "      <td>NaN</td>\n",
       "      <td>NaN</td>\n",
       "      <td>NaN</td>\n",
       "      <td>NaN</td>\n",
       "      <td>NaN</td>\n",
       "      <td>NaN</td>\n",
       "      <td>2015</td>\n",
       "      <td>6/30/16</td>\n",
       "    </tr>\n",
       "    <tr>\n",
       "      <th>3</th>\n",
       "      <td>151523</td>\n",
       "      <td>NEW</td>\n",
       "      <td>Covered Recipient Physician</td>\n",
       "      <td>NaN</td>\n",
       "      <td>NaN</td>\n",
       "      <td>NaN</td>\n",
       "      <td>210831</td>\n",
       "      <td>MATTHEW</td>\n",
       "      <td>I</td>\n",
       "      <td>LIPP</td>\n",
       "      <td>...</td>\n",
       "      <td>59011-410-10</td>\n",
       "      <td>NaN</td>\n",
       "      <td>NaN</td>\n",
       "      <td>NaN</td>\n",
       "      <td>NaN</td>\n",
       "      <td>NaN</td>\n",
       "      <td>NaN</td>\n",
       "      <td>NaN</td>\n",
       "      <td>2015</td>\n",
       "      <td>6/30/16</td>\n",
       "    </tr>\n",
       "    <tr>\n",
       "      <th>4</th>\n",
       "      <td>370258</td>\n",
       "      <td>NEW</td>\n",
       "      <td>Covered Recipient Physician</td>\n",
       "      <td>NaN</td>\n",
       "      <td>NaN</td>\n",
       "      <td>NaN</td>\n",
       "      <td>206178</td>\n",
       "      <td>DAVID</td>\n",
       "      <td>G</td>\n",
       "      <td>CONYACK</td>\n",
       "      <td>...</td>\n",
       "      <td>59011-410-10</td>\n",
       "      <td>NaN</td>\n",
       "      <td>NaN</td>\n",
       "      <td>NaN</td>\n",
       "      <td>NaN</td>\n",
       "      <td>NaN</td>\n",
       "      <td>NaN</td>\n",
       "      <td>NaN</td>\n",
       "      <td>2015</td>\n",
       "      <td>6/30/16</td>\n",
       "    </tr>\n",
       "  </tbody>\n",
       "</table>\n",
       "<p>5 rows × 66 columns</p>\n",
       "</div>"
      ],
      "text/plain": [
       "   Unnamed: 0 Change_Type       Covered_Recipient_Type  Teaching_Hospital_CCN  \\\n",
       "0      419923         NEW  Covered Recipient Physician                    NaN   \n",
       "1      411162         NEW  Covered Recipient Physician                    NaN   \n",
       "2      442017         NEW  Covered Recipient Physician                    NaN   \n",
       "3      151523         NEW  Covered Recipient Physician                    NaN   \n",
       "4      370258         NEW  Covered Recipient Physician                    NaN   \n",
       "\n",
       "   Teaching_Hospital_ID  Teaching_Hospital_Name  Physician_Profile_ID  \\\n",
       "0                   NaN                     NaN                124983   \n",
       "1                   NaN                     NaN                201446   \n",
       "2                   NaN                     NaN                150502   \n",
       "3                   NaN                     NaN                210831   \n",
       "4                   NaN                     NaN                206178   \n",
       "\n",
       "  Physician_First_Name Physician_Middle_Name Physician_Last_Name  \\\n",
       "0              RICHARD                   NaN              HADDAD   \n",
       "1               ANDREW                     G             KAUFMAN   \n",
       "2               JOSEPH                     P             VALENZA   \n",
       "3              MATTHEW                     I                LIPP   \n",
       "4                DAVID                     G             CONYACK   \n",
       "\n",
       "            ...            NDC_of_Associated_Covered_Drug_or_Biological3  \\\n",
       "0           ...                                             59011-410-10   \n",
       "1           ...                                             59011-410-10   \n",
       "2           ...                                             59011-410-10   \n",
       "3           ...                                             59011-410-10   \n",
       "4           ...                                             59011-410-10   \n",
       "\n",
       "  NDC_of_Associated_Covered_Drug_or_Biological4  \\\n",
       "0                                           NaN   \n",
       "1                                           NaN   \n",
       "2                                           NaN   \n",
       "3                                           NaN   \n",
       "4                                           NaN   \n",
       "\n",
       "  NDC_of_Associated_Covered_Drug_or_Biological5  \\\n",
       "0                                           NaN   \n",
       "1                                           NaN   \n",
       "2                                           NaN   \n",
       "3                                           NaN   \n",
       "4                                           NaN   \n",
       "\n",
       "  Name_of_Associated_Covered_Device_or_Medical_Supply1  \\\n",
       "0                                                NaN     \n",
       "1                                                NaN     \n",
       "2                                                NaN     \n",
       "3                                                NaN     \n",
       "4                                                NaN     \n",
       "\n",
       "  Name_of_Associated_Covered_Device_or_Medical_Supply2  \\\n",
       "0                                                NaN     \n",
       "1                                                NaN     \n",
       "2                                                NaN     \n",
       "3                                                NaN     \n",
       "4                                                NaN     \n",
       "\n",
       "  Name_of_Associated_Covered_Device_or_Medical_Supply3  \\\n",
       "0                                                NaN     \n",
       "1                                                NaN     \n",
       "2                                                NaN     \n",
       "3                                                NaN     \n",
       "4                                                NaN     \n",
       "\n",
       "  Name_of_Associated_Covered_Device_or_Medical_Supply4  \\\n",
       "0                                                NaN     \n",
       "1                                                NaN     \n",
       "2                                                NaN     \n",
       "3                                                NaN     \n",
       "4                                                NaN     \n",
       "\n",
       "   Name_of_Associated_Covered_Device_or_Medical_Supply5  Program_Year  \\\n",
       "0                                                NaN             2015   \n",
       "1                                                NaN             2015   \n",
       "2                                                NaN             2015   \n",
       "3                                                NaN             2015   \n",
       "4                                                NaN             2015   \n",
       "\n",
       "  Payment_Publication_Date  \n",
       "0                  6/30/16  \n",
       "1                  6/30/16  \n",
       "2                  6/30/16  \n",
       "3                  6/30/16  \n",
       "4                  6/30/16  \n",
       "\n",
       "[5 rows x 66 columns]"
      ]
     },
     "execution_count": 5,
     "metadata": {},
     "output_type": "execute_result"
    }
   ],
   "source": [
    "oxy = pd.read_csv(\"Opioid_payments/Oxycontin.csv\")\n",
    "oxy.head()"
   ]
  },
  {
   "cell_type": "code",
   "execution_count": 12,
   "metadata": {
    "collapsed": false,
    "scrolled": false
   },
   "outputs": [
    {
     "data": {
      "text/plain": [
       "Physician_Profile_ID  Physician_First_Name  Physician_Last_Name\n",
       "124983                RICHARD               HADDAD                 8235.60\n",
       "201446                ANDREW                KAUFMAN                7458.50\n",
       "150502                JOSEPH                VALENZA                6654.04\n",
       "206178                DAVID                 CONYACK                5410.88\n",
       "210831                MATTHEW               LIPP                   5366.05\n",
       "219255                JEFFREY               GUDIN                  4597.84\n",
       "161164                QAISAR                USMANI                  290.86\n",
       "44592                 SHAHZAD               HUSSAIN                 288.08\n",
       "140224                BENJAMIN              DUCKLES                 275.66\n",
       "186517                GREGORY               RIHACEK                 266.66\n",
       "327281                JOHN                  PARK                    244.45\n",
       "284948                NATHAN                HOLTZBERG               242.28\n",
       "131006                KEVIN                 DUNN                    228.25\n",
       "184396                STEPHEN               BOYAJIAN                224.67\n",
       "157990                THOMAS                AGESEN                  218.52\n",
       "111257                MICHAEL               OHARA                   218.14\n",
       "35293                 JASON                 NEHMAD                  213.70\n",
       "106319                GARY                  YEN                     209.13\n",
       "294486                VIVEK                 DAS                     203.49\n",
       "88282                 NEIL                  SINHA                   191.62\n",
       "Name: Total_Amount_of_Payment_USDollars, dtype: float64"
      ]
     },
     "execution_count": 12,
     "metadata": {},
     "output_type": "execute_result"
    }
   ],
   "source": [
    "oxy.pivot_table(index=['Physician_Profile_ID','Physician_First_Name','Physician_Last_Name'],values='Total_Amount_of_Payment_USDollars', aggfunc=sum).sort_values(ascending=False).head(20)"
   ]
  },
  {
   "cell_type": "code",
   "execution_count": 8,
   "metadata": {
    "collapsed": false
   },
   "outputs": [
    {
     "data": {
      "text/plain": [
       "Physician_Profile_ID  Physician_First_Name  Physician_Last_Name\n",
       "124983.0              RICHARD               HADDAD                 8235.60\n",
       "201446.0              ANDREW                KAUFMAN                7444.43\n",
       "219255.0              JEFFREY               GUDIN                  7062.69\n",
       "150502.0              JOSEPH                VALENZA                6649.61\n",
       "206178.0              DAVID                 CONYACK                5488.21\n",
       "210831.0              MATTHEW               LIPP                   5366.05\n",
       "44592.0               SHAHZAD               HUSSAIN                 292.35\n",
       "161164.0              QAISAR                USMANI                  290.86\n",
       "140224.0              BENJAMIN              DUCKLES                 285.12\n",
       "111257.0              MICHAEL               OHARA                   259.86\n",
       "327281.0              JOHN                  PARK                    253.96\n",
       "312151.0              TED                   FREEMAN                 253.03\n",
       "184396.0              STEPHEN               BOYAJIAN                224.67\n",
       "316053.0              MICHAEL               LEPIS                   221.60\n",
       "186517.0              GREGORY               RIHACEK                 221.14\n",
       "35293.0               JASON                 NEHMAD                  213.70\n",
       "106319.0              GARY                  YEN                     204.74\n",
       "294486.0              VIVEK                 DAS                     203.49\n",
       "347609.0              MONTE                 HABER                   202.71\n",
       "1301715.0             DONNA                 DALESSIO                199.64\n",
       "Name: Total_Amount_of_Payment_USDollars, dtype: float64"
      ]
     },
     "execution_count": 8,
     "metadata": {},
     "output_type": "execute_result"
    }
   ],
   "source": [
    "but = pd.read_csv(\"Opioid_payments/Butranstotal.csv\")\n",
    "but.head()\n",
    "\n",
    "but.pivot_table(index=['Physician_Profile_ID','Physician_First_Name','Physician_Last_Name'],values='Total_Amount_of_Payment_USDollars', aggfunc=sum).sort_values(ascending=False).head(20)\n",
    "#oxy and but have overlap since same company - Perdue - paid docs for multiple drugs"
   ]
  },
  {
   "cell_type": "code",
   "execution_count": 9,
   "metadata": {
    "collapsed": false
   },
   "outputs": [
    {
     "data": {
      "text/plain": [
       "Physician_Profile_ID  Physician_First_Name  Physician_Last_Name\n",
       "150502                JOSEPH                VALENZA                9359.42\n",
       "290180                AKSHAY                PATEL                  7799.78\n",
       "145653                LOUIS                 SPAGNOLETTI            6693.31\n",
       "13402                 ROBIN                 IVERSEN                4127.88\n",
       "312151                TED                   FREEMAN                 568.82\n",
       "289356                JOVEN                 DUNGO                   416.11\n",
       "25145                 OSCAR                 PIZARRO                 321.46\n",
       "245160                JOHN                  MAK                     276.56\n",
       "198343                JEFFREY               COLE                    259.19\n",
       "72476                 YOUSSEF               JOSEPHSON               256.93\n",
       "168121                ROBERT                CHAPDELAINE             244.81\n",
       "383961                JESSICA               ARIAS GARAU             240.13\n",
       "111257                MICHAEL               OHARA                   232.37\n",
       "140224                BENJAMIN              DUCKLES                 221.56\n",
       "153888                VIVIENNE              MATALON                 214.14\n",
       "232071                PHILIP                CERAULO                 212.16\n",
       "28902                 ANDREW                MEDVEDOVSKY             203.80\n",
       "71765                 FRANK                 SHANLEY                 203.06\n",
       "91325                 CHIOMA                EZEADICHIE              181.33\n",
       "291820                GARY                  BUCK                    169.42\n",
       "Name: Total_Amount_of_Payment_USDollars, dtype: float64"
      ]
     },
     "execution_count": 9,
     "metadata": {},
     "output_type": "execute_result"
    }
   ],
   "source": [
    "emb = pd.read_csv(\"Opioid_payments/Embedatotal.csv\")\n",
    "emb.head()\n",
    "\n",
    "emb.pivot_table(index=['Physician_Profile_ID','Physician_First_Name','Physician_Last_Name'],values='Total_Amount_of_Payment_USDollars', aggfunc=sum).sort_values(ascending=False).head(20)\n",
    "#embeda owned by Pfizer"
   ]
  },
  {
   "cell_type": "code",
   "execution_count": 19,
   "metadata": {
    "collapsed": false
   },
   "outputs": [
    {
     "data": {
      "text/plain": [
       "Physician_Profile_ID  Physician_First_Name  Physician_Last_Name\n",
       "150502                JOSEPH                VALENZA                4460.57\n",
       "724                   JOHN                  SECOY                   100.00\n",
       "143777                JOSEPH                RAMOS                   100.00\n",
       "207712                EDWARD                ALLEGRA                  51.07\n",
       "7127                  NINGNING              HE                       48.87\n",
       "203290                TANYA                 WEISSMAN                 48.47\n",
       "206178                DAVID                 CONYACK                  43.40\n",
       "345487                MOHSEN                KALLINY                  42.27\n",
       "225940                MANISH                SINGH                    37.09\n",
       "191664                JOSEPH                IBRAHIM                  35.56\n",
       "100942                ELIZABETH             BAKER                    33.89\n",
       "201541                PERRY                 HERMAN                   29.52\n",
       "249                   ALAN                  LICHTBROUN               29.07\n",
       "52039                 CHARLES               WEBER                    28.55\n",
       "78140                 NATHANIEL             SUTAIN                   25.88\n",
       "317222                CHRISTOPHER           ROPIAK                   25.87\n",
       "135515                YOHAN                 LEE                      24.92\n",
       "308707                SILVIO                QUAGLIA                  24.60\n",
       "28902                 ANDREW                MEDVEDOVSKY              24.36\n",
       "116343                KEVIN                 KUNKLE                   24.20\n",
       "Name: Total_Amount_of_Payment_USDollars, dtype: float64"
      ]
     },
     "execution_count": 19,
     "metadata": {},
     "output_type": "execute_result"
    }
   ],
   "source": [
    "nuc = pd.read_csv(\"Opioid_payments/Nucynta.csv\")\n",
    "nuc.head()\n",
    "\n",
    "nuc.pivot_table(index=['Physician_Profile_ID','Physician_First_Name','Physician_Last_Name'],values='Total_Amount_of_Payment_USDollars', aggfunc=sum).sort_values(ascending=False).head(20)\n",
    "#appears to be manufactured by Depomed now\n",
    "#but was acquired by Janssen in 2015"
   ]
  },
  {
   "cell_type": "code",
   "execution_count": 25,
   "metadata": {
    "collapsed": false
   },
   "outputs": [
    {
     "data": {
      "text/plain": [
       "Physician_Profile_ID  Physician_First_Name  Physician_Last_Name\n",
       "78140                 NATHANIEL             SUTAIN                 38.41\n",
       "312151                TED                   FREEMAN                35.53\n",
       "77968                 ANIL                  SHARMA                 32.26\n",
       "345990                ASMA                  SIDDIQUI               30.97\n",
       "201541                PERRY                 HERMAN                 29.38\n",
       "259465                MICHAEL               RUDMAN                 22.93\n",
       "416791                MEENAL                PATIL                  22.16\n",
       "72476                 YOUSSEF               JOSEPHSON              22.16\n",
       "33538                 HENRY                 WROBLEWSKI             22.00\n",
       "123014                EDWARD                MAGAZINER              22.00\n",
       "Name: Total_Amount_of_Payment_USDollars, dtype: float64"
      ]
     },
     "execution_count": 25,
     "metadata": {},
     "output_type": "execute_result"
    }
   ],
   "source": [
    "opa = pd.read_csv(\"Opioid_payments/Opanatotal.csv\")\n",
    "opa.head()\n",
    "\n",
    "opa.pivot_table(index=['Physician_Profile_ID','Physician_First_Name','Physician_Last_Name'],values='Total_Amount_of_Payment_USDollars', aggfunc=sum).sort_values(ascending=False).head(10)\n",
    "#owned by Endo Pharma, which also manufacturers Percs\n",
    "#payments totaled ~600"
   ]
  },
  {
   "cell_type": "code",
   "execution_count": 32,
   "metadata": {
    "collapsed": false
   },
   "outputs": [],
   "source": [
    "#taken from CMS list of opioids\n",
    "#https://www.cms.gov/Research-Statistics-Data-and-Systems/Statistics-Trends-and-Reports/Medicare-Provider-Charge-Data/Downloads/Prescriber_Methods.pdf\n",
    "allopioids = ['ABSTRAL', \n",
    "'ACETAMINOPHEN-CODEINE', \n",
    "'ACTIQ', \n",
    "'ASCOMP WITH CODEINE', \n",
    "'ASPIRIN-CAFFEINE-DIHYDROCODEIN', \n",
    "'AVINZA', \n",
    "'BELLADONNA-OPIUM', \n",
    "'BUPRENORPHINE HCL', \n",
    "'BUTALB-ACETAMINOPH-CAFF-CODEIN', \n",
    "'BUTALB-CAFF-ACETAMINOPH-CODEIN', \n",
    "'BUTALBITAL COMPOUND-CODEINE', \n",
    "'BUTORPHANOL TARTRATE', \n",
    "'BUTRANS', \n",
    "'CAPITAL W-CODEINE', \n",
    "'CARISOPRODOL COMPOUND-CODEINE', \n",
    "'CARISOPRODOL-ASPIRIN-CODEINE', \n",
    "'CODEINE SULFATE', \n",
    "'CO-GESIC', \n",
    "'CONZIP', \n",
    "'DEMEROL', \n",
    "'DEMEROL', \n",
    "'DILAUDID', \n",
    "'DILAUDID', \n",
    "'DILAUDID-HP', \n",
    "'DISKETS', \n",
    "'DOLOPHINE HCL', \n",
    "'DURAGESIC', \n",
    "'DURAMORPH', \n",
    "'ENDOCET', \n",
    "'ENDODAN', \n",
    "'EXALGO', \n",
    "'FENTANYL', \n",
    "'FENTANYL CITRATE', \n",
    "'FENTORA', \n",
    "'FIORICET WITH CODEINE', \n",
    "'FIORINAL WITH CODEINE #3', \n",
    "'HYCET', \n",
    "'HYDROCODONE-ACETAMINOPHEN', \n",
    "'HYDROCODONE-IBUPROFEN', \n",
    "'HYDROMORPHONE ER', \n",
    "'HYDROMORPHONE HCL', \n",
    "'HYDROMORPHONE HCL', \n",
    "'IBUDONE', \n",
    "'INFUMORPH', \n",
    "'KADIAN', \n",
    "'LAZANDA', \n",
    "'LEVORPHANOL TARTRATE', \n",
    "'LORCET', \n",
    "'LORCET 10-650', \n",
    "'LORCET HD', \n",
    "'LORCET PLUS', \n",
    "'LORTAB', \n",
    "'MAGNACET', \n",
    "'MEPERIDINE HCL', \n",
    "'MEPERIDINE HCL', \n",
    "'MEPERITAB', \n",
    "'METHADONE HCL', \n",
    "'METHADONE INTENSOL', \n",
    "'METHADOSE', \n",
    "'MORPHINE SULFATE', \n",
    "'MORPHINE SULFATE', \n",
    "'MORPHINE SULFATE ER', \n",
    "'MS CONTIN', \n",
    "'NALBUPHINE HCL', \n",
    "'NORCO', \n",
    "'NUCYNTA', \n",
    "'NUCYNTA ER', \n",
    "'OPANA', \n",
    "'OPANA ER', \n",
    "'OPIUM TINCTURE', \n",
    "'OXECTA', \n",
    "'OXYCODONE HCL', \n",
    "'OXYCODONE HCL ER', \n",
    "'OXYCODONE HCL-ASPIRIN', \n",
    "'OXYCODONE HCL-IBUPROFEN', \n",
    "'OXYCODONE-ACETAMINOPHEN', \n",
    "'OXYCONTIN', \n",
    "'OXYMORPHONE HCL', \n",
    "'OXYMORPHONE HCL ER', \n",
    "'PENTAZOCINE-ACETAMINOPHEN', \n",
    "'PENTAZOCINE-NALOXONE HCL', \n",
    "'PERCOCET', \n",
    "'PERCODAN', \n",
    "'PRIMLEV', \n",
    "'REPREXAIN', \n",
    "'ROXICET', \n",
    "'ROXICODONE', \n",
    "'RYBIX ODT', \n",
    "'STAGESIC', \n",
    "'SUBSYS', \n",
    "'SYNALGOS-DC', \n",
    "'TALWIN', \n",
    "'TRAMADOL HCL', \n",
    "'TRAMADOL HCL ER', \n",
    "'TRAMADOL HCL-ACETAMINOPHEN', \n",
    "'TREZIX', \n",
    "'TYLENOL-CODEINE NO.3', \n",
    "'TYLENOL-CODEINE NO.4', \n",
    "'ULTRACET', \n",
    "'ULTRAM', \n",
    "'ULTRAM ER', \n",
    "'VICODIN', \n",
    "'VICODIN ES', \n",
    "'VICODIN HP', \n",
    "'VICOPROFEN', \n",
    "'XARTEMIS XR', \n",
    "'XODOL 10-300', \n",
    "'XODOL 5-300', \n",
    "'XODOL 7.5-300', \n",
    "'XYLON 10', \n",
    "'ZAMICET', \n",
    "'ZOHYDRO ER', \n",
    "'ZOLVIT']"
   ]
  },
  {
   "cell_type": "code",
   "execution_count": 29,
   "metadata": {
    "collapsed": true
   },
   "outputs": [],
   "source": [
    "def druglist():\n",
    "    for n in allopioids:\n",
    "        thisdrug = df[df['Name_of_Associated_Covered_Drug_or_Biological1'] == n]\n",
    "        if thisdrug['Physician_Profile_ID'].count() > 1:\n",
    "            thisdrug.to_csv(\"Opioid_payments/(%s).csv\" %n)\n"
   ]
  },
  {
   "cell_type": "code",
   "execution_count": 30,
   "metadata": {
    "collapsed": false,
    "scrolled": true
   },
   "outputs": [],
   "source": [
    "# druglist()"
   ]
  }
 ],
 "metadata": {
  "anaconda-cloud": {},
  "kernelspec": {
   "display_name": "Python [Root]",
   "language": "python",
   "name": "Python [Root]"
  },
  "language_info": {
   "codemirror_mode": {
    "name": "ipython",
    "version": 2
   },
   "file_extension": ".py",
   "mimetype": "text/x-python",
   "name": "python",
   "nbconvert_exporter": "python",
   "pygments_lexer": "ipython2",
   "version": "2.7.12"
  }
 },
 "nbformat": 4,
 "nbformat_minor": 0
}
