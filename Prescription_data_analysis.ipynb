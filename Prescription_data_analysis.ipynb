{
 "cells": [
  {
   "cell_type": "code",
   "execution_count": 1,
   "metadata": {
    "collapsed": true
   },
   "outputs": [],
   "source": [
    "import pandas as pd"
   ]
  },
  {
   "cell_type": "code",
   "execution_count": 2,
   "metadata": {
    "collapsed": false
   },
   "outputs": [],
   "source": [
    "df = pd.read_csv(\"PartD_Prescriber_PUF_NPI_14/PartD_Prescriber_PUF_NPI_14.txt\", delimiter=\"\\t\")"
   ]
  },
  {
   "cell_type": "code",
   "execution_count": 3,
   "metadata": {
    "collapsed": false,
    "scrolled": true
   },
   "outputs": [
    {
     "data": {
      "text/plain": [
       "Index([u'NPI', u'NPPES_PROVIDER_LAST_ORG_NAME', u'NPPES_PROVIDER_FIRST_NAME',\n",
       "       u'NPPES_PROVIDER_MI', u'NPPES_CREDENTIALS', u'NPPES_PROVIDER_GENDER',\n",
       "       u'NPPES_ENTITY_CODE', u'NPPES_PROVIDER_STREET1',\n",
       "       u'NPPES_PROVIDER_STREET2', u'NPPES_PROVIDER_CITY',\n",
       "       u'NPPES_PROVIDER_ZIP5', u'NPPES_PROVIDER_ZIP4', u'NPPES_PROVIDER_STATE',\n",
       "       u'NPPES_PROVIDER_COUNTRY', u'SPECIALTY_DESCRIPTION',\n",
       "       u'DESCRIPTION_FLAG', u'MEDICARE_PRVDR_ENROLL_STATUS', u'BENE_COUNT',\n",
       "       u'TOTAL_CLAIM_COUNT', u'TOTAL_DRUG_COST', u'TOTAL_DAY_SUPPLY',\n",
       "       u'BENE_COUNT_GE65', u'BENE_COUNT_GE65_SUPPRESS_FLAG',\n",
       "       u'TOTAL_CLAIM_COUNT_GE65', u'GE65_SUPPRESS_FLAG',\n",
       "       u'TOTAL_DRUG_COST_GE65', u'TOTAL_DAY_SUPPLY_GE65', u'BRAND_CLAIM_COUNT',\n",
       "       u'BRAND_SUPPRESS_FLAG', u'BRAND_DRUG_COST', u'GENERIC_CLAIM_COUNT',\n",
       "       u'GENERIC_SUPPRESS_FLAG', u'GENERIC_DRUG_COST', u'OTHER_CLAIM_COUNT',\n",
       "       u'OTHER_SUPPRESS_FLAG', u'OTHER_DRUG_COST', u'MAPD_CLAIM_COUNT',\n",
       "       u'MAPD_SUPPRESS_FLAG', u'MAPD_DRUG_COST', u'PDP_CLAIM_COUNT',\n",
       "       u'PDP_SUPPRESS_FLAG', u'PDP_DRUG_COST', u'LIS_CLAIM_COUNT',\n",
       "       u'LIS_SUPPRESS_FLAG', u'LIS_DRUG_COST', u'NONLIS_CLAIM_COUNT',\n",
       "       u'NONLIS_SUPPRESS_FLAG', u'NONLIS_DRUG_COST', u'OPIOID_BENE_COUNT',\n",
       "       u'OPIOID_CLAIM_COUNT', u'OPIOID_DRUG_COST', u'OPIOID_DAY_SUPPLY',\n",
       "       u'ANTIBIOTIC_BENE_COUNT', u'ANTIBIOTIC_CLAIM_COUNT',\n",
       "       u'ANTIBIOTIC_DRUG_COST', u'HRM_BENE_COUNT_GE65',\n",
       "       u'HRM_BENE_GE65_SUPPRESS_FLAG', u'HRM_CLAIM_COUNT_GE65',\n",
       "       u'HRM_GE65_SUPPRESS_FLAG', u'HRM_DRUG_COST_GE65',\n",
       "       u'ANTI_PSYCH_BENE_COUNT', u'ANTI_PSYCH_CLAIM_COUNT',\n",
       "       u'ANTI_PSYCH_DRUG_COST'],\n",
       "      dtype='object')"
      ]
     },
     "execution_count": 3,
     "metadata": {},
     "output_type": "execute_result"
    }
   ],
   "source": [
    "df.columns"
   ]
  },
  {
   "cell_type": "code",
   "execution_count": 4,
   "metadata": {
    "collapsed": false
   },
   "outputs": [],
   "source": [
    "NJ = df[df[\"NPPES_PROVIDER_STATE\"] == \"NJ\"]"
   ]
  },
  {
   "cell_type": "code",
   "execution_count": 5,
   "metadata": {
    "collapsed": false
   },
   "outputs": [
    {
     "data": {
      "text/plain": [
       "array([1497965024, 1962475566, 1336129071, ..., 1841346392, 1962508176,\n",
       "       1538202916])"
      ]
     },
     "execution_count": 5,
     "metadata": {},
     "output_type": "execute_result"
    }
   ],
   "source": [
    "NJ[\"NPI\"].unique()"
   ]
  },
  {
   "cell_type": "code",
   "execution_count": 7,
   "metadata": {
    "collapsed": false
   },
   "outputs": [],
   "source": [
    "topNJop = NJ.sort_values(\"OPIOID_CLAIM_COUNT\", ascending=False)"
   ]
  },
  {
   "cell_type": "code",
   "execution_count": 22,
   "metadata": {
    "collapsed": false,
    "scrolled": true
   },
   "outputs": [
    {
     "data": {
      "text/plain": [
       "NPPES_PROVIDER_CITY\n",
       "TOMS RIVER              42241.0\n",
       "NEWARK                  28778.0\n",
       "CAMDEN                  28701.0\n",
       "JERSEY CITY             28691.0\n",
       "EDISON                  25073.0\n",
       "VOORHEES                24927.0\n",
       "CLIFTON                 24320.0\n",
       "CHERRY HILL             23527.0\n",
       "HAMILTON                23243.0\n",
       "BAYONNE                 22569.0\n",
       "VINELAND                21564.0\n",
       "HACKENSACK              21005.0\n",
       "MARLTON                 20995.0\n",
       "BRICK                   19964.0\n",
       "WAYNE                   19522.0\n",
       "STRATFORD               17961.0\n",
       "MORRISTOWN              17364.0\n",
       "PARAMUS                 17229.0\n",
       "FREEHOLD                16457.0\n",
       "MOUNT LAUREL            16088.0\n",
       "HAMMONTON               15600.0\n",
       "ENGLEWOOD               15347.0\n",
       "PATERSON                15284.0\n",
       "TRENTON                 14750.0\n",
       "WOODBURY                14557.0\n",
       "SEWELL                  14364.0\n",
       "NEW BRUNSWICK           13346.0\n",
       "BELLEVILLE              13181.0\n",
       "CAPE MAY COURT HOUSE    13022.0\n",
       "ELIZABETH               12995.0\n",
       "                         ...   \n",
       "METOCHEN                    NaN\n",
       "MILLSTONE                   NaN\n",
       "MILLSTONE TWP               NaN\n",
       "MONMOUTH JCT                NaN\n",
       "MOUNTAIN LAKE               NaN\n",
       "MR ARLINGTON                NaN\n",
       "N CALDWELL                  NaN\n",
       "NEW YORK                    NaN\n",
       "NEWBRUNSWICK                NaN\n",
       "NORTH MIDDLETOWN            NaN\n",
       "NORTHBERGEN                 NaN\n",
       "NY                          NaN\n",
       "PENNS GROVE                 NaN\n",
       "PITTMAN                     NaN\n",
       "PLUCKEMIN                   NaN\n",
       "POTTERSVILLE                NaN\n",
       "S ORANGE                    NaN\n",
       "SADDLEBROOK                 NaN\n",
       "SAMERS POINT                NaN\n",
       "SERGEANTSVILLE              NaN\n",
       "SMITHVILLE                  NaN\n",
       "TABERNACLE                  NaN\n",
       "TEANEAK                     NaN\n",
       "UPPER MONCLAIR              NaN\n",
       "VENTNON                     NaN\n",
       "WARETOWN                    NaN\n",
       "WEST CREEK                  NaN\n",
       "WESTNEWYORK                 NaN\n",
       "WOOLWICH TWP                NaN\n",
       "WRIGHTSTOWN                 NaN\n",
       "Name: OPIOID_CLAIM_COUNT, dtype: float64"
      ]
     },
     "execution_count": 22,
     "metadata": {},
     "output_type": "execute_result"
    }
   ],
   "source": [
    "NJ.groupby(\"NPPES_PROVIDER_CITY\").sum().iloc[:,26].sort_values(ascending=False)"
   ]
  },
  {
   "cell_type": "code",
   "execution_count": 15,
   "metadata": {
    "collapsed": true
   },
   "outputs": [],
   "source": [
    "import matplotlib.pyplot as plt\n",
    "# This Jupyter magic function will draw our charts right into the notebook\n",
    "%matplotlib inline"
   ]
  },
  {
   "cell_type": "code",
   "execution_count": 5,
   "metadata": {
    "collapsed": false,
    "scrolled": true
   },
   "outputs": [
    {
     "name": "stderr",
     "output_type": "stream",
     "text": [
      "/Users/epetenko/anaconda/lib/python2.7/site-packages/ipykernel/__main__.py:1: FutureWarning: convert_objects is deprecated.  Use the data-type specific converters pd.to_datetime, pd.to_timedelta and pd.to_numeric.\n",
      "  if __name__ == '__main__':\n",
      "/Users/epetenko/anaconda/lib/python2.7/site-packages/ipykernel/__main__.py:1: SettingWithCopyWarning: \n",
      "A value is trying to be set on a copy of a slice from a DataFrame.\n",
      "Try using .loc[row_indexer,col_indexer] = value instead\n",
      "\n",
      "See the caveats in the documentation: http://pandas.pydata.org/pandas-docs/stable/indexing.html#indexing-view-versus-copy\n",
      "  if __name__ == '__main__':\n"
     ]
    }
   ],
   "source": [
    "NJ[\"OPIOID_CLAIM_COUNT\"]= NJ[\"OPIOID_CLAIM_COUNT\"].convert_objects(convert_numeric=True)"
   ]
  },
  {
   "cell_type": "code",
   "execution_count": 6,
   "metadata": {
    "collapsed": false
   },
   "outputs": [
    {
     "name": "stderr",
     "output_type": "stream",
     "text": [
      "/Users/epetenko/anaconda/lib/python2.7/site-packages/numpy/lib/function_base.py:3834: RuntimeWarning: Invalid value encountered in percentile\n",
      "  RuntimeWarning)\n"
     ]
    },
    {
     "data": {
      "text/plain": [
       "count    20762.000000\n",
       "mean        71.290145\n",
       "std        189.923707\n",
       "min          0.000000\n",
       "25%               NaN\n",
       "50%               NaN\n",
       "75%               NaN\n",
       "max       4427.000000\n",
       "Name: OPIOID_CLAIM_COUNT, dtype: float64"
      ]
     },
     "execution_count": 6,
     "metadata": {},
     "output_type": "execute_result"
    }
   ],
   "source": [
    "NJ[\"OPIOID_CLAIM_COUNT\"].describe()"
   ]
  },
  {
   "cell_type": "code",
   "execution_count": 8,
   "metadata": {
    "collapsed": false
   },
   "outputs": [
    {
     "name": "stderr",
     "output_type": "stream",
     "text": [
      "/Users/epetenko/anaconda/lib/python2.7/site-packages/ipykernel/__main__.py:1: SettingWithCopyWarning: \n",
      "A value is trying to be set on a copy of a slice from a DataFrame.\n",
      "Try using .loc[row_indexer,col_indexer] = value instead\n",
      "\n",
      "See the caveats in the documentation: http://pandas.pydata.org/pandas-docs/stable/indexing.html#indexing-view-versus-copy\n",
      "  if __name__ == '__main__':\n"
     ]
    }
   ],
   "source": [
    "NJ[\"OPIOID_CLAIM_COUNT\"] = NJ[\"OPIOID_CLAIM_COUNT\"].fillna(value=0)"
   ]
  },
  {
   "cell_type": "code",
   "execution_count": 9,
   "metadata": {
    "collapsed": false
   },
   "outputs": [
    {
     "name": "stderr",
     "output_type": "stream",
     "text": [
      "/Users/epetenko/anaconda/lib/python2.7/site-packages/ipykernel/__main__.py:1: SettingWithCopyWarning: \n",
      "A value is trying to be set on a copy of a slice from a DataFrame.\n",
      "Try using .loc[row_indexer,col_indexer] = value instead\n",
      "\n",
      "See the caveats in the documentation: http://pandas.pydata.org/pandas-docs/stable/indexing.html#indexing-view-versus-copy\n",
      "  if __name__ == '__main__':\n"
     ]
    }
   ],
   "source": [
    "NJ['TOTAL_CLAIM_COUNT'] = NJ['TOTAL_CLAIM_COUNT'].fillna(value=0)"
   ]
  },
  {
   "cell_type": "code",
   "execution_count": 10,
   "metadata": {
    "collapsed": false
   },
   "outputs": [
    {
     "data": {
      "text/html": [
       "<div>\n",
       "<table border=\"1\" class=\"dataframe\">\n",
       "  <thead>\n",
       "    <tr style=\"text-align: right;\">\n",
       "      <th></th>\n",
       "      <th>NPI</th>\n",
       "      <th>NPPES_PROVIDER_LAST_ORG_NAME</th>\n",
       "      <th>NPPES_PROVIDER_FIRST_NAME</th>\n",
       "      <th>NPPES_PROVIDER_MI</th>\n",
       "      <th>NPPES_CREDENTIALS</th>\n",
       "      <th>NPPES_PROVIDER_GENDER</th>\n",
       "      <th>NPPES_ENTITY_CODE</th>\n",
       "      <th>NPPES_PROVIDER_STREET1</th>\n",
       "      <th>NPPES_PROVIDER_STREET2</th>\n",
       "      <th>NPPES_PROVIDER_CITY</th>\n",
       "      <th>...</th>\n",
       "      <th>ANTIBIOTIC_CLAIM_COUNT</th>\n",
       "      <th>ANTIBIOTIC_DRUG_COST</th>\n",
       "      <th>HRM_BENE_COUNT_GE65</th>\n",
       "      <th>HRM_BENE_GE65_SUPPRESS_FLAG</th>\n",
       "      <th>HRM_CLAIM_COUNT_GE65</th>\n",
       "      <th>HRM_GE65_SUPPRESS_FLAG</th>\n",
       "      <th>HRM_DRUG_COST_GE65</th>\n",
       "      <th>ANTI_PSYCH_BENE_COUNT</th>\n",
       "      <th>ANTI_PSYCH_CLAIM_COUNT</th>\n",
       "      <th>ANTI_PSYCH_DRUG_COST</th>\n",
       "    </tr>\n",
       "  </thead>\n",
       "  <tbody>\n",
       "    <tr>\n",
       "      <th>88</th>\n",
       "      <td>1497965024</td>\n",
       "      <td>AARON</td>\n",
       "      <td>ANGELA</td>\n",
       "      <td>NaN</td>\n",
       "      <td>DDS</td>\n",
       "      <td>F</td>\n",
       "      <td>I</td>\n",
       "      <td>464 VALLEY BROOK AVE</td>\n",
       "      <td>NaN</td>\n",
       "      <td>LYNDHURST</td>\n",
       "      <td>...</td>\n",
       "      <td>21.0</td>\n",
       "      <td>102.27</td>\n",
       "      <td>NaN</td>\n",
       "      <td>*</td>\n",
       "      <td>NaN</td>\n",
       "      <td>*</td>\n",
       "      <td>NaN</td>\n",
       "      <td>0.0</td>\n",
       "      <td>0.0</td>\n",
       "      <td>0.0</td>\n",
       "    </tr>\n",
       "    <tr>\n",
       "      <th>89</th>\n",
       "      <td>1962475566</td>\n",
       "      <td>AARON</td>\n",
       "      <td>BERNARD</td>\n",
       "      <td>NaN</td>\n",
       "      <td>M.D.</td>\n",
       "      <td>M</td>\n",
       "      <td>I</td>\n",
       "      <td>1640 ROUTE 88 W</td>\n",
       "      <td>SUITE 202</td>\n",
       "      <td>BRICK</td>\n",
       "      <td>...</td>\n",
       "      <td>19.0</td>\n",
       "      <td>875.19</td>\n",
       "      <td>NaN</td>\n",
       "      <td>*</td>\n",
       "      <td>NaN</td>\n",
       "      <td>*</td>\n",
       "      <td>NaN</td>\n",
       "      <td>NaN</td>\n",
       "      <td>NaN</td>\n",
       "      <td>NaN</td>\n",
       "    </tr>\n",
       "    <tr>\n",
       "      <th>124</th>\n",
       "      <td>1336129071</td>\n",
       "      <td>AARON</td>\n",
       "      <td>MICHAEL</td>\n",
       "      <td>R</td>\n",
       "      <td>D.O.</td>\n",
       "      <td>M</td>\n",
       "      <td>I</td>\n",
       "      <td>1820 STATE ROUTE 33</td>\n",
       "      <td>SUITE 4B</td>\n",
       "      <td>NEPTUNE</td>\n",
       "      <td>...</td>\n",
       "      <td>24.0</td>\n",
       "      <td>155.11</td>\n",
       "      <td>46.0</td>\n",
       "      <td>NaN</td>\n",
       "      <td>169.0</td>\n",
       "      <td>NaN</td>\n",
       "      <td>9927.18</td>\n",
       "      <td>NaN</td>\n",
       "      <td>NaN</td>\n",
       "      <td>NaN</td>\n",
       "    </tr>\n",
       "    <tr>\n",
       "      <th>150</th>\n",
       "      <td>1194982470</td>\n",
       "      <td>AARONS</td>\n",
       "      <td>DARRYL</td>\n",
       "      <td>H</td>\n",
       "      <td>DO</td>\n",
       "      <td>M</td>\n",
       "      <td>I</td>\n",
       "      <td>600 W SHORE DR</td>\n",
       "      <td>NaN</td>\n",
       "      <td>BRIGANTINE</td>\n",
       "      <td>...</td>\n",
       "      <td>NaN</td>\n",
       "      <td>NaN</td>\n",
       "      <td>0.0</td>\n",
       "      <td>NaN</td>\n",
       "      <td>0.0</td>\n",
       "      <td>NaN</td>\n",
       "      <td>0.00</td>\n",
       "      <td>0.0</td>\n",
       "      <td>0.0</td>\n",
       "      <td>0.0</td>\n",
       "    </tr>\n",
       "    <tr>\n",
       "      <th>205</th>\n",
       "      <td>1861549925</td>\n",
       "      <td>AASMAA</td>\n",
       "      <td>SIRIKE</td>\n",
       "      <td>T</td>\n",
       "      <td>DO</td>\n",
       "      <td>F</td>\n",
       "      <td>I</td>\n",
       "      <td>170 CHANGEBRIDGE RD</td>\n",
       "      <td>SUITE D1</td>\n",
       "      <td>MONTVILLE</td>\n",
       "      <td>...</td>\n",
       "      <td>110.0</td>\n",
       "      <td>18346.42</td>\n",
       "      <td>45.0</td>\n",
       "      <td>NaN</td>\n",
       "      <td>163.0</td>\n",
       "      <td>NaN</td>\n",
       "      <td>9958.29</td>\n",
       "      <td>NaN</td>\n",
       "      <td>NaN</td>\n",
       "      <td>NaN</td>\n",
       "    </tr>\n",
       "  </tbody>\n",
       "</table>\n",
       "<p>5 rows × 63 columns</p>\n",
       "</div>"
      ],
      "text/plain": [
       "            NPI NPPES_PROVIDER_LAST_ORG_NAME NPPES_PROVIDER_FIRST_NAME  \\\n",
       "88   1497965024                        AARON                    ANGELA   \n",
       "89   1962475566                        AARON                   BERNARD   \n",
       "124  1336129071                        AARON                   MICHAEL   \n",
       "150  1194982470                       AARONS                    DARRYL   \n",
       "205  1861549925                       AASMAA                    SIRIKE   \n",
       "\n",
       "    NPPES_PROVIDER_MI NPPES_CREDENTIALS NPPES_PROVIDER_GENDER  \\\n",
       "88                NaN               DDS                     F   \n",
       "89                NaN              M.D.                     M   \n",
       "124                 R              D.O.                     M   \n",
       "150                 H                DO                     M   \n",
       "205                 T                DO                     F   \n",
       "\n",
       "    NPPES_ENTITY_CODE NPPES_PROVIDER_STREET1 NPPES_PROVIDER_STREET2  \\\n",
       "88                  I   464 VALLEY BROOK AVE                    NaN   \n",
       "89                  I        1640 ROUTE 88 W              SUITE 202   \n",
       "124                 I    1820 STATE ROUTE 33               SUITE 4B   \n",
       "150                 I         600 W SHORE DR                    NaN   \n",
       "205                 I    170 CHANGEBRIDGE RD               SUITE D1   \n",
       "\n",
       "    NPPES_PROVIDER_CITY          ...           ANTIBIOTIC_CLAIM_COUNT  \\\n",
       "88            LYNDHURST          ...                             21.0   \n",
       "89                BRICK          ...                             19.0   \n",
       "124             NEPTUNE          ...                             24.0   \n",
       "150          BRIGANTINE          ...                              NaN   \n",
       "205           MONTVILLE          ...                            110.0   \n",
       "\n",
       "     ANTIBIOTIC_DRUG_COST HRM_BENE_COUNT_GE65 HRM_BENE_GE65_SUPPRESS_FLAG  \\\n",
       "88                 102.27                 NaN                           *   \n",
       "89                 875.19                 NaN                           *   \n",
       "124                155.11                46.0                         NaN   \n",
       "150                   NaN                 0.0                         NaN   \n",
       "205              18346.42                45.0                         NaN   \n",
       "\n",
       "    HRM_CLAIM_COUNT_GE65 HRM_GE65_SUPPRESS_FLAG HRM_DRUG_COST_GE65  \\\n",
       "88                   NaN                      *                NaN   \n",
       "89                   NaN                      *                NaN   \n",
       "124                169.0                    NaN            9927.18   \n",
       "150                  0.0                    NaN               0.00   \n",
       "205                163.0                    NaN            9958.29   \n",
       "\n",
       "     ANTI_PSYCH_BENE_COUNT  ANTI_PSYCH_CLAIM_COUNT  ANTI_PSYCH_DRUG_COST  \n",
       "88                     0.0                     0.0                   0.0  \n",
       "89                     NaN                     NaN                   NaN  \n",
       "124                    NaN                     NaN                   NaN  \n",
       "150                    0.0                     0.0                   0.0  \n",
       "205                    NaN                     NaN                   NaN  \n",
       "\n",
       "[5 rows x 63 columns]"
      ]
     },
     "execution_count": 10,
     "metadata": {},
     "output_type": "execute_result"
    }
   ],
   "source": [
    "NJ.head()"
   ]
  },
  {
   "cell_type": "code",
   "execution_count": 11,
   "metadata": {
    "collapsed": false
   },
   "outputs": [
    {
     "name": "stderr",
     "output_type": "stream",
     "text": [
      "/Users/epetenko/anaconda/lib/python2.7/site-packages/ipykernel/__main__.py:1: SettingWithCopyWarning: \n",
      "A value is trying to be set on a copy of a slice from a DataFrame.\n",
      "Try using .loc[row_indexer,col_indexer] = value instead\n",
      "\n",
      "See the caveats in the documentation: http://pandas.pydata.org/pandas-docs/stable/indexing.html#indexing-view-versus-copy\n",
      "  if __name__ == '__main__':\n"
     ]
    }
   ],
   "source": [
    "NJ[\"PCNT_OPIOID\"] = NJ[\"OPIOID_CLAIM_COUNT\"]/NJ['TOTAL_CLAIM_COUNT']*100"
   ]
  },
  {
   "cell_type": "code",
   "execution_count": 12,
   "metadata": {
    "collapsed": false
   },
   "outputs": [
    {
     "data": {
      "text/html": [
       "<div>\n",
       "<table border=\"1\" class=\"dataframe\">\n",
       "  <thead>\n",
       "    <tr style=\"text-align: right;\">\n",
       "      <th></th>\n",
       "      <th>NPI</th>\n",
       "      <th>NPPES_PROVIDER_LAST_ORG_NAME</th>\n",
       "      <th>NPPES_PROVIDER_FIRST_NAME</th>\n",
       "      <th>NPPES_PROVIDER_MI</th>\n",
       "      <th>NPPES_CREDENTIALS</th>\n",
       "      <th>NPPES_PROVIDER_GENDER</th>\n",
       "      <th>NPPES_ENTITY_CODE</th>\n",
       "      <th>NPPES_PROVIDER_STREET1</th>\n",
       "      <th>NPPES_PROVIDER_STREET2</th>\n",
       "      <th>NPPES_PROVIDER_CITY</th>\n",
       "      <th>...</th>\n",
       "      <th>ANTIBIOTIC_DRUG_COST</th>\n",
       "      <th>HRM_BENE_COUNT_GE65</th>\n",
       "      <th>HRM_BENE_GE65_SUPPRESS_FLAG</th>\n",
       "      <th>HRM_CLAIM_COUNT_GE65</th>\n",
       "      <th>HRM_GE65_SUPPRESS_FLAG</th>\n",
       "      <th>HRM_DRUG_COST_GE65</th>\n",
       "      <th>ANTI_PSYCH_BENE_COUNT</th>\n",
       "      <th>ANTI_PSYCH_CLAIM_COUNT</th>\n",
       "      <th>ANTI_PSYCH_DRUG_COST</th>\n",
       "      <th>PCNT_OPIOID</th>\n",
       "    </tr>\n",
       "  </thead>\n",
       "  <tbody>\n",
       "    <tr>\n",
       "      <th>88</th>\n",
       "      <td>1497965024</td>\n",
       "      <td>AARON</td>\n",
       "      <td>ANGELA</td>\n",
       "      <td>NaN</td>\n",
       "      <td>DDS</td>\n",
       "      <td>F</td>\n",
       "      <td>I</td>\n",
       "      <td>464 VALLEY BROOK AVE</td>\n",
       "      <td>NaN</td>\n",
       "      <td>LYNDHURST</td>\n",
       "      <td>...</td>\n",
       "      <td>102.27</td>\n",
       "      <td>NaN</td>\n",
       "      <td>*</td>\n",
       "      <td>NaN</td>\n",
       "      <td>*</td>\n",
       "      <td>NaN</td>\n",
       "      <td>0.0</td>\n",
       "      <td>0.0</td>\n",
       "      <td>0.0</td>\n",
       "      <td>0.000000</td>\n",
       "    </tr>\n",
       "    <tr>\n",
       "      <th>89</th>\n",
       "      <td>1962475566</td>\n",
       "      <td>AARON</td>\n",
       "      <td>BERNARD</td>\n",
       "      <td>NaN</td>\n",
       "      <td>M.D.</td>\n",
       "      <td>M</td>\n",
       "      <td>I</td>\n",
       "      <td>1640 ROUTE 88 W</td>\n",
       "      <td>SUITE 202</td>\n",
       "      <td>BRICK</td>\n",
       "      <td>...</td>\n",
       "      <td>875.19</td>\n",
       "      <td>NaN</td>\n",
       "      <td>*</td>\n",
       "      <td>NaN</td>\n",
       "      <td>*</td>\n",
       "      <td>NaN</td>\n",
       "      <td>NaN</td>\n",
       "      <td>NaN</td>\n",
       "      <td>NaN</td>\n",
       "      <td>0.000000</td>\n",
       "    </tr>\n",
       "    <tr>\n",
       "      <th>124</th>\n",
       "      <td>1336129071</td>\n",
       "      <td>AARON</td>\n",
       "      <td>MICHAEL</td>\n",
       "      <td>R</td>\n",
       "      <td>D.O.</td>\n",
       "      <td>M</td>\n",
       "      <td>I</td>\n",
       "      <td>1820 STATE ROUTE 33</td>\n",
       "      <td>SUITE 4B</td>\n",
       "      <td>NEPTUNE</td>\n",
       "      <td>...</td>\n",
       "      <td>155.11</td>\n",
       "      <td>46.0</td>\n",
       "      <td>NaN</td>\n",
       "      <td>169.0</td>\n",
       "      <td>NaN</td>\n",
       "      <td>9927.18</td>\n",
       "      <td>NaN</td>\n",
       "      <td>NaN</td>\n",
       "      <td>NaN</td>\n",
       "      <td>0.000000</td>\n",
       "    </tr>\n",
       "    <tr>\n",
       "      <th>150</th>\n",
       "      <td>1194982470</td>\n",
       "      <td>AARONS</td>\n",
       "      <td>DARRYL</td>\n",
       "      <td>H</td>\n",
       "      <td>DO</td>\n",
       "      <td>M</td>\n",
       "      <td>I</td>\n",
       "      <td>600 W SHORE DR</td>\n",
       "      <td>NaN</td>\n",
       "      <td>BRIGANTINE</td>\n",
       "      <td>...</td>\n",
       "      <td>NaN</td>\n",
       "      <td>0.0</td>\n",
       "      <td>NaN</td>\n",
       "      <td>0.0</td>\n",
       "      <td>NaN</td>\n",
       "      <td>0.00</td>\n",
       "      <td>0.0</td>\n",
       "      <td>0.0</td>\n",
       "      <td>0.0</td>\n",
       "      <td>0.000000</td>\n",
       "    </tr>\n",
       "    <tr>\n",
       "      <th>205</th>\n",
       "      <td>1861549925</td>\n",
       "      <td>AASMAA</td>\n",
       "      <td>SIRIKE</td>\n",
       "      <td>T</td>\n",
       "      <td>DO</td>\n",
       "      <td>F</td>\n",
       "      <td>I</td>\n",
       "      <td>170 CHANGEBRIDGE RD</td>\n",
       "      <td>SUITE D1</td>\n",
       "      <td>MONTVILLE</td>\n",
       "      <td>...</td>\n",
       "      <td>18346.42</td>\n",
       "      <td>45.0</td>\n",
       "      <td>NaN</td>\n",
       "      <td>163.0</td>\n",
       "      <td>NaN</td>\n",
       "      <td>9958.29</td>\n",
       "      <td>NaN</td>\n",
       "      <td>NaN</td>\n",
       "      <td>NaN</td>\n",
       "      <td>2.332815</td>\n",
       "    </tr>\n",
       "  </tbody>\n",
       "</table>\n",
       "<p>5 rows × 64 columns</p>\n",
       "</div>"
      ],
      "text/plain": [
       "            NPI NPPES_PROVIDER_LAST_ORG_NAME NPPES_PROVIDER_FIRST_NAME  \\\n",
       "88   1497965024                        AARON                    ANGELA   \n",
       "89   1962475566                        AARON                   BERNARD   \n",
       "124  1336129071                        AARON                   MICHAEL   \n",
       "150  1194982470                       AARONS                    DARRYL   \n",
       "205  1861549925                       AASMAA                    SIRIKE   \n",
       "\n",
       "    NPPES_PROVIDER_MI NPPES_CREDENTIALS NPPES_PROVIDER_GENDER  \\\n",
       "88                NaN               DDS                     F   \n",
       "89                NaN              M.D.                     M   \n",
       "124                 R              D.O.                     M   \n",
       "150                 H                DO                     M   \n",
       "205                 T                DO                     F   \n",
       "\n",
       "    NPPES_ENTITY_CODE NPPES_PROVIDER_STREET1 NPPES_PROVIDER_STREET2  \\\n",
       "88                  I   464 VALLEY BROOK AVE                    NaN   \n",
       "89                  I        1640 ROUTE 88 W              SUITE 202   \n",
       "124                 I    1820 STATE ROUTE 33               SUITE 4B   \n",
       "150                 I         600 W SHORE DR                    NaN   \n",
       "205                 I    170 CHANGEBRIDGE RD               SUITE D1   \n",
       "\n",
       "    NPPES_PROVIDER_CITY     ...       ANTIBIOTIC_DRUG_COST  \\\n",
       "88            LYNDHURST     ...                     102.27   \n",
       "89                BRICK     ...                     875.19   \n",
       "124             NEPTUNE     ...                     155.11   \n",
       "150          BRIGANTINE     ...                        NaN   \n",
       "205           MONTVILLE     ...                   18346.42   \n",
       "\n",
       "     HRM_BENE_COUNT_GE65 HRM_BENE_GE65_SUPPRESS_FLAG HRM_CLAIM_COUNT_GE65  \\\n",
       "88                   NaN                           *                  NaN   \n",
       "89                   NaN                           *                  NaN   \n",
       "124                 46.0                         NaN                169.0   \n",
       "150                  0.0                         NaN                  0.0   \n",
       "205                 45.0                         NaN                163.0   \n",
       "\n",
       "    HRM_GE65_SUPPRESS_FLAG HRM_DRUG_COST_GE65 ANTI_PSYCH_BENE_COUNT  \\\n",
       "88                       *                NaN                   0.0   \n",
       "89                       *                NaN                   NaN   \n",
       "124                    NaN            9927.18                   NaN   \n",
       "150                    NaN               0.00                   0.0   \n",
       "205                    NaN            9958.29                   NaN   \n",
       "\n",
       "     ANTI_PSYCH_CLAIM_COUNT  ANTI_PSYCH_DRUG_COST  PCNT_OPIOID  \n",
       "88                      0.0                   0.0     0.000000  \n",
       "89                      NaN                   NaN     0.000000  \n",
       "124                     NaN                   NaN     0.000000  \n",
       "150                     0.0                   0.0     0.000000  \n",
       "205                     NaN                   NaN     2.332815  \n",
       "\n",
       "[5 rows x 64 columns]"
      ]
     },
     "execution_count": 12,
     "metadata": {},
     "output_type": "execute_result"
    }
   ],
   "source": [
    "NJ.head()"
   ]
  },
  {
   "cell_type": "code",
   "execution_count": 13,
   "metadata": {
    "collapsed": true
   },
   "outputs": [],
   "source": [
    "# NJ.to_csv(\"Percent_opioid.csv\")"
   ]
  },
  {
   "cell_type": "code",
   "execution_count": 17,
   "metadata": {
    "collapsed": false
   },
   "outputs": [
    {
     "data": {
      "text/html": [
       "<div>\n",
       "<table border=\"1\" class=\"dataframe\">\n",
       "  <thead>\n",
       "    <tr style=\"text-align: right;\">\n",
       "      <th></th>\n",
       "      <th>NPI</th>\n",
       "      <th>NPPES_PROVIDER_LAST_ORG_NAME</th>\n",
       "      <th>NPPES_PROVIDER_FIRST_NAME</th>\n",
       "      <th>NPPES_PROVIDER_MI</th>\n",
       "      <th>NPPES_CREDENTIALS</th>\n",
       "      <th>NPPES_PROVIDER_GENDER</th>\n",
       "      <th>NPPES_ENTITY_CODE</th>\n",
       "      <th>NPPES_PROVIDER_STREET1</th>\n",
       "      <th>NPPES_PROVIDER_STREET2</th>\n",
       "      <th>NPPES_PROVIDER_CITY</th>\n",
       "      <th>...</th>\n",
       "      <th>ANTIBIOTIC_DRUG_COST</th>\n",
       "      <th>HRM_BENE_COUNT_GE65</th>\n",
       "      <th>HRM_BENE_GE65_SUPPRESS_FLAG</th>\n",
       "      <th>HRM_CLAIM_COUNT_GE65</th>\n",
       "      <th>HRM_GE65_SUPPRESS_FLAG</th>\n",
       "      <th>HRM_DRUG_COST_GE65</th>\n",
       "      <th>ANTI_PSYCH_BENE_COUNT</th>\n",
       "      <th>ANTI_PSYCH_CLAIM_COUNT</th>\n",
       "      <th>ANTI_PSYCH_DRUG_COST</th>\n",
       "      <th>PCNT_OPIOID</th>\n",
       "    </tr>\n",
       "  </thead>\n",
       "  <tbody>\n",
       "    <tr>\n",
       "      <th>501860</th>\n",
       "      <td>1629073945</td>\n",
       "      <td>KLEIN</td>\n",
       "      <td>IRA</td>\n",
       "      <td>A</td>\n",
       "      <td>M.D.</td>\n",
       "      <td>M</td>\n",
       "      <td>I</td>\n",
       "      <td>29 E 29TH ST</td>\n",
       "      <td>NaN</td>\n",
       "      <td>BAYONNE</td>\n",
       "      <td>...</td>\n",
       "      <td>0.0</td>\n",
       "      <td>0.0</td>\n",
       "      <td>NaN</td>\n",
       "      <td>0.0</td>\n",
       "      <td>NaN</td>\n",
       "      <td>0.0</td>\n",
       "      <td>0.0</td>\n",
       "      <td>0.0</td>\n",
       "      <td>0.0</td>\n",
       "      <td>100.000000</td>\n",
       "    </tr>\n",
       "    <tr>\n",
       "      <th>403153</th>\n",
       "      <td>1013948579</td>\n",
       "      <td>HERSH</td>\n",
       "      <td>CHRISTINE</td>\n",
       "      <td>M</td>\n",
       "      <td>PA</td>\n",
       "      <td>F</td>\n",
       "      <td>I</td>\n",
       "      <td>2 WORLDS FAIR DR</td>\n",
       "      <td>NaN</td>\n",
       "      <td>SOMERSET</td>\n",
       "      <td>...</td>\n",
       "      <td>0.0</td>\n",
       "      <td>0.0</td>\n",
       "      <td>NaN</td>\n",
       "      <td>0.0</td>\n",
       "      <td>NaN</td>\n",
       "      <td>0.0</td>\n",
       "      <td>0.0</td>\n",
       "      <td>0.0</td>\n",
       "      <td>0.0</td>\n",
       "      <td>100.000000</td>\n",
       "    </tr>\n",
       "    <tr>\n",
       "      <th>755563</th>\n",
       "      <td>1518114362</td>\n",
       "      <td>PINSKY</td>\n",
       "      <td>TIMMIE</td>\n",
       "      <td>A</td>\n",
       "      <td>D.O.</td>\n",
       "      <td>M</td>\n",
       "      <td>I</td>\n",
       "      <td>55 E ROUTE 70</td>\n",
       "      <td>SUITE 3</td>\n",
       "      <td>MARLTON</td>\n",
       "      <td>...</td>\n",
       "      <td>0.0</td>\n",
       "      <td>0.0</td>\n",
       "      <td>NaN</td>\n",
       "      <td>0.0</td>\n",
       "      <td>NaN</td>\n",
       "      <td>0.0</td>\n",
       "      <td>0.0</td>\n",
       "      <td>0.0</td>\n",
       "      <td>0.0</td>\n",
       "      <td>100.000000</td>\n",
       "    </tr>\n",
       "    <tr>\n",
       "      <th>521570</th>\n",
       "      <td>1881894285</td>\n",
       "      <td>KUO</td>\n",
       "      <td>DOUGLAS</td>\n",
       "      <td>NaN</td>\n",
       "      <td>D.O.</td>\n",
       "      <td>M</td>\n",
       "      <td>I</td>\n",
       "      <td>370 W PLEASANTVIEW AVE # 2-164</td>\n",
       "      <td>NaN</td>\n",
       "      <td>HACKENSACK</td>\n",
       "      <td>...</td>\n",
       "      <td>0.0</td>\n",
       "      <td>0.0</td>\n",
       "      <td>NaN</td>\n",
       "      <td>0.0</td>\n",
       "      <td>NaN</td>\n",
       "      <td>0.0</td>\n",
       "      <td>0.0</td>\n",
       "      <td>0.0</td>\n",
       "      <td>0.0</td>\n",
       "      <td>100.000000</td>\n",
       "    </tr>\n",
       "    <tr>\n",
       "      <th>662677</th>\n",
       "      <td>1760529267</td>\n",
       "      <td>MOSER</td>\n",
       "      <td>ROBERT</td>\n",
       "      <td>NaN</td>\n",
       "      <td>MD</td>\n",
       "      <td>M</td>\n",
       "      <td>I</td>\n",
       "      <td>3131 PRINCETON PIKE</td>\n",
       "      <td>5-110</td>\n",
       "      <td>LAWRENCEVILLE</td>\n",
       "      <td>...</td>\n",
       "      <td>0.0</td>\n",
       "      <td>0.0</td>\n",
       "      <td>NaN</td>\n",
       "      <td>0.0</td>\n",
       "      <td>NaN</td>\n",
       "      <td>0.0</td>\n",
       "      <td>0.0</td>\n",
       "      <td>0.0</td>\n",
       "      <td>0.0</td>\n",
       "      <td>100.000000</td>\n",
       "    </tr>\n",
       "    <tr>\n",
       "      <th>647859</th>\n",
       "      <td>1881981348</td>\n",
       "      <td>MITEV</td>\n",
       "      <td>PETKO</td>\n",
       "      <td>P</td>\n",
       "      <td>PA-C</td>\n",
       "      <td>M</td>\n",
       "      <td>I</td>\n",
       "      <td>1 DIAMOND HILL RD</td>\n",
       "      <td>NaN</td>\n",
       "      <td>BERKELEY HEIGHTS</td>\n",
       "      <td>...</td>\n",
       "      <td>0.0</td>\n",
       "      <td>0.0</td>\n",
       "      <td>NaN</td>\n",
       "      <td>0.0</td>\n",
       "      <td>NaN</td>\n",
       "      <td>0.0</td>\n",
       "      <td>0.0</td>\n",
       "      <td>0.0</td>\n",
       "      <td>0.0</td>\n",
       "      <td>94.520548</td>\n",
       "    </tr>\n",
       "    <tr>\n",
       "      <th>881840</th>\n",
       "      <td>1629055637</td>\n",
       "      <td>SHIH</td>\n",
       "      <td>DUEN</td>\n",
       "      <td>NaN</td>\n",
       "      <td>MD</td>\n",
       "      <td>M</td>\n",
       "      <td>I</td>\n",
       "      <td>600 PAVONIA AVE</td>\n",
       "      <td>NaN</td>\n",
       "      <td>JERSEY CITY</td>\n",
       "      <td>...</td>\n",
       "      <td>NaN</td>\n",
       "      <td>NaN</td>\n",
       "      <td>*</td>\n",
       "      <td>NaN</td>\n",
       "      <td>*</td>\n",
       "      <td>NaN</td>\n",
       "      <td>0.0</td>\n",
       "      <td>0.0</td>\n",
       "      <td>0.0</td>\n",
       "      <td>93.530997</td>\n",
       "    </tr>\n",
       "    <tr>\n",
       "      <th>473849</th>\n",
       "      <td>1194881730</td>\n",
       "      <td>KARCNIK</td>\n",
       "      <td>MARGARET</td>\n",
       "      <td>NaN</td>\n",
       "      <td>D.O.</td>\n",
       "      <td>F</td>\n",
       "      <td>I</td>\n",
       "      <td>18 REDNECK AVE</td>\n",
       "      <td>NaN</td>\n",
       "      <td>LITTLE FERRY</td>\n",
       "      <td>...</td>\n",
       "      <td>0.0</td>\n",
       "      <td>0.0</td>\n",
       "      <td>NaN</td>\n",
       "      <td>0.0</td>\n",
       "      <td>NaN</td>\n",
       "      <td>0.0</td>\n",
       "      <td>0.0</td>\n",
       "      <td>0.0</td>\n",
       "      <td>0.0</td>\n",
       "      <td>93.333333</td>\n",
       "    </tr>\n",
       "    <tr>\n",
       "      <th>834239</th>\n",
       "      <td>1932426616</td>\n",
       "      <td>SAGARWALA</td>\n",
       "      <td>ADAM</td>\n",
       "      <td>NaN</td>\n",
       "      <td>D.O.</td>\n",
       "      <td>M</td>\n",
       "      <td>I</td>\n",
       "      <td>201 LYONS AVE</td>\n",
       "      <td>NaN</td>\n",
       "      <td>NEWARK</td>\n",
       "      <td>...</td>\n",
       "      <td>0.0</td>\n",
       "      <td>0.0</td>\n",
       "      <td>NaN</td>\n",
       "      <td>0.0</td>\n",
       "      <td>NaN</td>\n",
       "      <td>0.0</td>\n",
       "      <td>0.0</td>\n",
       "      <td>0.0</td>\n",
       "      <td>0.0</td>\n",
       "      <td>93.333333</td>\n",
       "    </tr>\n",
       "    <tr>\n",
       "      <th>635541</th>\n",
       "      <td>1992962351</td>\n",
       "      <td>MEYER</td>\n",
       "      <td>SARAH</td>\n",
       "      <td>E</td>\n",
       "      <td>M.D.</td>\n",
       "      <td>F</td>\n",
       "      <td>I</td>\n",
       "      <td>8 HILLSIDE AVE</td>\n",
       "      <td>SUITE 106</td>\n",
       "      <td>MONTCLAIR</td>\n",
       "      <td>...</td>\n",
       "      <td>0.0</td>\n",
       "      <td>0.0</td>\n",
       "      <td>NaN</td>\n",
       "      <td>0.0</td>\n",
       "      <td>NaN</td>\n",
       "      <td>0.0</td>\n",
       "      <td>0.0</td>\n",
       "      <td>0.0</td>\n",
       "      <td>0.0</td>\n",
       "      <td>92.857143</td>\n",
       "    </tr>\n",
       "    <tr>\n",
       "      <th>737090</th>\n",
       "      <td>1487910469</td>\n",
       "      <td>PAVLINOVA</td>\n",
       "      <td>ELENA</td>\n",
       "      <td>NaN</td>\n",
       "      <td>PA-C</td>\n",
       "      <td>F</td>\n",
       "      <td>I</td>\n",
       "      <td>40 MAIN ST</td>\n",
       "      <td>NaN</td>\n",
       "      <td>CHATHAM</td>\n",
       "      <td>...</td>\n",
       "      <td>0.0</td>\n",
       "      <td>NaN</td>\n",
       "      <td>*</td>\n",
       "      <td>NaN</td>\n",
       "      <td>*</td>\n",
       "      <td>NaN</td>\n",
       "      <td>0.0</td>\n",
       "      <td>0.0</td>\n",
       "      <td>0.0</td>\n",
       "      <td>92.727273</td>\n",
       "    </tr>\n",
       "    <tr>\n",
       "      <th>531234</th>\n",
       "      <td>1144399858</td>\n",
       "      <td>LANGENFELD</td>\n",
       "      <td>JOHN</td>\n",
       "      <td>E</td>\n",
       "      <td>MD</td>\n",
       "      <td>M</td>\n",
       "      <td>I</td>\n",
       "      <td>125 PATERSON ST</td>\n",
       "      <td>CLINICAL ACADEMIC BUILDING - SUITE 4100</td>\n",
       "      <td>NEW BRUNSWICK</td>\n",
       "      <td>...</td>\n",
       "      <td>NaN</td>\n",
       "      <td>0.0</td>\n",
       "      <td>NaN</td>\n",
       "      <td>0.0</td>\n",
       "      <td>NaN</td>\n",
       "      <td>0.0</td>\n",
       "      <td>0.0</td>\n",
       "      <td>0.0</td>\n",
       "      <td>0.0</td>\n",
       "      <td>92.682927</td>\n",
       "    </tr>\n",
       "    <tr>\n",
       "      <th>788888</th>\n",
       "      <td>1629324769</td>\n",
       "      <td>RECKDENWALD</td>\n",
       "      <td>ASHLEY</td>\n",
       "      <td>T</td>\n",
       "      <td>PA-C, ATC</td>\n",
       "      <td>F</td>\n",
       "      <td>I</td>\n",
       "      <td>325 PRINCETON AVE</td>\n",
       "      <td>NaN</td>\n",
       "      <td>PRINCETON</td>\n",
       "      <td>...</td>\n",
       "      <td>0.0</td>\n",
       "      <td>0.0</td>\n",
       "      <td>NaN</td>\n",
       "      <td>0.0</td>\n",
       "      <td>NaN</td>\n",
       "      <td>0.0</td>\n",
       "      <td>0.0</td>\n",
       "      <td>0.0</td>\n",
       "      <td>0.0</td>\n",
       "      <td>92.660550</td>\n",
       "    </tr>\n",
       "    <tr>\n",
       "      <th>164583</th>\n",
       "      <td>1104064971</td>\n",
       "      <td>CHERNYAVSKY</td>\n",
       "      <td>VICTORIYA</td>\n",
       "      <td>NaN</td>\n",
       "      <td>M.D.</td>\n",
       "      <td>F</td>\n",
       "      <td>I</td>\n",
       "      <td>1 ROBERT WOOD JOHNSON PL</td>\n",
       "      <td>MEB 596</td>\n",
       "      <td>NEW BRUNSWICK</td>\n",
       "      <td>...</td>\n",
       "      <td>0.0</td>\n",
       "      <td>0.0</td>\n",
       "      <td>NaN</td>\n",
       "      <td>0.0</td>\n",
       "      <td>NaN</td>\n",
       "      <td>0.0</td>\n",
       "      <td>0.0</td>\n",
       "      <td>0.0</td>\n",
       "      <td>0.0</td>\n",
       "      <td>92.592593</td>\n",
       "    </tr>\n",
       "    <tr>\n",
       "      <th>846376</th>\n",
       "      <td>1295828853</td>\n",
       "      <td>SATTEL</td>\n",
       "      <td>ANDREW</td>\n",
       "      <td>B</td>\n",
       "      <td>MD</td>\n",
       "      <td>M</td>\n",
       "      <td>I</td>\n",
       "      <td>5000 SAGEMORE DRIVE</td>\n",
       "      <td>SUITE 103</td>\n",
       "      <td>MARLTON</td>\n",
       "      <td>...</td>\n",
       "      <td>NaN</td>\n",
       "      <td>0.0</td>\n",
       "      <td>NaN</td>\n",
       "      <td>0.0</td>\n",
       "      <td>NaN</td>\n",
       "      <td>0.0</td>\n",
       "      <td>0.0</td>\n",
       "      <td>0.0</td>\n",
       "      <td>0.0</td>\n",
       "      <td>92.537313</td>\n",
       "    </tr>\n",
       "  </tbody>\n",
       "</table>\n",
       "<p>15 rows × 64 columns</p>\n",
       "</div>"
      ],
      "text/plain": [
       "               NPI NPPES_PROVIDER_LAST_ORG_NAME NPPES_PROVIDER_FIRST_NAME  \\\n",
       "501860  1629073945                        KLEIN                       IRA   \n",
       "403153  1013948579                        HERSH                 CHRISTINE   \n",
       "755563  1518114362                       PINSKY                    TIMMIE   \n",
       "521570  1881894285                          KUO                   DOUGLAS   \n",
       "662677  1760529267                        MOSER                    ROBERT   \n",
       "647859  1881981348                        MITEV                     PETKO   \n",
       "881840  1629055637                         SHIH                      DUEN   \n",
       "473849  1194881730                      KARCNIK                  MARGARET   \n",
       "834239  1932426616                    SAGARWALA                      ADAM   \n",
       "635541  1992962351                        MEYER                     SARAH   \n",
       "737090  1487910469                    PAVLINOVA                     ELENA   \n",
       "531234  1144399858                   LANGENFELD                      JOHN   \n",
       "788888  1629324769                  RECKDENWALD                    ASHLEY   \n",
       "164583  1104064971                  CHERNYAVSKY                 VICTORIYA   \n",
       "846376  1295828853                       SATTEL                    ANDREW   \n",
       "\n",
       "       NPPES_PROVIDER_MI NPPES_CREDENTIALS NPPES_PROVIDER_GENDER  \\\n",
       "501860                 A              M.D.                     M   \n",
       "403153                 M                PA                     F   \n",
       "755563                 A              D.O.                     M   \n",
       "521570               NaN              D.O.                     M   \n",
       "662677               NaN                MD                     M   \n",
       "647859                 P              PA-C                     M   \n",
       "881840               NaN                MD                     M   \n",
       "473849               NaN              D.O.                     F   \n",
       "834239               NaN              D.O.                     M   \n",
       "635541                 E              M.D.                     F   \n",
       "737090               NaN              PA-C                     F   \n",
       "531234                 E                MD                     M   \n",
       "788888                 T         PA-C, ATC                     F   \n",
       "164583               NaN              M.D.                     F   \n",
       "846376                 B                MD                     M   \n",
       "\n",
       "       NPPES_ENTITY_CODE          NPPES_PROVIDER_STREET1  \\\n",
       "501860                 I                    29 E 29TH ST   \n",
       "403153                 I                2 WORLDS FAIR DR   \n",
       "755563                 I                   55 E ROUTE 70   \n",
       "521570                 I  370 W PLEASANTVIEW AVE # 2-164   \n",
       "662677                 I             3131 PRINCETON PIKE   \n",
       "647859                 I               1 DIAMOND HILL RD   \n",
       "881840                 I                 600 PAVONIA AVE   \n",
       "473849                 I                  18 REDNECK AVE   \n",
       "834239                 I                   201 LYONS AVE   \n",
       "635541                 I                  8 HILLSIDE AVE   \n",
       "737090                 I                      40 MAIN ST   \n",
       "531234                 I                 125 PATERSON ST   \n",
       "788888                 I               325 PRINCETON AVE   \n",
       "164583                 I        1 ROBERT WOOD JOHNSON PL   \n",
       "846376                 I             5000 SAGEMORE DRIVE   \n",
       "\n",
       "                         NPPES_PROVIDER_STREET2 NPPES_PROVIDER_CITY  \\\n",
       "501860                                      NaN             BAYONNE   \n",
       "403153                                      NaN            SOMERSET   \n",
       "755563                                  SUITE 3             MARLTON   \n",
       "521570                                      NaN          HACKENSACK   \n",
       "662677                                    5-110       LAWRENCEVILLE   \n",
       "647859                                      NaN    BERKELEY HEIGHTS   \n",
       "881840                                      NaN         JERSEY CITY   \n",
       "473849                                      NaN        LITTLE FERRY   \n",
       "834239                                      NaN              NEWARK   \n",
       "635541                                SUITE 106           MONTCLAIR   \n",
       "737090                                      NaN             CHATHAM   \n",
       "531234  CLINICAL ACADEMIC BUILDING - SUITE 4100       NEW BRUNSWICK   \n",
       "788888                                      NaN           PRINCETON   \n",
       "164583                                  MEB 596       NEW BRUNSWICK   \n",
       "846376                                SUITE 103             MARLTON   \n",
       "\n",
       "           ...       ANTIBIOTIC_DRUG_COST  HRM_BENE_COUNT_GE65  \\\n",
       "501860     ...                        0.0                  0.0   \n",
       "403153     ...                        0.0                  0.0   \n",
       "755563     ...                        0.0                  0.0   \n",
       "521570     ...                        0.0                  0.0   \n",
       "662677     ...                        0.0                  0.0   \n",
       "647859     ...                        0.0                  0.0   \n",
       "881840     ...                        NaN                  NaN   \n",
       "473849     ...                        0.0                  0.0   \n",
       "834239     ...                        0.0                  0.0   \n",
       "635541     ...                        0.0                  0.0   \n",
       "737090     ...                        0.0                  NaN   \n",
       "531234     ...                        NaN                  0.0   \n",
       "788888     ...                        0.0                  0.0   \n",
       "164583     ...                        0.0                  0.0   \n",
       "846376     ...                        NaN                  0.0   \n",
       "\n",
       "       HRM_BENE_GE65_SUPPRESS_FLAG HRM_CLAIM_COUNT_GE65  \\\n",
       "501860                         NaN                  0.0   \n",
       "403153                         NaN                  0.0   \n",
       "755563                         NaN                  0.0   \n",
       "521570                         NaN                  0.0   \n",
       "662677                         NaN                  0.0   \n",
       "647859                         NaN                  0.0   \n",
       "881840                           *                  NaN   \n",
       "473849                         NaN                  0.0   \n",
       "834239                         NaN                  0.0   \n",
       "635541                         NaN                  0.0   \n",
       "737090                           *                  NaN   \n",
       "531234                         NaN                  0.0   \n",
       "788888                         NaN                  0.0   \n",
       "164583                         NaN                  0.0   \n",
       "846376                         NaN                  0.0   \n",
       "\n",
       "       HRM_GE65_SUPPRESS_FLAG HRM_DRUG_COST_GE65 ANTI_PSYCH_BENE_COUNT  \\\n",
       "501860                    NaN                0.0                   0.0   \n",
       "403153                    NaN                0.0                   0.0   \n",
       "755563                    NaN                0.0                   0.0   \n",
       "521570                    NaN                0.0                   0.0   \n",
       "662677                    NaN                0.0                   0.0   \n",
       "647859                    NaN                0.0                   0.0   \n",
       "881840                      *                NaN                   0.0   \n",
       "473849                    NaN                0.0                   0.0   \n",
       "834239                    NaN                0.0                   0.0   \n",
       "635541                    NaN                0.0                   0.0   \n",
       "737090                      *                NaN                   0.0   \n",
       "531234                    NaN                0.0                   0.0   \n",
       "788888                    NaN                0.0                   0.0   \n",
       "164583                    NaN                0.0                   0.0   \n",
       "846376                    NaN                0.0                   0.0   \n",
       "\n",
       "        ANTI_PSYCH_CLAIM_COUNT  ANTI_PSYCH_DRUG_COST  PCNT_OPIOID  \n",
       "501860                     0.0                   0.0   100.000000  \n",
       "403153                     0.0                   0.0   100.000000  \n",
       "755563                     0.0                   0.0   100.000000  \n",
       "521570                     0.0                   0.0   100.000000  \n",
       "662677                     0.0                   0.0   100.000000  \n",
       "647859                     0.0                   0.0    94.520548  \n",
       "881840                     0.0                   0.0    93.530997  \n",
       "473849                     0.0                   0.0    93.333333  \n",
       "834239                     0.0                   0.0    93.333333  \n",
       "635541                     0.0                   0.0    92.857143  \n",
       "737090                     0.0                   0.0    92.727273  \n",
       "531234                     0.0                   0.0    92.682927  \n",
       "788888                     0.0                   0.0    92.660550  \n",
       "164583                     0.0                   0.0    92.592593  \n",
       "846376                     0.0                   0.0    92.537313  \n",
       "\n",
       "[15 rows x 64 columns]"
      ]
     },
     "execution_count": 17,
     "metadata": {},
     "output_type": "execute_result"
    }
   ],
   "source": [
    "NJ.sort_values(\"PCNT_OPIOID\", ascending=False).head(15)"
   ]
  },
  {
   "cell_type": "code",
   "execution_count": 19,
   "metadata": {
    "collapsed": false
   },
   "outputs": [
    {
     "data": {
      "text/plain": [
       "(array([  2.26360000e+04,   1.69600000e+03,   8.92000000e+02,\n",
       "          7.69000000e+02,   7.58000000e+02,   6.66000000e+02,\n",
       "          5.35000000e+02,   3.58000000e+02,   3.12000000e+02,\n",
       "          2.66000000e+02,   2.61000000e+02,   2.31000000e+02,\n",
       "          2.20000000e+02,   1.63000000e+02,   9.70000000e+01,\n",
       "          7.40000000e+01,   4.20000000e+01,   2.70000000e+01,\n",
       "          1.70000000e+01,   5.00000000e+00]),\n",
       " array([   0.,    5.,   10.,   15.,   20.,   25.,   30.,   35.,   40.,\n",
       "          45.,   50.,   55.,   60.,   65.,   70.,   75.,   80.,   85.,\n",
       "          90.,   95.,  100.]),\n",
       " <a list of 20 Patch objects>)"
      ]
     },
     "execution_count": 19,
     "metadata": {},
     "output_type": "execute_result"
    },
    {
     "data": {
      "image/png": "[encoded data removed]",
      "text/plain": [
       "<matplotlib.figure.Figure at 0x115f16550>"
      ]
     },
     "metadata": {},
     "output_type": "display_data"
    }
   ],
   "source": [
    "plt.style.use('fivethirtyeight')\n",
    "plt.hist(NJ[\"PCNT_OPIOID\"], bins=20)"
   ]
  },
  {
   "cell_type": "code",
   "execution_count": 22,
   "metadata": {
    "collapsed": false
   },
   "outputs": [],
   "source": [
    "NJopioid= NJ[['NPPES_PROVIDER_LAST_ORG_NAME', 'NPPES_PROVIDER_FIRST_NAME','NPPES_PROVIDER_CITY',\n",
    "       'NPPES_PROVIDER_ZIP5', 'NPPES_PROVIDER_ZIP4', 'NPPES_PROVIDER_STATE','SPECIALTY_DESCRIPTION','OPIOID_BENE_COUNT',\n",
    "       'OPIOID_CLAIM_COUNT', 'OPIOID_DRUG_COST', 'OPIOID_DAY_SUPPLY', \"PCNT_OPIOID\"]]"
   ]
  },
  {
   "cell_type": "code",
   "execution_count": 31,
   "metadata": {
    "collapsed": false
   },
   "outputs": [
    {
     "data": {
      "text/html": [
       "<div>\n",
       "<table border=\"1\" class=\"dataframe\">\n",
       "  <thead>\n",
       "    <tr style=\"text-align: right;\">\n",
       "      <th></th>\n",
       "      <th>NPPES_PROVIDER_LAST_ORG_NAME</th>\n",
       "      <th>NPPES_PROVIDER_FIRST_NAME</th>\n",
       "      <th>NPPES_PROVIDER_CITY</th>\n",
       "      <th>NPPES_PROVIDER_ZIP5</th>\n",
       "      <th>NPPES_PROVIDER_ZIP4</th>\n",
       "      <th>NPPES_PROVIDER_STATE</th>\n",
       "      <th>SPECIALTY_DESCRIPTION</th>\n",
       "      <th>OPIOID_BENE_COUNT</th>\n",
       "      <th>OPIOID_CLAIM_COUNT</th>\n",
       "      <th>OPIOID_DRUG_COST</th>\n",
       "      <th>OPIOID_DAY_SUPPLY</th>\n",
       "      <th>PCNT_OPIOID</th>\n",
       "      <th>SUPP_PER_BEN</th>\n",
       "    </tr>\n",
       "  </thead>\n",
       "  <tbody>\n",
       "    <tr>\n",
       "      <th>88</th>\n",
       "      <td>AARON</td>\n",
       "      <td>ANGELA</td>\n",
       "      <td>LYNDHURST</td>\n",
       "      <td>7071.0</td>\n",
       "      <td>1998.0</td>\n",
       "      <td>NJ</td>\n",
       "      <td>Dentist</td>\n",
       "      <td>NaN</td>\n",
       "      <td>0.0</td>\n",
       "      <td>NaN</td>\n",
       "      <td>NaN</td>\n",
       "      <td>0.000000</td>\n",
       "      <td>NaN</td>\n",
       "    </tr>\n",
       "    <tr>\n",
       "      <th>89</th>\n",
       "      <td>AARON</td>\n",
       "      <td>BERNARD</td>\n",
       "      <td>BRICK</td>\n",
       "      <td>8724.0</td>\n",
       "      <td>3036.0</td>\n",
       "      <td>NJ</td>\n",
       "      <td>Gastroenterology</td>\n",
       "      <td>NaN</td>\n",
       "      <td>0.0</td>\n",
       "      <td>NaN</td>\n",
       "      <td>NaN</td>\n",
       "      <td>0.000000</td>\n",
       "      <td>NaN</td>\n",
       "    </tr>\n",
       "    <tr>\n",
       "      <th>124</th>\n",
       "      <td>AARON</td>\n",
       "      <td>MICHAEL</td>\n",
       "      <td>NEPTUNE</td>\n",
       "      <td>7753.0</td>\n",
       "      <td>4860.0</td>\n",
       "      <td>NJ</td>\n",
       "      <td>Cardiology</td>\n",
       "      <td>NaN</td>\n",
       "      <td>0.0</td>\n",
       "      <td>NaN</td>\n",
       "      <td>NaN</td>\n",
       "      <td>0.000000</td>\n",
       "      <td>NaN</td>\n",
       "    </tr>\n",
       "    <tr>\n",
       "      <th>150</th>\n",
       "      <td>AARONS</td>\n",
       "      <td>DARRYL</td>\n",
       "      <td>BRIGANTINE</td>\n",
       "      <td>8203.0</td>\n",
       "      <td>2621.0</td>\n",
       "      <td>NJ</td>\n",
       "      <td>General Practice</td>\n",
       "      <td>0.0</td>\n",
       "      <td>0.0</td>\n",
       "      <td>0.0</td>\n",
       "      <td>0.0</td>\n",
       "      <td>0.000000</td>\n",
       "      <td>NaN</td>\n",
       "    </tr>\n",
       "    <tr>\n",
       "      <th>205</th>\n",
       "      <td>AASMAA</td>\n",
       "      <td>SIRIKE</td>\n",
       "      <td>MONTVILLE</td>\n",
       "      <td>7045.0</td>\n",
       "      <td>NaN</td>\n",
       "      <td>NJ</td>\n",
       "      <td>Internal Medicine</td>\n",
       "      <td>19.0</td>\n",
       "      <td>75.0</td>\n",
       "      <td>1638.8</td>\n",
       "      <td>1761.0</td>\n",
       "      <td>2.332815</td>\n",
       "      <td>92.684211</td>\n",
       "    </tr>\n",
       "  </tbody>\n",
       "</table>\n",
       "</div>"
      ],
      "text/plain": [
       "    NPPES_PROVIDER_LAST_ORG_NAME NPPES_PROVIDER_FIRST_NAME  \\\n",
       "88                         AARON                    ANGELA   \n",
       "89                         AARON                   BERNARD   \n",
       "124                        AARON                   MICHAEL   \n",
       "150                       AARONS                    DARRYL   \n",
       "205                       AASMAA                    SIRIKE   \n",
       "\n",
       "    NPPES_PROVIDER_CITY  NPPES_PROVIDER_ZIP5  NPPES_PROVIDER_ZIP4  \\\n",
       "88            LYNDHURST               7071.0               1998.0   \n",
       "89                BRICK               8724.0               3036.0   \n",
       "124             NEPTUNE               7753.0               4860.0   \n",
       "150          BRIGANTINE               8203.0               2621.0   \n",
       "205           MONTVILLE               7045.0                  NaN   \n",
       "\n",
       "    NPPES_PROVIDER_STATE SPECIALTY_DESCRIPTION  OPIOID_BENE_COUNT  \\\n",
       "88                    NJ               Dentist                NaN   \n",
       "89                    NJ      Gastroenterology                NaN   \n",
       "124                   NJ            Cardiology                NaN   \n",
       "150                   NJ      General Practice                0.0   \n",
       "205                   NJ     Internal Medicine               19.0   \n",
       "\n",
       "     OPIOID_CLAIM_COUNT  OPIOID_DRUG_COST  OPIOID_DAY_SUPPLY  PCNT_OPIOID  \\\n",
       "88                  0.0               NaN                NaN     0.000000   \n",
       "89                  0.0               NaN                NaN     0.000000   \n",
       "124                 0.0               NaN                NaN     0.000000   \n",
       "150                 0.0               0.0                0.0     0.000000   \n",
       "205                75.0            1638.8             1761.0     2.332815   \n",
       "\n",
       "     SUPP_PER_BEN  \n",
       "88            NaN  \n",
       "89            NaN  \n",
       "124           NaN  \n",
       "150           NaN  \n",
       "205     92.684211  "
      ]
     },
     "execution_count": 31,
     "metadata": {},
     "output_type": "execute_result"
    }
   ],
   "source": [
    "NJopioid.head()"
   ]
  },
  {
   "cell_type": "code",
   "execution_count": 25,
   "metadata": {
    "collapsed": false
   },
   "outputs": [
    {
     "name": "stderr",
     "output_type": "stream",
     "text": [
      "/Users/epetenko/anaconda/lib/python2.7/site-packages/ipykernel/__main__.py:1: SettingWithCopyWarning: \n",
      "A value is trying to be set on a copy of a slice from a DataFrame.\n",
      "Try using .loc[row_indexer,col_indexer] = value instead\n",
      "\n",
      "See the caveats in the documentation: http://pandas.pydata.org/pandas-docs/stable/indexing.html#indexing-view-versus-copy\n",
      "  if __name__ == '__main__':\n"
     ]
    }
   ],
   "source": [
    "NJopioid[\"SUPP_PER_BEN\"] = NJopioid[\"OPIOID_DAY_SUPPLY\"]/NJopioid[\"OPIOID_BENE_COUNT\"]"
   ]
  },
  {
   "cell_type": "code",
   "execution_count": 28,
   "metadata": {
    "collapsed": false
   },
   "outputs": [
    {
     "data": {
      "text/html": [
       "<div>\n",
       "<table border=\"1\" class=\"dataframe\">\n",
       "  <thead>\n",
       "    <tr style=\"text-align: right;\">\n",
       "      <th></th>\n",
       "      <th>NPPES_PROVIDER_LAST_ORG_NAME</th>\n",
       "      <th>NPPES_PROVIDER_FIRST_NAME</th>\n",
       "      <th>NPPES_PROVIDER_CITY</th>\n",
       "      <th>NPPES_PROVIDER_ZIP5</th>\n",
       "      <th>NPPES_PROVIDER_ZIP4</th>\n",
       "      <th>NPPES_PROVIDER_STATE</th>\n",
       "      <th>SPECIALTY_DESCRIPTION</th>\n",
       "      <th>OPIOID_BENE_COUNT</th>\n",
       "      <th>OPIOID_CLAIM_COUNT</th>\n",
       "      <th>OPIOID_DRUG_COST</th>\n",
       "      <th>OPIOID_DAY_SUPPLY</th>\n",
       "      <th>PCNT_OPIOID</th>\n",
       "      <th>SUPP_PER_BEN</th>\n",
       "    </tr>\n",
       "  </thead>\n",
       "  <tbody>\n",
       "    <tr>\n",
       "      <th>354848</th>\n",
       "      <td>GREENBERG</td>\n",
       "      <td>ANTHONY</td>\n",
       "      <td>COLUMBIA</td>\n",
       "      <td>7832.0</td>\n",
       "      <td>2523.0</td>\n",
       "      <td>NJ</td>\n",
       "      <td>Family Practice</td>\n",
       "      <td>36.0</td>\n",
       "      <td>978.0</td>\n",
       "      <td>138618.98</td>\n",
       "      <td>23952.0</td>\n",
       "      <td>58.283671</td>\n",
       "      <td>665.333333</td>\n",
       "    </tr>\n",
       "    <tr>\n",
       "      <th>886919</th>\n",
       "      <td>SIDDIQUI</td>\n",
       "      <td>ASMA</td>\n",
       "      <td>MATAWAN</td>\n",
       "      <td>7747.0</td>\n",
       "      <td>2158.0</td>\n",
       "      <td>NJ</td>\n",
       "      <td>Physical Medicine and Rehabilitation</td>\n",
       "      <td>108.0</td>\n",
       "      <td>2423.0</td>\n",
       "      <td>1215523.96</td>\n",
       "      <td>67265.0</td>\n",
       "      <td>60.198758</td>\n",
       "      <td>622.824074</td>\n",
       "    </tr>\n",
       "    <tr>\n",
       "      <th>685949</th>\n",
       "      <td>NEWMARK</td>\n",
       "      <td>THOMAS</td>\n",
       "      <td>CHERRY HILL</td>\n",
       "      <td>8002.0</td>\n",
       "      <td>2051.0</td>\n",
       "      <td>NJ</td>\n",
       "      <td>Psychiatry</td>\n",
       "      <td>19.0</td>\n",
       "      <td>464.0</td>\n",
       "      <td>147073.37</td>\n",
       "      <td>11080.0</td>\n",
       "      <td>32.954545</td>\n",
       "      <td>583.157895</td>\n",
       "    </tr>\n",
       "    <tr>\n",
       "      <th>132792</th>\n",
       "      <td>BYAHATTI</td>\n",
       "      <td>PRAMILA</td>\n",
       "      <td>SOUTH PLAINFIELD</td>\n",
       "      <td>7080.0</td>\n",
       "      <td>NaN</td>\n",
       "      <td>NJ</td>\n",
       "      <td>Anesthesiology</td>\n",
       "      <td>11.0</td>\n",
       "      <td>231.0</td>\n",
       "      <td>37634.70</td>\n",
       "      <td>5732.0</td>\n",
       "      <td>85.873606</td>\n",
       "      <td>521.090909</td>\n",
       "    </tr>\n",
       "    <tr>\n",
       "      <th>379092</th>\n",
       "      <td>HANNA</td>\n",
       "      <td>MAMDOUH</td>\n",
       "      <td>BAYONNE</td>\n",
       "      <td>7002.0</td>\n",
       "      <td>4654.0</td>\n",
       "      <td>NJ</td>\n",
       "      <td>Anesthesiology</td>\n",
       "      <td>53.0</td>\n",
       "      <td>1429.0</td>\n",
       "      <td>124554.57</td>\n",
       "      <td>25951.0</td>\n",
       "      <td>64.543812</td>\n",
       "      <td>489.641509</td>\n",
       "    </tr>\n",
       "    <tr>\n",
       "      <th>141680</th>\n",
       "      <td>CARABELLI</td>\n",
       "      <td>ROBERT</td>\n",
       "      <td>HAMILTON</td>\n",
       "      <td>8619.0</td>\n",
       "      <td>3831.0</td>\n",
       "      <td>NJ</td>\n",
       "      <td>Physical Medicine and Rehabilitation</td>\n",
       "      <td>127.0</td>\n",
       "      <td>2508.0</td>\n",
       "      <td>637248.29</td>\n",
       "      <td>58930.0</td>\n",
       "      <td>68.078176</td>\n",
       "      <td>464.015748</td>\n",
       "    </tr>\n",
       "    <tr>\n",
       "      <th>987087</th>\n",
       "      <td>VALENZA</td>\n",
       "      <td>JOSEPH</td>\n",
       "      <td>CHESTER</td>\n",
       "      <td>7930.0</td>\n",
       "      <td>2141.0</td>\n",
       "      <td>NJ</td>\n",
       "      <td>Physical Medicine and Rehabilitation</td>\n",
       "      <td>111.0</td>\n",
       "      <td>1818.0</td>\n",
       "      <td>877474.79</td>\n",
       "      <td>51000.0</td>\n",
       "      <td>78.906250</td>\n",
       "      <td>459.459459</td>\n",
       "    </tr>\n",
       "    <tr>\n",
       "      <th>192498</th>\n",
       "      <td>CORAZON</td>\n",
       "      <td>ALEXIS</td>\n",
       "      <td>PATERSON</td>\n",
       "      <td>7502.0</td>\n",
       "      <td>2125.0</td>\n",
       "      <td>NJ</td>\n",
       "      <td>Infectious Disease</td>\n",
       "      <td>163.0</td>\n",
       "      <td>2635.0</td>\n",
       "      <td>888705.67</td>\n",
       "      <td>74377.0</td>\n",
       "      <td>13.367492</td>\n",
       "      <td>456.300613</td>\n",
       "    </tr>\n",
       "    <tr>\n",
       "      <th>916436</th>\n",
       "      <td>SPINAPOLICE</td>\n",
       "      <td>JOSEPH</td>\n",
       "      <td>RIVER EDGE</td>\n",
       "      <td>7661.0</td>\n",
       "      <td>1101.0</td>\n",
       "      <td>NJ</td>\n",
       "      <td>Family Practice</td>\n",
       "      <td>69.0</td>\n",
       "      <td>1084.0</td>\n",
       "      <td>165580.37</td>\n",
       "      <td>30903.0</td>\n",
       "      <td>76.338028</td>\n",
       "      <td>447.869565</td>\n",
       "    </tr>\n",
       "    <tr>\n",
       "      <th>192275</th>\n",
       "      <td>COPLIN</td>\n",
       "      <td>BRUCE</td>\n",
       "      <td>TOMS RIVER</td>\n",
       "      <td>8755.0</td>\n",
       "      <td>6401.0</td>\n",
       "      <td>NJ</td>\n",
       "      <td>Physical Medicine and Rehabilitation</td>\n",
       "      <td>290.0</td>\n",
       "      <td>4396.0</td>\n",
       "      <td>580053.02</td>\n",
       "      <td>129179.0</td>\n",
       "      <td>66.900015</td>\n",
       "      <td>445.444828</td>\n",
       "    </tr>\n",
       "  </tbody>\n",
       "</table>\n",
       "</div>"
      ],
      "text/plain": [
       "       NPPES_PROVIDER_LAST_ORG_NAME NPPES_PROVIDER_FIRST_NAME  \\\n",
       "354848                    GREENBERG                   ANTHONY   \n",
       "886919                     SIDDIQUI                      ASMA   \n",
       "685949                      NEWMARK                    THOMAS   \n",
       "132792                     BYAHATTI                   PRAMILA   \n",
       "379092                        HANNA                   MAMDOUH   \n",
       "141680                    CARABELLI                    ROBERT   \n",
       "987087                      VALENZA                    JOSEPH   \n",
       "192498                      CORAZON                    ALEXIS   \n",
       "916436                  SPINAPOLICE                    JOSEPH   \n",
       "192275                       COPLIN                     BRUCE   \n",
       "\n",
       "       NPPES_PROVIDER_CITY  NPPES_PROVIDER_ZIP5  NPPES_PROVIDER_ZIP4  \\\n",
       "354848            COLUMBIA               7832.0               2523.0   \n",
       "886919             MATAWAN               7747.0               2158.0   \n",
       "685949         CHERRY HILL               8002.0               2051.0   \n",
       "132792    SOUTH PLAINFIELD               7080.0                  NaN   \n",
       "379092             BAYONNE               7002.0               4654.0   \n",
       "141680            HAMILTON               8619.0               3831.0   \n",
       "987087             CHESTER               7930.0               2141.0   \n",
       "192498            PATERSON               7502.0               2125.0   \n",
       "916436          RIVER EDGE               7661.0               1101.0   \n",
       "192275          TOMS RIVER               8755.0               6401.0   \n",
       "\n",
       "       NPPES_PROVIDER_STATE                 SPECIALTY_DESCRIPTION  \\\n",
       "354848                   NJ                       Family Practice   \n",
       "886919                   NJ  Physical Medicine and Rehabilitation   \n",
       "685949                   NJ                            Psychiatry   \n",
       "132792                   NJ                        Anesthesiology   \n",
       "379092                   NJ                        Anesthesiology   \n",
       "141680                   NJ  Physical Medicine and Rehabilitation   \n",
       "987087                   NJ  Physical Medicine and Rehabilitation   \n",
       "192498                   NJ                    Infectious Disease   \n",
       "916436                   NJ                       Family Practice   \n",
       "192275                   NJ  Physical Medicine and Rehabilitation   \n",
       "\n",
       "        OPIOID_BENE_COUNT  OPIOID_CLAIM_COUNT  OPIOID_DRUG_COST  \\\n",
       "354848               36.0               978.0         138618.98   \n",
       "886919              108.0              2423.0        1215523.96   \n",
       "685949               19.0               464.0         147073.37   \n",
       "132792               11.0               231.0          37634.70   \n",
       "379092               53.0              1429.0         124554.57   \n",
       "141680              127.0              2508.0         637248.29   \n",
       "987087              111.0              1818.0         877474.79   \n",
       "192498              163.0              2635.0         888705.67   \n",
       "916436               69.0              1084.0         165580.37   \n",
       "192275              290.0              4396.0         580053.02   \n",
       "\n",
       "        OPIOID_DAY_SUPPLY  PCNT_OPIOID  SUPP_PER_BEN  \n",
       "354848            23952.0    58.283671    665.333333  \n",
       "886919            67265.0    60.198758    622.824074  \n",
       "685949            11080.0    32.954545    583.157895  \n",
       "132792             5732.0    85.873606    521.090909  \n",
       "379092            25951.0    64.543812    489.641509  \n",
       "141680            58930.0    68.078176    464.015748  \n",
       "987087            51000.0    78.906250    459.459459  \n",
       "192498            74377.0    13.367492    456.300613  \n",
       "916436            30903.0    76.338028    447.869565  \n",
       "192275           129179.0    66.900015    445.444828  "
      ]
     },
     "execution_count": 28,
     "metadata": {},
     "output_type": "execute_result"
    }
   ],
   "source": [
    "NJopioid.sort_values(by=\"SUPP_PER_BEN\", ascending=False).head(10)"
   ]
  },
  {
   "cell_type": "code",
   "execution_count": 29,
   "metadata": {
    "collapsed": false
   },
   "outputs": [
    {
     "data": {
      "text/html": [
       "<div>\n",
       "<table border=\"1\" class=\"dataframe\">\n",
       "  <thead>\n",
       "    <tr style=\"text-align: right;\">\n",
       "      <th></th>\n",
       "      <th>NPPES_PROVIDER_ZIP5</th>\n",
       "      <th>NPPES_PROVIDER_ZIP4</th>\n",
       "      <th>OPIOID_BENE_COUNT</th>\n",
       "      <th>OPIOID_CLAIM_COUNT</th>\n",
       "      <th>OPIOID_DRUG_COST</th>\n",
       "      <th>OPIOID_DAY_SUPPLY</th>\n",
       "      <th>PCNT_OPIOID</th>\n",
       "      <th>SUPP_PER_BEN</th>\n",
       "    </tr>\n",
       "  </thead>\n",
       "  <tbody>\n",
       "    <tr>\n",
       "      <th>NPPES_PROVIDER_ZIP5</th>\n",
       "      <td>1.000000</td>\n",
       "      <td>0.062702</td>\n",
       "      <td>0.046982</td>\n",
       "      <td>0.017738</td>\n",
       "      <td>0.015760</td>\n",
       "      <td>0.023116</td>\n",
       "      <td>0.017099</td>\n",
       "      <td>0.004866</td>\n",
       "    </tr>\n",
       "    <tr>\n",
       "      <th>NPPES_PROVIDER_ZIP4</th>\n",
       "      <td>0.062702</td>\n",
       "      <td>1.000000</td>\n",
       "      <td>0.026626</td>\n",
       "      <td>0.008675</td>\n",
       "      <td>0.005113</td>\n",
       "      <td>0.005086</td>\n",
       "      <td>0.028846</td>\n",
       "      <td>-0.041644</td>\n",
       "    </tr>\n",
       "    <tr>\n",
       "      <th>OPIOID_BENE_COUNT</th>\n",
       "      <td>0.046982</td>\n",
       "      <td>0.026626</td>\n",
       "      <td>1.000000</td>\n",
       "      <td>0.807254</td>\n",
       "      <td>0.477624</td>\n",
       "      <td>0.748533</td>\n",
       "      <td>0.462223</td>\n",
       "      <td>0.259150</td>\n",
       "    </tr>\n",
       "    <tr>\n",
       "      <th>OPIOID_CLAIM_COUNT</th>\n",
       "      <td>0.017738</td>\n",
       "      <td>0.008675</td>\n",
       "      <td>0.807254</td>\n",
       "      <td>1.000000</td>\n",
       "      <td>0.759347</td>\n",
       "      <td>0.972101</td>\n",
       "      <td>0.333353</td>\n",
       "      <td>0.602525</td>\n",
       "    </tr>\n",
       "    <tr>\n",
       "      <th>OPIOID_DRUG_COST</th>\n",
       "      <td>0.015760</td>\n",
       "      <td>0.005113</td>\n",
       "      <td>0.477624</td>\n",
       "      <td>0.759347</td>\n",
       "      <td>1.000000</td>\n",
       "      <td>0.788073</td>\n",
       "      <td>0.228612</td>\n",
       "      <td>0.518141</td>\n",
       "    </tr>\n",
       "    <tr>\n",
       "      <th>OPIOID_DAY_SUPPLY</th>\n",
       "      <td>0.023116</td>\n",
       "      <td>0.005086</td>\n",
       "      <td>0.748533</td>\n",
       "      <td>0.972101</td>\n",
       "      <td>0.788073</td>\n",
       "      <td>1.000000</td>\n",
       "      <td>0.242717</td>\n",
       "      <td>0.640519</td>\n",
       "    </tr>\n",
       "    <tr>\n",
       "      <th>PCNT_OPIOID</th>\n",
       "      <td>0.017099</td>\n",
       "      <td>0.028846</td>\n",
       "      <td>0.462223</td>\n",
       "      <td>0.333353</td>\n",
       "      <td>0.228612</td>\n",
       "      <td>0.242717</td>\n",
       "      <td>1.000000</td>\n",
       "      <td>-0.098029</td>\n",
       "    </tr>\n",
       "    <tr>\n",
       "      <th>SUPP_PER_BEN</th>\n",
       "      <td>0.004866</td>\n",
       "      <td>-0.041644</td>\n",
       "      <td>0.259150</td>\n",
       "      <td>0.602525</td>\n",
       "      <td>0.518141</td>\n",
       "      <td>0.640519</td>\n",
       "      <td>-0.098029</td>\n",
       "      <td>1.000000</td>\n",
       "    </tr>\n",
       "  </tbody>\n",
       "</table>\n",
       "</div>"
      ],
      "text/plain": [
       "                     NPPES_PROVIDER_ZIP5  NPPES_PROVIDER_ZIP4  \\\n",
       "NPPES_PROVIDER_ZIP5             1.000000             0.062702   \n",
       "NPPES_PROVIDER_ZIP4             0.062702             1.000000   \n",
       "OPIOID_BENE_COUNT               0.046982             0.026626   \n",
       "OPIOID_CLAIM_COUNT              0.017738             0.008675   \n",
       "OPIOID_DRUG_COST                0.015760             0.005113   \n",
       "OPIOID_DAY_SUPPLY               0.023116             0.005086   \n",
       "PCNT_OPIOID                     0.017099             0.028846   \n",
       "SUPP_PER_BEN                    0.004866            -0.041644   \n",
       "\n",
       "                     OPIOID_BENE_COUNT  OPIOID_CLAIM_COUNT  OPIOID_DRUG_COST  \\\n",
       "NPPES_PROVIDER_ZIP5           0.046982            0.017738          0.015760   \n",
       "NPPES_PROVIDER_ZIP4           0.026626            0.008675          0.005113   \n",
       "OPIOID_BENE_COUNT             1.000000            0.807254          0.477624   \n",
       "OPIOID_CLAIM_COUNT            0.807254            1.000000          0.759347   \n",
       "OPIOID_DRUG_COST              0.477624            0.759347          1.000000   \n",
       "OPIOID_DAY_SUPPLY             0.748533            0.972101          0.788073   \n",
       "PCNT_OPIOID                   0.462223            0.333353          0.228612   \n",
       "SUPP_PER_BEN                  0.259150            0.602525          0.518141   \n",
       "\n",
       "                     OPIOID_DAY_SUPPLY  PCNT_OPIOID  SUPP_PER_BEN  \n",
       "NPPES_PROVIDER_ZIP5           0.023116     0.017099      0.004866  \n",
       "NPPES_PROVIDER_ZIP4           0.005086     0.028846     -0.041644  \n",
       "OPIOID_BENE_COUNT             0.748533     0.462223      0.259150  \n",
       "OPIOID_CLAIM_COUNT            0.972101     0.333353      0.602525  \n",
       "OPIOID_DRUG_COST              0.788073     0.228612      0.518141  \n",
       "OPIOID_DAY_SUPPLY             1.000000     0.242717      0.640519  \n",
       "PCNT_OPIOID                   0.242717     1.000000     -0.098029  \n",
       "SUPP_PER_BEN                  0.640519    -0.098029      1.000000  "
      ]
     },
     "execution_count": 29,
     "metadata": {},
     "output_type": "execute_result"
    }
   ],
   "source": [
    "NJopioid.corr()"
   ]
  },
  {
   "cell_type": "code",
   "execution_count": 13,
   "metadata": {
    "collapsed": false
   },
   "outputs": [
    {
     "data": {
      "text/plain": [
       "count    20762.000000\n",
       "mean        71.290145\n",
       "std        189.923707\n",
       "min          0.000000\n",
       "25%          0.000000\n",
       "50%         18.000000\n",
       "75%         61.000000\n",
       "max       4427.000000\n",
       "Name: OPIOID_CLAIM_COUNT, dtype: float64"
      ]
     },
     "execution_count": 13,
     "metadata": {},
     "output_type": "execute_result"
    }
   ],
   "source": [
    "NJopoid[\"OPIOID_CLAIM_COUNT\"].describe()"
   ]
  },
  {
   "cell_type": "code",
   "execution_count": 12,
   "metadata": {
    "collapsed": false
   },
   "outputs": [],
   "source": [
    "# NJopoid.to_csv(\"Top_opioid_prescribers.csv\")"
   ]
  },
  {
   "cell_type": "code",
   "execution_count": 18,
   "metadata": {
    "collapsed": false
   },
   "outputs": [
    {
     "data": {
      "text/plain": [
       "(array([  1.91730000e+04,   9.67000000e+02,   2.85000000e+02,\n",
       "          1.22000000e+02,   8.00000000e+01,   4.80000000e+01,\n",
       "          2.10000000e+01,   1.50000000e+01,   1.20000000e+01,\n",
       "          9.00000000e+00,   1.20000000e+01,   6.00000000e+00,\n",
       "          3.00000000e+00,   3.00000000e+00,   2.00000000e+00,\n",
       "          2.00000000e+00,   0.00000000e+00,   0.00000000e+00,\n",
       "          0.00000000e+00,   2.00000000e+00]),\n",
       " array([    0.  ,   221.35,   442.7 ,   664.05,   885.4 ,  1106.75,\n",
       "         1328.1 ,  1549.45,  1770.8 ,  1992.15,  2213.5 ,  2434.85,\n",
       "         2656.2 ,  2877.55,  3098.9 ,  3320.25,  3541.6 ,  3762.95,\n",
       "         3984.3 ,  4205.65,  4427.  ]),\n",
       " <a list of 20 Patch objects>)"
      ]
     },
     "execution_count": 18,
     "metadata": {},
     "output_type": "execute_result"
    },
    {
     "data": {
      "image/png": "[encoded data removed]",
      "text/plain": [
       "<matplotlib.figure.Figure at 0x11445fdd0>"
      ]
     },
     "metadata": {},
     "output_type": "display_data"
    }
   ],
   "source": [
    "plt.style.use('fivethirtyeight')\n",
    "plt.hist(NJopoidjustpre[\"OPIOID_CLAIM_COUNT\"], bins=20)"
   ]
  },
  {
   "cell_type": "code",
   "execution_count": 22,
   "metadata": {
    "collapsed": false
   },
   "outputs": [],
   "source": [
    "topdocs = NJopoid[[\"NPPES_PROVIDER_LAST_ORG_NAME\", \"NPPES_PROVIDER_FIRST_NAME\",\"OPIOID_CLAIM_COUNT\"]].sort_values(\"OPIOID_CLAIM_COUNT\", ascending=False).head(15)"
   ]
  },
  {
   "cell_type": "code",
   "execution_count": 23,
   "metadata": {
    "collapsed": false
   },
   "outputs": [
    {
     "data": {
      "text/plain": [
       "<matplotlib.axes._subplots.AxesSubplot at 0x1154bc8d0>"
      ]
     },
     "execution_count": 23,
     "metadata": {},
     "output_type": "execute_result"
    },
    {
     "data": {
      "image/png": "[encoded data removed]",
      "text/plain": [
       "<matplotlib.figure.Figure at 0x114ef4d50>"
      ]
     },
     "metadata": {},
     "output_type": "display_data"
    }
   ],
   "source": [
    "topdocs = topdocs.set_index(\"NPPES_PROVIDER_LAST_ORG_NAME\")\n",
    "\n",
    "topdocs.plot(kind=\"barh\")"
   ]
  },
  {
   "cell_type": "code",
   "execution_count": 24,
   "metadata": {
    "collapsed": false
   },
   "outputs": [
    {
     "data": {
      "image/png": "[encoded data removed]",
      "text/plain": [
       "<matplotlib.figure.Figure at 0x1154da790>"
      ]
     },
     "metadata": {},
     "output_type": "display_data"
    }
   ],
   "source": [
    "Docschart = topdocs.plot(kind=\"barh\", \n",
    "                        figsize=[9, 6], \n",
    "                        width=0.6, \n",
    "                        color=[\"cornflowerblue\", \"#FFA07A\"], \n",
    "                        edgecolor=\"k\", \n",
    "                        grid=False) # New parameter: turn off grids"
   ]
  },
  {
   "cell_type": "code",
   "execution_count": 30,
   "metadata": {
    "collapsed": false
   },
   "outputs": [
    {
     "data": {
      "text/plain": [
       "NPPES_PROVIDER_ZIP5\n",
       "807.0        15.0\n",
       "3070.0        0.0\n",
       "5857.0        0.0\n",
       "7001.0     1602.0\n",
       "7002.0    22569.0\n",
       "7003.0     4521.0\n",
       "7004.0      481.0\n",
       "7005.0      704.0\n",
       "7006.0     3128.0\n",
       "7008.0     2087.0\n",
       "Name: OPIOID_CLAIM_COUNT, dtype: float64"
      ]
     },
     "execution_count": 30,
     "metadata": {},
     "output_type": "execute_result"
    }
   ],
   "source": [
    "NJ.pivot_table(index=['NPPES_PROVIDER_ZIP5'],values='OPIOID_CLAIM_COUNT',aggfunc=sum).head(10)"
   ]
  },
  {
   "cell_type": "code",
   "execution_count": 28,
   "metadata": {
    "collapsed": true
   },
   "outputs": [],
   "source": [
    "#downloaded Fentanyl-specific data from the detailed Medicare data\n",
    "NJfent = pd.read_csv(\"Medicare_Provider_Utilization_and_Payment_Data__2014_Part_D_Prescriber_fentanyl.csv\")"
   ]
  },
  {
   "cell_type": "code",
   "execution_count": 30,
   "metadata": {
    "collapsed": false
   },
   "outputs": [
    {
     "data": {
      "text/plain": [
       "Index([u'NPI', u'NPPES_PROVIDER_LAST_ORG_NAME', u'NPPES_PROVIDER_FIRST_NAME',\n",
       "       u'NPPES_PROVIDER_CITY', u'NPPES_PROVIDER_STATE', u'SPECIALTY_DESC',\n",
       "       u'DESCRIPTION_FLAG', u'DRUG_NAME', u'GENERIC_NAME', u'BENE_COUNT',\n",
       "       u'TOTAL_CLAIM_COUNT', u'TOTAL_DAY_SUPPLY', u'TOTAL_DRUG_COST',\n",
       "       u'BENE_COUNT_GE65', u'BENE_COUNT_GE65_SUPPRESS_FLAG',\n",
       "       u'TOTAL_CLAIM_COUNT_GE65', u'GE65_SUPPRESS_FLAG',\n",
       "       u'TOTAL_DAY_SUPPLY_GE65', u'TOTAL_DRUG_COST_GE65'],\n",
       "      dtype='object')"
      ]
     },
     "execution_count": 30,
     "metadata": {},
     "output_type": "execute_result"
    }
   ],
   "source": [
    "NJfent.columns"
   ]
  },
  {
   "cell_type": "code",
   "execution_count": 31,
   "metadata": {
    "collapsed": false
   },
   "outputs": [
    {
     "data": {
      "text/plain": [
       "(array([  1.12600000e+03,   3.55000000e+02,   1.94000000e+02,\n",
       "          9.50000000e+01,   5.20000000e+01,   3.80000000e+01,\n",
       "          2.10000000e+01,   2.10000000e+01,   1.00000000e+01,\n",
       "          1.30000000e+01,   1.00000000e+01,   1.00000000e+00,\n",
       "          1.00000000e+00,   4.00000000e+00,   0.00000000e+00,\n",
       "          1.00000000e+00,   1.00000000e+00,   2.00000000e+00,\n",
       "          1.00000000e+00,   1.00000000e+00]),\n",
       " array([  11.  ,   28.85,   46.7 ,   64.55,   82.4 ,  100.25,  118.1 ,\n",
       "         135.95,  153.8 ,  171.65,  189.5 ,  207.35,  225.2 ,  243.05,\n",
       "         260.9 ,  278.75,  296.6 ,  314.45,  332.3 ,  350.15,  368.  ]),\n",
       " <a list of 20 Patch objects>)"
      ]
     },
     "execution_count": 31,
     "metadata": {},
     "output_type": "execute_result"
    },
    {
     "data": {
      "image/png": "[encoded data removed]",
      "text/plain": [
       "<matplotlib.figure.Figure at 0x1136ee710>"
      ]
     },
     "metadata": {},
     "output_type": "display_data"
    }
   ],
   "source": [
    "plt.hist(NJfent[\"TOTAL_CLAIM_COUNT\"], bins=20)"
   ]
  },
  {
   "cell_type": "code",
   "execution_count": 33,
   "metadata": {
    "collapsed": false
   },
   "outputs": [
    {
     "data": {
      "text/plain": [
       "array(['FENTANYL', 'DURAGESIC', 'SUBSYS'], dtype=object)"
      ]
     },
     "execution_count": 33,
     "metadata": {},
     "output_type": "execute_result"
    }
   ],
   "source": [
    "NJfent[\"DRUG_NAME\"].unique()"
   ]
  },
  {
   "cell_type": "code",
   "execution_count": 34,
   "metadata": {
    "collapsed": true
   },
   "outputs": [],
   "source": [
    "subsys = NJfent[NJfent[\"DRUG_NAME\"]==\"SUBSYS\"]\n",
    "duragesic = NJfent[NJfent[\"DRUG_NAME\"]==\"DURAGESIC\"]\n",
    "fent = NJfent[NJfent[\"DRUG_NAME\"]==\"FENTANYL\"]"
   ]
  },
  {
   "cell_type": "code",
   "execution_count": 42,
   "metadata": {
    "collapsed": false
   },
   "outputs": [
    {
     "data": {
      "text/plain": [
       "<matplotlib.text.Text at 0x118d69f10>"
      ]
     },
     "execution_count": 42,
     "metadata": {},
     "output_type": "execute_result"
    },
    {
     "data": {
      "image/png": "[encoded data removed]",
      "text/plain": [
       "<matplotlib.figure.Figure at 0x118814810>"
      ]
     },
     "metadata": {},
     "output_type": "display_data"
    }
   ],
   "source": [
    "#creating Matplotlib histograms\n",
    "fig = plt.figure(figsize=[9, 15])\n",
    "\n",
    "\n",
    "ax1 = fig.add_subplot(311)\n",
    "ax2 = fig.add_subplot(312)\n",
    "ax3 = fig.add_subplot(313)\n",
    "\n",
    "\n",
    "\n",
    "ax1.hist(fent[\"TOTAL_DRUG_COST\"], bins=20)\n",
    "ax1.set_title(\"Fentanyl\")\n",
    "\n",
    "ax2.hist(subsys[\"TOTAL_DRUG_COST\"], bins=20)\n",
    "ax2.set_title(\"Subsys\")\n",
    "\n",
    "ax3.hist(duragesic[\"TOTAL_DRUG_COST\"], bins=20)\n",
    "ax3.set_title(\"Duragesic\")"
   ]
  },
  {
   "cell_type": "code",
   "execution_count": 45,
   "metadata": {
    "collapsed": false
   },
   "outputs": [],
   "source": [
    "# fig = plt.figure(figsize=[9, 15])\n",
    "\n",
    "# bx1 = fig.add_subplot(311)\n",
    "# bx2 = fig.add_subplot(312)\n",
    "# bx3 = fig.add_subplot(313)\n",
    "\n",
    "# bx1.boxplot(fent[\"TOTAL_DRUG_COST\"])\n",
    "# bx1.set_title(\"Fentanyl\")\n",
    "\n",
    "# bx2.boxplot(subsys[\"TOTAL_DRUG_COST\"])\n",
    "# bx2.set_title(\"Subsys\")\n",
    "\n",
    "# bx3.boxplot(duragesic[\"TOTAL_DRUG_COST\"])\n",
    "# bx3.set_title(\"Duragesic\")"
   ]
  },
  {
   "cell_type": "code",
   "execution_count": 47,
   "metadata": {
    "collapsed": false
   },
   "outputs": [
    {
     "data": {
      "image/png": "[encoded data removed]",
      "text/plain": [
       "<matplotlib.figure.Figure at 0x11a736b10>"
      ]
     },
     "metadata": {},
     "output_type": "display_data"
    }
   ],
   "source": [
    "def scatter_plot(dataframe, x, y, title=\"\", xlabel=\"\", ylabel=\"\", color=\"g\", ylim=None):\n",
    "    ax = dataframe.plot(kind=\"scatter\", figsize=[7, 7], x = x, y = y, color=color, \n",
    "                        edgecolor=\"k\", ylim=ylim )\n",
    "    ax.set_title(title)\n",
    "    ax.set_xlabel(xlabel, fontsize=12)\n",
    "    ax.set_ylabel(ylabel, fontsize=12)\n",
    "    plt.show()  \n",
    "\n",
    "\n",
    "scatter_plot(fent, \"TOTAL_CLAIM_COUNT\", \"TOTAL_DRUG_COST\", \"Fentanyl\", \"Claims\", \"Cost\")\n"
   ]
  },
  {
   "cell_type": "code",
   "execution_count": 48,
   "metadata": {
    "collapsed": false
   },
   "outputs": [
    {
     "data": {
      "image/png": "[encoded data removed]",
      "text/plain": [
       "<matplotlib.figure.Figure at 0x11a728c50>"
      ]
     },
     "metadata": {},
     "output_type": "display_data"
    }
   ],
   "source": [
    "scatter_plot(subsys, \"TOTAL_CLAIM_COUNT\", \"TOTAL_DRUG_COST\", \"Subsys\", \"Claims\", \"Cost\")\n"
   ]
  },
  {
   "cell_type": "code",
   "execution_count": 76,
   "metadata": {
    "collapsed": false
   },
   "outputs": [],
   "source": [
    "# NJpivot = NJ.pivot_table(index=[\"NPPES_PROVIDER_ZIP5\"], values='OPIOID_CLAIM_COUNT', aggfunc=sum)"
   ]
  },
  {
   "cell_type": "code",
   "execution_count": 77,
   "metadata": {
    "collapsed": true
   },
   "outputs": [],
   "source": [
    "# NJpivot.to_csv(\"Top_zip_codes.csv\")"
   ]
  }
 ],
 "metadata": {
  "anaconda-cloud": {},
  "kernelspec": {
   "display_name": "Python [Root]",
   "language": "python",
   "name": "Python [Root]"
  },
  "language_info": {
   "codemirror_mode": {
    "name": "ipython",
    "version": 2
   },
   "file_extension": ".py",
   "mimetype": "text/x-python",
   "name": "python",
   "nbconvert_exporter": "python",
   "pygments_lexer": "ipython2",
   "version": "2.7.12"
  }
 },
 "nbformat": 4,
 "nbformat_minor": 0
}
