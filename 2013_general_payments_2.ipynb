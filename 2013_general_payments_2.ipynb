{
 "cells": [
  {
   "cell_type": "code",
   "execution_count": 1,
   "metadata": {
    "collapsed": true
   },
   "outputs": [],
   "source": [
    "import pandas as pd"
   ]
  },
  {
   "cell_type": "code",
   "execution_count": 2,
   "metadata": {
    "collapsed": false
   },
   "outputs": [
    {
     "name": "stderr",
     "output_type": "stream",
     "text": [
      "/Users/epetenko/miniconda2/lib/python2.7/site-packages/IPython/core/interactiveshell.py:2717: DtypeWarning: Columns (23,24,25,52,53,55,56,57,58,61,62,63) have mixed types. Specify dtype option on import or set low_memory=False.\n",
      "  interactivity=interactivity, compiler=compiler, result=result)\n"
     ]
    }
   ],
   "source": [
    "df= pd.read_csv(\"2013_general_payments.csv\", dtype={'Physician_Profile_ID': 'S'} )"
   ]
  },
  {
   "cell_type": "code",
   "execution_count": 3,
   "metadata": {
    "collapsed": false
   },
   "outputs": [
    {
     "data": {
      "text/plain": [
       "Index([u'Unnamed: 0', u'Change_Type', u'Covered_Recipient_Type',\n",
       "       u'Teaching_Hospital_CCN', u'Teaching_Hospital_ID',\n",
       "       u'Teaching_Hospital_Name', u'Physician_Profile_ID',\n",
       "       u'Physician_First_Name', u'Physician_Middle_Name',\n",
       "       u'Physician_Last_Name', u'Physician_Name_Suffix',\n",
       "       u'Recipient_Primary_Business_Street_Address_Line1',\n",
       "       u'Recipient_Primary_Business_Street_Address_Line2', u'Recipient_City',\n",
       "       u'Recipient_State', u'Recipient_Zip_Code', u'Recipient_Country',\n",
       "       u'Recipient_Province', u'Recipient_Postal_Code',\n",
       "       u'Physician_Primary_Type', u'Physician_Specialty',\n",
       "       u'Physician_License_State_code1', u'Physician_License_State_code2',\n",
       "       u'Physician_License_State_code3', u'Physician_License_State_code4',\n",
       "       u'Physician_License_State_code5',\n",
       "       u'Submitting_Applicable_Manufacturer_or_Applicable_GPO_Name',\n",
       "       u'Applicable_Manufacturer_or_Applicable_GPO_Making_Payment_ID',\n",
       "       u'Applicable_Manufacturer_or_Applicable_GPO_Making_Payment_Name',\n",
       "       u'Applicable_Manufacturer_or_Applicable_GPO_Making_Payment_State',\n",
       "       u'Applicable_Manufacturer_or_Applicable_GPO_Making_Payment_Country',\n",
       "       u'Total_Amount_of_Payment_USDollars', u'Date_of_Payment',\n",
       "       u'Number_of_Payments_Included_in_Total_Amount',\n",
       "       u'Form_of_Payment_or_Transfer_of_Value',\n",
       "       u'Nature_of_Payment_or_Transfer_of_Value', u'City_of_Travel',\n",
       "       u'State_of_Travel', u'Country_of_Travel',\n",
       "       u'Physician_Ownership_Indicator',\n",
       "       u'Third_Party_Payment_Recipient_Indicator',\n",
       "       u'Name_of_Third_Party_Entity_Receiving_Payment_or_Transfer_of_Value',\n",
       "       u'Charity_Indicator', u'Third_Party_Equals_Covered_Recipient_Indicator',\n",
       "       u'Contextual_Information', u'Delay_in_Publication_Indicator',\n",
       "       u'Record_ID', u'Dispute_Status_for_Publication', u'Product_Indicator',\n",
       "       u'Name_of_Associated_Covered_Drug_or_Biological1',\n",
       "       u'Name_of_Associated_Covered_Drug_or_Biological2',\n",
       "       u'Name_of_Associated_Covered_Drug_or_Biological3',\n",
       "       u'Name_of_Associated_Covered_Drug_or_Biological4',\n",
       "       u'Name_of_Associated_Covered_Drug_or_Biological5',\n",
       "       u'NDC_of_Associated_Covered_Drug_or_Biological1',\n",
       "       u'NDC_of_Associated_Covered_Drug_or_Biological2',\n",
       "       u'NDC_of_Associated_Covered_Drug_or_Biological3',\n",
       "       u'NDC_of_Associated_Covered_Drug_or_Biological4',\n",
       "       u'NDC_of_Associated_Covered_Drug_or_Biological5',\n",
       "       u'Name_of_Associated_Covered_Device_or_Medical_Supply1',\n",
       "       u'Name_of_Associated_Covered_Device_or_Medical_Supply2',\n",
       "       u'Name_of_Associated_Covered_Device_or_Medical_Supply3',\n",
       "       u'Name_of_Associated_Covered_Device_or_Medical_Supply4',\n",
       "       u'Name_of_Associated_Covered_Device_or_Medical_Supply5',\n",
       "       u'Program_Year', u'Payment_Publication_Date'],\n",
       "      dtype='object')"
      ]
     },
     "execution_count": 3,
     "metadata": {},
     "output_type": "execute_result"
    }
   ],
   "source": [
    "df.columns"
   ]
  },
  {
   "cell_type": "code",
   "execution_count": 4,
   "metadata": {
    "collapsed": true
   },
   "outputs": [],
   "source": [
    "df['Total_Amount_of_Payment_USDollars'] = df['Total_Amount_of_Payment_USDollars'].astype(float)"
   ]
  },
  {
   "cell_type": "code",
   "execution_count": 5,
   "metadata": {
    "collapsed": false
   },
   "outputs": [],
   "source": [
    "matalon = df[df['Physician_Last_Name'] == \"MATALON\"]"
   ]
  },
  {
   "cell_type": "code",
   "execution_count": 6,
   "metadata": {
    "collapsed": false
   },
   "outputs": [
    {
     "data": {
      "text/plain": [
       "1316.0000000000002"
      ]
     },
     "execution_count": 6,
     "metadata": {},
     "output_type": "execute_result"
    }
   ],
   "source": [
    "matalon['Total_Amount_of_Payment_USDollars'].sum()"
   ]
  },
  {
   "cell_type": "code",
   "execution_count": 9,
   "metadata": {
    "collapsed": false
   },
   "outputs": [],
   "source": [
    "matalon.to_csv(\"2013data/matalon.csv\")"
   ]
  },
  {
   "cell_type": "code",
   "execution_count": 8,
   "metadata": {
    "collapsed": false
   },
   "outputs": [
    {
     "data": {
      "text/plain": [
       "Name_of_Associated_Covered_Drug_or_Biological1\n",
       "Nesina                                       314.27\n",
       "LYRICA                                       125.00\n",
       "Invokana                                     115.15\n",
       "Creon                                        113.48\n",
       "DUEXIS-800mg Ibuprofen- 26.6mg Famotidine    107.17\n",
       "BREO                                         104.74\n",
       "Qsymia                                        98.61\n",
       "OXYCONTIN                                     81.20\n",
       "Androgel                                      52.86\n",
       "Belviq                                        39.04\n",
       "Amitiza                                       15.08\n",
       "Levemir                                       14.50\n",
       "Victoza                                       11.67\n",
       "Name: Total_Amount_of_Payment_USDollars, dtype: float64"
      ]
     },
     "execution_count": 8,
     "metadata": {},
     "output_type": "execute_result"
    }
   ],
   "source": [
    "matalon.pivot_table(index='Name_of_Associated_Covered_Drug_or_Biological1', values='Total_Amount_of_Payment_USDollars', aggfunc=sum).sort_values(ascending=False)"
   ]
  },
  {
   "cell_type": "code",
   "execution_count": 63,
   "metadata": {
    "collapsed": false
   },
   "outputs": [],
   "source": [
    "top_drugs = df.groupby(\"Name_of_Associated_Covered_Drug_or_Biological1\").sum().iloc[:,6].sort_values(ascending=False)"
   ]
  },
  {
   "cell_type": "code",
   "execution_count": 67,
   "metadata": {
    "collapsed": false
   },
   "outputs": [
    {
     "data": {
      "text/plain": [
       "Name_of_Associated_Covered_Drug_or_Biological1\n",
       "Xarelto               332196.80\n",
       "Nuedexta              327249.97\n",
       "ELIQUIS               300636.62\n",
       "Victoza               300107.71\n",
       "Humira                291561.45\n",
       "NONCOVERED PRODUCT    268424.46\n",
       "SUBSYS                241322.48\n",
       "TUDORZA               232252.46\n",
       "BRILINTA              218803.20\n",
       "LINZESS               188527.59\n",
       "SYMBICORT             182082.70\n",
       "Latuda                179806.21\n",
       "Pradaxa               171178.31\n",
       "ABILIFY TABLET        161800.15\n",
       "Invokana              155502.72\n",
       "ABILIFY MAINTENA      143109.62\n",
       "TRADJENTA             142498.23\n",
       "XALKORI               135207.44\n",
       "BOTOX                 134131.63\n",
       "AUBAGIO               130667.12\n",
       "Name: Total_Amount_of_Payment_USDollars, dtype: float64"
      ]
     },
     "execution_count": 67,
     "metadata": {},
     "output_type": "execute_result"
    }
   ],
   "source": [
    "top_drugs.head(20)"
   ]
  },
  {
   "cell_type": "code",
   "execution_count": 66,
   "metadata": {
    "collapsed": false
   },
   "outputs": [],
   "source": [
    "top_drugs.to_csv(\"2013data/2013topdrugs.csv\")"
   ]
  },
  {
   "cell_type": "code",
   "execution_count": 17,
   "metadata": {
    "collapsed": true
   },
   "outputs": [],
   "source": [
    "top_NJcities = df.groupby('Recipient_City').sum().iloc[:,6].sort_values(ascending=False)"
   ]
  },
  {
   "cell_type": "code",
   "execution_count": 20,
   "metadata": {
    "collapsed": false
   },
   "outputs": [],
   "source": [
    "categories = df.groupby('Nature_of_Payment_or_Transfer_of_Value').sum().iloc[:,6].sort_values(ascending=False)"
   ]
  },
  {
   "cell_type": "code",
   "execution_count": 21,
   "metadata": {
    "collapsed": false
   },
   "outputs": [
    {
     "data": {
      "text/plain": [
       "Nature_of_Payment_or_Transfer_of_Value\n",
       "Compensation for services other than consulting, including serving as faculty or as a speaker at a venue other than a continuing education program    5522065.58\n",
       "Consulting Fee                                                                                                                                        4859951.07\n",
       "Food and Beverage                                                                                                                                     3861341.68\n",
       "Travel and Lodging                                                                                                                                    1767114.94\n",
       "Royalty or License                                                                                                                                    1631051.75\n",
       "Honoraria                                                                                                                                              972240.23\n",
       "Education                                                                                                                                              637690.46\n",
       "Compensation for serving as faculty or as a speaker for a non-accredited and noncertified continuing education program                                 499093.92\n",
       "Gift                                                                                                                                                   244847.08\n",
       "Grant                                                                                                                                                  183071.09\n",
       "Compensation for serving as faculty or as a speaker for an accredited or certified continuing education program                                        121628.94\n",
       "Charitable Contribution                                                                                                                                114400.00\n",
       "Space rental or facility fees(teaching hospital only)                                                                                                   69972.43\n",
       "Current or prospective ownership or investment interest                                                                                                 66206.64\n",
       "Entertainment                                                                                                                                            4426.40\n",
       "Name: Total_Amount_of_Payment_USDollars, dtype: float64"
      ]
     },
     "execution_count": 21,
     "metadata": {},
     "output_type": "execute_result"
    }
   ],
   "source": [
    "categories"
   ]
  },
  {
   "cell_type": "code",
   "execution_count": 22,
   "metadata": {
    "collapsed": false
   },
   "outputs": [],
   "source": [
    "biggest_payers = df.groupby('Submitting_Applicable_Manufacturer_or_Applicable_GPO_Name').sum().iloc[:,6].sort_values(ascending=False)"
   ]
  },
  {
   "cell_type": "code",
   "execution_count": 23,
   "metadata": {
    "collapsed": false
   },
   "outputs": [],
   "source": [
    "biggest_takers = df.groupby('Physician_Profile_ID').sum().iloc[:,6].sort_values(ascending=False)"
   ]
  },
  {
   "cell_type": "code",
   "execution_count": 24,
   "metadata": {
    "collapsed": false
   },
   "outputs": [
    {
     "data": {
      "text/plain": [
       "array(['41273.0', '235088.0', '334868.0', ..., '98013.0', '127998.0',\n",
       "       '29335.0'], dtype=object)"
      ]
     },
     "execution_count": 24,
     "metadata": {},
     "output_type": "execute_result"
    }
   ],
   "source": [
    "df[\"Physician_Profile_ID\"].unique()"
   ]
  },
  {
   "cell_type": "code",
   "execution_count": 30,
   "metadata": {
    "collapsed": false
   },
   "outputs": [],
   "source": [
    "# top_drugs.to_csv(\"top_drugs.csv\")"
   ]
  },
  {
   "cell_type": "code",
   "execution_count": 25,
   "metadata": {
    "collapsed": false
   },
   "outputs": [
    {
     "data": {
      "text/plain": [
       "20555102.210000005"
      ]
     },
     "execution_count": 25,
     "metadata": {},
     "output_type": "execute_result"
    }
   ],
   "source": [
    "df['Total_Amount_of_Payment_USDollars'].sum()"
   ]
  },
  {
   "cell_type": "code",
   "execution_count": 26,
   "metadata": {
    "collapsed": false
   },
   "outputs": [],
   "source": [
    "top_hospitals = df.groupby('Teaching_Hospital_Name').sum().iloc[:,6].sort_values(ascending=False)"
   ]
  },
  {
   "cell_type": "code",
   "execution_count": 27,
   "metadata": {
    "collapsed": false
   },
   "outputs": [],
   "source": [
    "top_doctors = df.pivot_table(index=[\"Physician_Profile_ID\", 'Physician_First_Name', 'Physician_Last_Name'], aggfunc=sum).sort_values(by=\"Total_Amount_of_Payment_USDollars\", ascending=False)"
   ]
  },
  {
   "cell_type": "code",
   "execution_count": 28,
   "metadata": {
    "collapsed": true
   },
   "outputs": [],
   "source": [
    "top_doctors_details = df.pivot_table(index=[\"Physician_Profile_ID\", 'Physician_First_Name', 'Physician_Last_Name', \"Applicable_Manufacturer_or_Applicable_GPO_Making_Payment_Name\", \"Nature_of_Payment_or_Transfer_of_Value\"], aggfunc=sum).sort_values(by=\"Total_Amount_of_Payment_USDollars\", ascending=False)"
   ]
  },
  {
   "cell_type": "code",
   "execution_count": 30,
   "metadata": {
    "collapsed": false
   },
   "outputs": [
    {
     "data": {
      "text/plain": [
       "566"
      ]
     },
     "execution_count": 30,
     "metadata": {},
     "output_type": "execute_result"
    }
   ],
   "source": [
    "#used this to search for docs under each drug name\n",
    "#used \"top drugs\" spreadsheet to make sure was using correct names\n",
    "#also searched under \"Name...Biological2\", \"Name...Biological3\", etc. \n",
    "#and used csvstack to combine all of those into one document\n",
    "\n",
    "subsys = df[df['Name_of_Associated_Covered_Drug_or_Biological1'] == \"SUBSYS\"]\n",
    "subsys['Physician_Profile_ID'].count()"
   ]
  },
  {
   "cell_type": "code",
   "execution_count": 31,
   "metadata": {
    "collapsed": true
   },
   "outputs": [],
   "source": [
    "subsys.to_csv(\"2013data/SUBSYS.csv\")"
   ]
  },
  {
   "cell_type": "code",
   "execution_count": 32,
   "metadata": {
    "collapsed": false
   },
   "outputs": [
    {
     "data": {
      "text/plain": [
       "241322.48000000001"
      ]
     },
     "execution_count": 32,
     "metadata": {},
     "output_type": "execute_result"
    }
   ],
   "source": [
    "subsys = pd.read_csv(\"2013data/SUBSYS.csv\")\n",
    "\n",
    "subsys[\"Total_Amount_of_Payment_USDollars\"].sum()"
   ]
  },
  {
   "cell_type": "code",
   "execution_count": 33,
   "metadata": {
    "collapsed": false
   },
   "outputs": [
    {
     "data": {
      "text/plain": [
       "Physician_Profile_ID  Physician_First_Name  Physician_Last_Name\n",
       "344896.0              MANOJ                 PATHARKAR              37747.84\n",
       "39441.0               KENNETH               SUN                    34383.51\n",
       "34313.0               MITESWAR              PUREWAL                29700.00\n",
       "168121.0              ROBERT                CHAPDELAINE            21341.37\n",
       "201446.0              ANDREW                KAUFMAN                18275.31\n",
       "145653.0              LOUIS                 SPAGNOLETTI            13721.18\n",
       "26227.0               KIERAN                SLEVIN                 11983.03\n",
       "61465.0               FELIX                 ROQUE                  10535.32\n",
       "219255.0              JEFFREY               GUDIN                   7967.49\n",
       "206178.0              DAVID                 CONYACK                 7808.13\n",
       "21886.0               SAMYADEV              DATTA                   7569.32\n",
       "13402.0               ROBIN                 IVERSEN                 7480.67\n",
       "88282.0               NEIL                  SINHA                   6658.99\n",
       "316185.0              HANG                  PAK                     5614.25\n",
       "225940.0              MANISH                SINGH                   4403.17\n",
       "128400.0              JOSEPH                COHN                    3929.80\n",
       "311919.0              SERGE                 MENKIN                  2191.94\n",
       "277474.0              ISAIAH                FLORENCE                1438.42\n",
       "140224.0              BENJAMIN              DUCKLES                  318.45\n",
       "66487.0               FABIAN                MORALES                  301.79\n",
       "Name: Total_Amount_of_Payment_USDollars, dtype: float64"
      ]
     },
     "execution_count": 33,
     "metadata": {},
     "output_type": "execute_result"
    }
   ],
   "source": [
    "subsys.pivot_table(index=['Physician_Profile_ID','Physician_First_Name','Physician_Last_Name'],values='Total_Amount_of_Payment_USDollars', aggfunc=sum).sort_values(ascending=False).head(20)\n",
    "#Subsys manufactured by Insys"
   ]
  },
  {
   "cell_type": "code",
   "execution_count": 34,
   "metadata": {
    "collapsed": false
   },
   "outputs": [],
   "source": [
    "cop = df[df['Name_of_Associated_Covered_Drug_or_Biological1'] == \"COPAXONE\"]\n",
    "cop['Physician_Profile_ID'].count()\n",
    "cop.to_csv(\"2013data/Copaxone.csv\")"
   ]
  },
  {
   "cell_type": "code",
   "execution_count": null,
   "metadata": {
    "collapsed": true
   },
   "outputs": [],
   "source": []
  },
  {
   "cell_type": "code",
   "execution_count": 37,
   "metadata": {
    "collapsed": false
   },
   "outputs": [],
   "source": [
    "oxy = df[df['Name_of_Associated_Covered_Drug_or_Biological1'] == \"OXYCONTIN\"]\n",
    "oxy.to_csv(\"2013data/OXYCONTIN.csv\")"
   ]
  },
  {
   "cell_type": "code",
   "execution_count": 38,
   "metadata": {
    "collapsed": false,
    "scrolled": false
   },
   "outputs": [
    {
     "data": {
      "text/plain": [
       "Physician_Profile_ID  Physician_First_Name  Physician_Last_Name\n",
       "96896.0               ROSS                  NOCHIMSON              85.54\n",
       "153888.0              VIVIENNE              MATALON                81.20\n",
       "107941.0              RICHARD               NAFTULIN               75.44\n",
       "98487.0               ROBERT                MARINI                 67.34\n",
       "1237597.0             MUHAMMED              AYUB                   61.15\n",
       "317985.0              DOUGLAS               SPIEL                  60.85\n",
       "7177.0                MICHAEL               SCRIMENTI              59.13\n",
       "145653.0              LOUIS                 SPAGNOLETTI            58.65\n",
       "264983.0              SUHAS                 BADARINATH             57.29\n",
       "181171.0              FELIX                 ALMENTERO              56.59\n",
       "118901.0              SCOTT                 PELLO                  56.57\n",
       "157990.0              THOMAS                AGESEN                 54.59\n",
       "190450.0              PETER                 KUZMICK                52.37\n",
       "311919.0              SERGE                 MENKIN                 50.59\n",
       "312151.0              TED                   FREEMAN                47.09\n",
       "52039.0               CHARLES               WEBER                  46.83\n",
       "362390.0              ADAM                  MEYERS                 46.44\n",
       "266892.0              MOISHE                STARKMAN               46.19\n",
       "237846.0              KENNEDY               GANTI                  44.31\n",
       "118165.0              ROBERT                PANNULLO               43.74\n",
       "Name: Total_Amount_of_Payment_USDollars, dtype: float64"
      ]
     },
     "execution_count": 38,
     "metadata": {},
     "output_type": "execute_result"
    }
   ],
   "source": [
    "oxy.pivot_table(index=['Physician_Profile_ID','Physician_First_Name','Physician_Last_Name'],values='Total_Amount_of_Payment_USDollars', aggfunc=sum).sort_values(ascending=False).head(20)"
   ]
  },
  {
   "cell_type": "code",
   "execution_count": 8,
   "metadata": {
    "collapsed": false
   },
   "outputs": [
    {
     "data": {
      "text/plain": [
       "Physician_Profile_ID  Physician_First_Name  Physician_Last_Name\n",
       "124983.0              RICHARD               HADDAD                 8235.60\n",
       "201446.0              ANDREW                KAUFMAN                7444.43\n",
       "219255.0              JEFFREY               GUDIN                  7062.69\n",
       "150502.0              JOSEPH                VALENZA                6649.61\n",
       "206178.0              DAVID                 CONYACK                5488.21\n",
       "210831.0              MATTHEW               LIPP                   5366.05\n",
       "44592.0               SHAHZAD               HUSSAIN                 292.35\n",
       "161164.0              QAISAR                USMANI                  290.86\n",
       "140224.0              BENJAMIN              DUCKLES                 285.12\n",
       "111257.0              MICHAEL               OHARA                   259.86\n",
       "327281.0              JOHN                  PARK                    253.96\n",
       "312151.0              TED                   FREEMAN                 253.03\n",
       "184396.0              STEPHEN               BOYAJIAN                224.67\n",
       "316053.0              MICHAEL               LEPIS                   221.60\n",
       "186517.0              GREGORY               RIHACEK                 221.14\n",
       "35293.0               JASON                 NEHMAD                  213.70\n",
       "106319.0              GARY                  YEN                     204.74\n",
       "294486.0              VIVEK                 DAS                     203.49\n",
       "347609.0              MONTE                 HABER                   202.71\n",
       "1301715.0             DONNA                 DALESSIO                199.64\n",
       "Name: Total_Amount_of_Payment_USDollars, dtype: float64"
      ]
     },
     "execution_count": 8,
     "metadata": {},
     "output_type": "execute_result"
    }
   ],
   "source": [
    "but = pd.read_csv(\"Opioid_payments/Butranstotal.csv\")\n",
    "but.head()\n",
    "\n",
    "but.pivot_table(index=['Physician_Profile_ID','Physician_First_Name','Physician_Last_Name'],values='Total_Amount_of_Payment_USDollars', aggfunc=sum).sort_values(ascending=False).head(20)\n",
    "#oxy and but have overlap since same company - Perdue - paid docs for multiple drugs"
   ]
  },
  {
   "cell_type": "code",
   "execution_count": 9,
   "metadata": {
    "collapsed": false
   },
   "outputs": [
    {
     "data": {
      "text/plain": [
       "Physician_Profile_ID  Physician_First_Name  Physician_Last_Name\n",
       "150502                JOSEPH                VALENZA                9359.42\n",
       "290180                AKSHAY                PATEL                  7799.78\n",
       "145653                LOUIS                 SPAGNOLETTI            6693.31\n",
       "13402                 ROBIN                 IVERSEN                4127.88\n",
       "312151                TED                   FREEMAN                 568.82\n",
       "289356                JOVEN                 DUNGO                   416.11\n",
       "25145                 OSCAR                 PIZARRO                 321.46\n",
       "245160                JOHN                  MAK                     276.56\n",
       "198343                JEFFREY               COLE                    259.19\n",
       "72476                 YOUSSEF               JOSEPHSON               256.93\n",
       "168121                ROBERT                CHAPDELAINE             244.81\n",
       "383961                JESSICA               ARIAS GARAU             240.13\n",
       "111257                MICHAEL               OHARA                   232.37\n",
       "140224                BENJAMIN              DUCKLES                 221.56\n",
       "153888                VIVIENNE              MATALON                 214.14\n",
       "232071                PHILIP                CERAULO                 212.16\n",
       "28902                 ANDREW                MEDVEDOVSKY             203.80\n",
       "71765                 FRANK                 SHANLEY                 203.06\n",
       "91325                 CHIOMA                EZEADICHIE              181.33\n",
       "291820                GARY                  BUCK                    169.42\n",
       "Name: Total_Amount_of_Payment_USDollars, dtype: float64"
      ]
     },
     "execution_count": 9,
     "metadata": {},
     "output_type": "execute_result"
    }
   ],
   "source": [
    "emb = pd.read_csv(\"Opioid_payments/Embedatotal.csv\")\n",
    "emb.head()\n",
    "\n",
    "emb.pivot_table(index=['Physician_Profile_ID','Physician_First_Name','Physician_Last_Name'],values='Total_Amount_of_Payment_USDollars', aggfunc=sum).sort_values(ascending=False).head(20)\n",
    "#embeda owned by Pfizer"
   ]
  },
  {
   "cell_type": "code",
   "execution_count": 19,
   "metadata": {
    "collapsed": false
   },
   "outputs": [
    {
     "data": {
      "text/plain": [
       "Physician_Profile_ID  Physician_First_Name  Physician_Last_Name\n",
       "150502                JOSEPH                VALENZA                4460.57\n",
       "724                   JOHN                  SECOY                   100.00\n",
       "143777                JOSEPH                RAMOS                   100.00\n",
       "207712                EDWARD                ALLEGRA                  51.07\n",
       "7127                  NINGNING              HE                       48.87\n",
       "203290                TANYA                 WEISSMAN                 48.47\n",
       "206178                DAVID                 CONYACK                  43.40\n",
       "345487                MOHSEN                KALLINY                  42.27\n",
       "225940                MANISH                SINGH                    37.09\n",
       "191664                JOSEPH                IBRAHIM                  35.56\n",
       "100942                ELIZABETH             BAKER                    33.89\n",
       "201541                PERRY                 HERMAN                   29.52\n",
       "249                   ALAN                  LICHTBROUN               29.07\n",
       "52039                 CHARLES               WEBER                    28.55\n",
       "78140                 NATHANIEL             SUTAIN                   25.88\n",
       "317222                CHRISTOPHER           ROPIAK                   25.87\n",
       "135515                YOHAN                 LEE                      24.92\n",
       "308707                SILVIO                QUAGLIA                  24.60\n",
       "28902                 ANDREW                MEDVEDOVSKY              24.36\n",
       "116343                KEVIN                 KUNKLE                   24.20\n",
       "Name: Total_Amount_of_Payment_USDollars, dtype: float64"
      ]
     },
     "execution_count": 19,
     "metadata": {},
     "output_type": "execute_result"
    }
   ],
   "source": [
    "nuc = pd.read_csv(\"Opioid_payments/Nucynta.csv\")\n",
    "nuc.head()\n",
    "\n",
    "nuc.pivot_table(index=['Physician_Profile_ID','Physician_First_Name','Physician_Last_Name'],values='Total_Amount_of_Payment_USDollars', aggfunc=sum).sort_values(ascending=False).head(20)\n",
    "#appears to be manufactured by Depomed now\n",
    "#but was acquired by Janssen in 2015"
   ]
  },
  {
   "cell_type": "code",
   "execution_count": 25,
   "metadata": {
    "collapsed": false
   },
   "outputs": [
    {
     "data": {
      "text/plain": [
       "Physician_Profile_ID  Physician_First_Name  Physician_Last_Name\n",
       "78140                 NATHANIEL             SUTAIN                 38.41\n",
       "312151                TED                   FREEMAN                35.53\n",
       "77968                 ANIL                  SHARMA                 32.26\n",
       "345990                ASMA                  SIDDIQUI               30.97\n",
       "201541                PERRY                 HERMAN                 29.38\n",
       "259465                MICHAEL               RUDMAN                 22.93\n",
       "416791                MEENAL                PATIL                  22.16\n",
       "72476                 YOUSSEF               JOSEPHSON              22.16\n",
       "33538                 HENRY                 WROBLEWSKI             22.00\n",
       "123014                EDWARD                MAGAZINER              22.00\n",
       "Name: Total_Amount_of_Payment_USDollars, dtype: float64"
      ]
     },
     "execution_count": 25,
     "metadata": {},
     "output_type": "execute_result"
    }
   ],
   "source": [
    "opa = pd.read_csv(\"Opioid_payments/Opanatotal.csv\")\n",
    "opa.head()\n",
    "\n",
    "opa.pivot_table(index=['Physician_Profile_ID','Physician_First_Name','Physician_Last_Name'],values='Total_Amount_of_Payment_USDollars', aggfunc=sum).sort_values(ascending=False).head(10)\n",
    "#owned by Endo Pharma, which also manufacturers Percs\n",
    "#payments totaled ~600"
   ]
  },
  {
   "cell_type": "code",
   "execution_count": 39,
   "metadata": {
    "collapsed": false
   },
   "outputs": [],
   "source": [
    "#taken from CMS list of opioids\n",
    "#https://www.cms.gov/Research-Statistics-Data-and-Systems/Statistics-Trends-and-Reports/Medicare-Provider-Charge-Data/Downloads/Prescriber_Methods.pdf\n",
    "allopioids = ['ABSTRAL', \n",
    "'ACETAMINOPHEN-CODEINE', \n",
    "'ACTIQ', \n",
    "'ASCOMP WITH CODEINE', \n",
    "'ASPIRIN-CAFFEINE-DIHYDROCODEIN', \n",
    "'AVINZA', \n",
    "'BELLADONNA-OPIUM', \n",
    "'BUPRENORPHINE HCL', \n",
    "'BUTALB-ACETAMINOPH-CAFF-CODEIN', \n",
    "'BUTALB-CAFF-ACETAMINOPH-CODEIN', \n",
    "'BUTALBITAL COMPOUND-CODEINE', \n",
    "'BUTORPHANOL TARTRATE', \n",
    "'BUTRANS', \n",
    "'CAPITAL W-CODEINE', \n",
    "'CARISOPRODOL COMPOUND-CODEINE', \n",
    "'CARISOPRODOL-ASPIRIN-CODEINE', \n",
    "'CODEINE SULFATE', \n",
    "'CO-GESIC', \n",
    "'CONZIP', \n",
    "'DEMEROL', \n",
    "'DEMEROL', \n",
    "'DILAUDID', \n",
    "'DILAUDID', \n",
    "'DILAUDID-HP', \n",
    "'DISKETS', \n",
    "'DOLOPHINE HCL', \n",
    "'DURAGESIC', \n",
    "'DURAMORPH', \n",
    "'ENDOCET', \n",
    "'ENDODAN', \n",
    "'EXALGO', \n",
    "'FENTANYL', \n",
    "'FENTANYL CITRATE', \n",
    "'FENTORA', \n",
    "'FIORICET WITH CODEINE', \n",
    "'FIORINAL WITH CODEINE #3', \n",
    "'HYCET', \n",
    "'HYDROCODONE-ACETAMINOPHEN', \n",
    "'HYDROCODONE-IBUPROFEN', \n",
    "'HYDROMORPHONE ER', \n",
    "'HYDROMORPHONE HCL', \n",
    "'HYDROMORPHONE HCL', \n",
    "'IBUDONE', \n",
    "'INFUMORPH', \n",
    "'KADIAN', \n",
    "'LAZANDA', \n",
    "'LEVORPHANOL TARTRATE', \n",
    "'LORCET', \n",
    "'LORCET 10-650', \n",
    "'LORCET HD', \n",
    "'LORCET PLUS', \n",
    "'LORTAB', \n",
    "'MAGNACET', \n",
    "'MEPERIDINE HCL', \n",
    "'MEPERIDINE HCL', \n",
    "'MEPERITAB', \n",
    "'METHADONE HCL', \n",
    "'METHADONE INTENSOL', \n",
    "'METHADOSE', \n",
    "'MORPHINE SULFATE', \n",
    "'MORPHINE SULFATE', \n",
    "'MORPHINE SULFATE ER', \n",
    "'MS CONTIN', \n",
    "'NALBUPHINE HCL', \n",
    "'NORCO', \n",
    "'NUCYNTA', \n",
    "'NUCYNTA ER', \n",
    "'OPANA', \n",
    "'OPANA ER', \n",
    "'OPIUM TINCTURE', \n",
    "'OXECTA', \n",
    "'OXYCODONE HCL', \n",
    "'OXYCODONE HCL ER', \n",
    "'OXYCODONE HCL-ASPIRIN', \n",
    "'OXYCODONE HCL-IBUPROFEN', \n",
    "'OXYCODONE-ACETAMINOPHEN', \n",
    "'OXYCONTIN', \n",
    "'OXYMORPHONE HCL', \n",
    "'OXYMORPHONE HCL ER', \n",
    "'PENTAZOCINE-ACETAMINOPHEN', \n",
    "'PENTAZOCINE-NALOXONE HCL', \n",
    "'PERCOCET', \n",
    "'PERCODAN', \n",
    "'PRIMLEV', \n",
    "'REPREXAIN', \n",
    "'ROXICET', \n",
    "'ROXICODONE', \n",
    "'RYBIX ODT', \n",
    "'STAGESIC', \n",
    "'SUBSYS', \n",
    "'SYNALGOS-DC', \n",
    "'TALWIN', \n",
    "'TRAMADOL HCL', \n",
    "'TRAMADOL HCL ER', \n",
    "'TRAMADOL HCL-ACETAMINOPHEN', \n",
    "'TREZIX', \n",
    "'TYLENOL-CODEINE NO.3', \n",
    "'TYLENOL-CODEINE NO.4', \n",
    "'ULTRACET', \n",
    "'ULTRAM', \n",
    "'ULTRAM ER', \n",
    "'VICODIN', \n",
    "'VICODIN ES', \n",
    "'VICODIN HP', \n",
    "'VICOPROFEN', \n",
    "'XARTEMIS XR', \n",
    "'XODOL 10-300', \n",
    "'XODOL 5-300', \n",
    "'XODOL 7.5-300', \n",
    "'XYLON 10', \n",
    "'ZAMICET', \n",
    "'ZOHYDRO ER', \n",
    "'ZOLVIT']"
   ]
  },
  {
   "cell_type": "code",
   "execution_count": 40,
   "metadata": {
    "collapsed": true
   },
   "outputs": [],
   "source": [
    "def druglist():\n",
    "    for n in allopioids:\n",
    "        thisdrug = df[df['Name_of_Associated_Covered_Drug_or_Biological1'] == n]\n",
    "        if thisdrug['Physician_Profile_ID'].count() > 1:\n",
    "            thisdrug.to_csv(\"2013data/(%s).csv\" %n)\n"
   ]
  },
  {
   "cell_type": "code",
   "execution_count": 41,
   "metadata": {
    "collapsed": false,
    "scrolled": true
   },
   "outputs": [],
   "source": [
    "druglist()"
   ]
  },
  {
   "cell_type": "code",
   "execution_count": 42,
   "metadata": {
    "collapsed": false
   },
   "outputs": [
    {
     "data": {
      "text/plain": [
       "Physician_Profile_ID  Physician_First_Name  Physician_Last_Name\n",
       "268600.0              Todd                  Koppel                 45.71\n",
       "88282.0               Neil                  Sinha                  38.97\n",
       "131591.0              PAVAN                 Tankha                 38.97\n",
       "724.0                 John                  Secoy                  32.81\n",
       "102758.0              Philip                Lutz                   32.81\n",
       "277474.0              Isaiah                Florence               30.30\n",
       "219255.0              JEFFREY               Gudin                  26.67\n",
       "218546.0              John                  Conti                  26.30\n",
       "201620.0              Said                  Saleh                  26.30\n",
       "270037.0              Edwin                 Gangemi                26.15\n",
       "Name: Total_Amount_of_Payment_USDollars, dtype: float64"
      ]
     },
     "execution_count": 42,
     "metadata": {},
     "output_type": "execute_result"
    }
   ],
   "source": [
    "abstral = pd.read_csv(\"2013data/(ABSTRAL).csv\")\n",
    "abstral.head()\n",
    "\n",
    "abstral.pivot_table(index=['Physician_Profile_ID','Physician_First_Name','Physician_Last_Name'],values='Total_Amount_of_Payment_USDollars', aggfunc=sum).sort_values(ascending=False).head(10)\n",
    "#submitted by Galena\n",
    "#owned by sentyl"
   ]
  },
  {
   "cell_type": "code",
   "execution_count": 43,
   "metadata": {
    "collapsed": false
   },
   "outputs": [
    {
     "data": {
      "text/plain": [
       "Physician_Profile_ID  Physician_First_Name  Physician_Last_Name\n",
       "150502.0              Joseph                Valenza                32293.83\n",
       "145653.0              Louis                 Spagnoletti             6995.73\n",
       "201446.0              Andrew                Kaufman                 5461.12\n",
       "225940.0              Manish                Singh                   5393.53\n",
       "82076.0               Jay                   Bowen                   4556.65\n",
       "118540.0              Jessica               Israel                  1500.00\n",
       "219255.0              Jeffrey               Gudin                   1500.00\n",
       "241250.0              John                  Fritz                    267.27\n",
       "359301.0              Fermin                Leon                     242.78\n",
       "357134.0              Corazon               Veloso                   242.78\n",
       "Name: Total_Amount_of_Payment_USDollars, dtype: float64"
      ]
     },
     "execution_count": 43,
     "metadata": {},
     "output_type": "execute_result"
    }
   ],
   "source": [
    "fentora = pd.read_csv(\"2013data/(FENTORA).csv\")\n",
    "\n",
    "fentora.pivot_table(index=['Physician_Profile_ID','Physician_First_Name','Physician_Last_Name'],values='Total_Amount_of_Payment_USDollars', aggfunc=sum).sort_values(ascending=False).head(10)\n",
    "#by Teva?"
   ]
  },
  {
   "cell_type": "code",
   "execution_count": 44,
   "metadata": {
    "collapsed": false
   },
   "outputs": [
    {
     "data": {
      "text/plain": [
       "Physician_Profile_ID  Physician_First_Name  Physician_Last_Name\n",
       "241250.0              JOHN                  FRITZ                  263.54\n",
       "308707.0              SILVIO                QUAGLIA                245.96\n",
       "171892.0              RAVINDER              TIKOO                  152.67\n",
       "68904.0               VITO                  MAZZOCCOLI              43.81\n",
       "Name: Total_Amount_of_Payment_USDollars, dtype: float64"
      ]
     },
     "execution_count": 44,
     "metadata": {},
     "output_type": "execute_result"
    }
   ],
   "source": [
    "prim = pd.read_csv(\"2013data/(PRIMLEV).csv\")\n",
    "\n",
    "prim.pivot_table(index=['Physician_Profile_ID','Physician_First_Name','Physician_Last_Name'],values='Total_Amount_of_Payment_USDollars', aggfunc=sum).sort_values(ascending=False).head(10)\n"
   ]
  },
  {
   "cell_type": "code",
   "execution_count": 47,
   "metadata": {
    "collapsed": false
   },
   "outputs": [
    {
     "data": {
      "text/plain": [
       "Physician_Profile_ID  Physician_First_Name  Physician_Last_Name\n",
       "219255.0              JEFFREY               GUDIN                  17032.95\n",
       "150502.0              JOSEPH                VALENZA                 9339.44\n",
       "201446.0              ANDREW                KAUFMAN                 4758.32\n",
       "225940.0              MANISH                SINGH                   3197.69\n",
       "783574.0              SUSAN                 MORENO                  2459.25\n",
       "124983.0              RICHARD               HADDAD                  1834.00\n",
       "332657.0              DIDIER                DEMESMIN                 816.93\n",
       "210831.0              MATTHEW               LIPP                     660.00\n",
       "12253.0               SUKETU                NANAVATI                 197.69\n",
       "193009.0              SUBHASH               MEHTA                    197.69\n",
       "Name: Total_Amount_of_Payment_USDollars, dtype: float64"
      ]
     },
     "execution_count": 47,
     "metadata": {},
     "output_type": "execute_result"
    }
   ],
   "source": [
    "but = pd.read_csv(\"2013data/(BUTRANS).csv\")\n",
    "\n",
    "but.pivot_table(index=['Physician_Profile_ID','Physician_First_Name','Physician_Last_Name'],values='Total_Amount_of_Payment_USDollars', aggfunc=sum).sort_values(ascending=False).head(10)\n"
   ]
  },
  {
   "cell_type": "code",
   "execution_count": 55,
   "metadata": {
    "collapsed": true
   },
   "outputs": [],
   "source": [
    "def druglistsecondary():\n",
    "    for n in allopioids:\n",
    "        thisdrug = df[df['Name_of_Associated_Covered_Drug_or_Biological2'] == n]\n",
    "        if thisdrug['Physician_Profile_ID'].count() > 1:\n",
    "            thisdrug.to_csv(\"2013data/(%s).csv\" %n)\n"
   ]
  },
  {
   "cell_type": "code",
   "execution_count": 56,
   "metadata": {
    "collapsed": false
   },
   "outputs": [],
   "source": [
    "druglistsecondary()"
   ]
  },
  {
   "cell_type": "code",
   "execution_count": 7,
   "metadata": {
    "collapsed": true
   },
   "outputs": [],
   "source": [
    "import matplotlib.pyplot as plt\n",
    "%matplotlib inline"
   ]
  },
  {
   "cell_type": "code",
   "execution_count": 8,
   "metadata": {
    "collapsed": false
   },
   "outputs": [
    {
     "data": {
      "text/plain": [
       "(array([  4.45419000e+05,   6.00000000e+00,   1.00000000e+00,\n",
       "          0.00000000e+00,   0.00000000e+00,   0.00000000e+00,\n",
       "          0.00000000e+00,   0.00000000e+00,   0.00000000e+00,\n",
       "          0.00000000e+00,   0.00000000e+00,   0.00000000e+00,\n",
       "          0.00000000e+00,   0.00000000e+00,   0.00000000e+00,\n",
       "          0.00000000e+00,   0.00000000e+00,   0.00000000e+00,\n",
       "          0.00000000e+00,   1.00000000e+00]),\n",
       " array([  1.00000000e-02,   2.20252778e+05,   4.40505545e+05,\n",
       "          6.60758312e+05,   8.81011080e+05,   1.10126385e+06,\n",
       "          1.32151661e+06,   1.54176938e+06,   1.76202215e+06,\n",
       "          1.98227492e+06,   2.20252769e+06,   2.42278045e+06,\n",
       "          2.64303322e+06,   2.86328599e+06,   3.08353875e+06,\n",
       "          3.30379152e+06,   3.52404429e+06,   3.74429706e+06,\n",
       "          3.96454983e+06,   4.18480259e+06,   4.40505536e+06]),\n",
       " <a list of 20 Patch objects>)"
      ]
     },
     "execution_count": 8,
     "metadata": {},
     "output_type": "execute_result"
    },
    {
     "data": {
      "image/png": "[encoded data removed]",
      "text/plain": [
       "<matplotlib.figure.Figure at 0x113617050>"
      ]
     },
     "metadata": {},
     "output_type": "display_data"
    }
   ],
   "source": [
    "plt.style.use('fivethirtyeight')\n",
    "plt.hist(df[\"Total_Amount_of_Payment_USDollars\"], bins=20)"
   ]
  },
  {
   "cell_type": "code",
   "execution_count": 9,
   "metadata": {
    "collapsed": false
   },
   "outputs": [
    {
     "data": {
      "text/plain": [
       "{'boxes': [<matplotlib.lines.Line2D at 0x11473fa90>],\n",
       " 'caps': [<matplotlib.lines.Line2D at 0x11474e8d0>,\n",
       "  <matplotlib.lines.Line2D at 0x11474ef10>],\n",
       " 'fliers': [<matplotlib.lines.Line2D at 0x114759bd0>],\n",
       " 'means': [],\n",
       " 'medians': [<matplotlib.lines.Line2D at 0x114759590>],\n",
       " 'whiskers': [<matplotlib.lines.Line2D at 0x1146d1f90>,\n",
       "  <matplotlib.lines.Line2D at 0x11474e290>]}"
      ]
     },
     "execution_count": 9,
     "metadata": {},
     "output_type": "execute_result"
    },
    {
     "data": {
      "image/png": "[encoded data removed]",
      "text/plain": [
       "<matplotlib.figure.Figure at 0x114339450>"
      ]
     },
     "metadata": {},
     "output_type": "display_data"
    }
   ],
   "source": [
    "plt.boxplot(df[\"Total_Amount_of_Payment_USDollars\"])"
   ]
  },
  {
   "cell_type": "code",
   "execution_count": 59,
   "metadata": {
    "collapsed": false,
    "scrolled": true
   },
   "outputs": [],
   "source": [
    "df[df['Name_of_Associated_Covered_Drug_or_Biological1'] == \"Lazanda\"].to_csv(\"2013data/LAZANDA.csv\")"
   ]
  },
  {
   "cell_type": "code",
   "execution_count": 60,
   "metadata": {
    "collapsed": true
   },
   "outputs": [],
   "source": [
    "laz = pd.read_csv(\"2013data/LAZANDA.csv\")"
   ]
  },
  {
   "cell_type": "code",
   "execution_count": 61,
   "metadata": {
    "collapsed": false
   },
   "outputs": [
    {
     "data": {
      "text/plain": [
       "Physician_Profile_ID  Physician_First_Name  Physician_Last_Name\n",
       "289705.0              ANITA                 GUPTA                  3749.56\n",
       "219255.0              JEFFREY               GUDIN                  3521.64\n",
       "21886.0               SAMYADEV              DATTA                    23.58\n",
       "232826.0              YEKYUNG               KONG                     20.45\n",
       "48505.0               STEPHEN               LEVINSON                 20.45\n",
       "78767.0               ELINOR                ANAN                     20.45\n",
       "150502.0              JOSEPH                VALENZA                  20.45\n",
       "185391.0              BARBARA               BENEVENTO                20.45\n",
       "194101.0              JEREMIAH              NIEVES                   20.45\n",
       "198503.0              MONIFA                BROOKS                   20.45\n",
       "Name: Total_Amount_of_Payment_USDollars, dtype: float64"
      ]
     },
     "execution_count": 61,
     "metadata": {},
     "output_type": "execute_result"
    }
   ],
   "source": [
    "laz.pivot_table(index=['Physician_Profile_ID','Physician_First_Name','Physician_Last_Name'],values='Total_Amount_of_Payment_USDollars', aggfunc=sum).sort_values(ascending=False).head(10)\n"
   ]
  }
 ],
 "metadata": {
  "anaconda-cloud": {},
  "kernelspec": {
   "display_name": "Python 2",
   "language": "python",
   "name": "python2"
  },
  "language_info": {
   "codemirror_mode": {
    "name": "ipython",
    "version": 2
   },
   "file_extension": ".py",
   "mimetype": "text/x-python",
   "name": "python",
   "nbconvert_exporter": "python",
   "pygments_lexer": "ipython2",
   "version": "2.7.12"
  }
 },
 "nbformat": 4,
 "nbformat_minor": 0
}
